{
 "cells": [
  {
   "cell_type": "code",
   "execution_count": 1,
   "id": "6c41d044",
   "metadata": {
    "_cell_guid": "b1076dfc-b9ad-4769-8c92-a6c4dae69d19",
    "_uuid": "8f2839f25d086af736a60e9eeb907d3b93b6e0e5",
    "execution": {
     "iopub.execute_input": "2023-02-28T22:56:48.523771Z",
     "iopub.status.busy": "2023-02-28T22:56:48.523451Z",
     "iopub.status.idle": "2023-02-28T22:56:48.541009Z",
     "shell.execute_reply": "2023-02-28T22:56:48.538916Z"
    },
    "papermill": {
     "duration": 0.037185,
     "end_time": "2023-02-28T22:56:48.543208",
     "exception": false,
     "start_time": "2023-02-28T22:56:48.506023",
     "status": "completed"
    },
    "tags": []
   },
   "outputs": [
    {
     "name": "stdout",
     "output_type": "stream",
     "text": [
      "/kaggle/input/insurance/insurance.csv\n"
     ]
    }
   ],
   "source": [
    "# This Python 3 environment comes with many helpful analytics libraries installed\n",
    "# It is defined by the kaggle/python Docker image: https://github.com/kaggle/docker-python\n",
    "# For example, here's several helpful packages to load\n",
    "\n",
    "import numpy as np # linear algebra\n",
    "import pandas as pd # data processing, CSV file I/O (e.g. pd.read_csv)\n",
    "\n",
    "# Input data files are available in the read-only \"../input/\" directory\n",
    "# For example, running this (by clicking run or pressing Shift+Enter) will list all files under the input directory\n",
    "\n",
    "import os\n",
    "for dirname, _, filenames in os.walk('/kaggle/input'):\n",
    "    for filename in filenames:\n",
    "        print(os.path.join(dirname, filename))\n",
    "\n",
    "# You can write up to 20GB to the current directory (/kaggle/working/) that gets preserved as output when you create a version using \"Save & Run All\" \n",
    "# You can also write temporary files to /kaggle/temp/, but they won't be saved outside of the current session"
   ]
  },
  {
   "cell_type": "code",
   "execution_count": 2,
   "id": "e0c7d6ee",
   "metadata": {
    "execution": {
     "iopub.execute_input": "2023-02-28T22:56:48.571351Z",
     "iopub.status.busy": "2023-02-28T22:56:48.571055Z",
     "iopub.status.idle": "2023-02-28T22:56:48.617419Z",
     "shell.execute_reply": "2023-02-28T22:56:48.616537Z"
    },
    "papermill": {
     "duration": 0.062697,
     "end_time": "2023-02-28T22:56:48.619453",
     "exception": false,
     "start_time": "2023-02-28T22:56:48.556756",
     "status": "completed"
    },
    "tags": []
   },
   "outputs": [
    {
     "data": {
      "text/html": [
       "<div>\n",
       "<style scoped>\n",
       "    .dataframe tbody tr th:only-of-type {\n",
       "        vertical-align: middle;\n",
       "    }\n",
       "\n",
       "    .dataframe tbody tr th {\n",
       "        vertical-align: top;\n",
       "    }\n",
       "\n",
       "    .dataframe thead th {\n",
       "        text-align: right;\n",
       "    }\n",
       "</style>\n",
       "<table border=\"1\" class=\"dataframe\">\n",
       "  <thead>\n",
       "    <tr style=\"text-align: right;\">\n",
       "      <th></th>\n",
       "      <th>age</th>\n",
       "      <th>sex</th>\n",
       "      <th>bmi</th>\n",
       "      <th>children</th>\n",
       "      <th>smoker</th>\n",
       "      <th>region</th>\n",
       "      <th>charges</th>\n",
       "    </tr>\n",
       "  </thead>\n",
       "  <tbody>\n",
       "    <tr>\n",
       "      <th>0</th>\n",
       "      <td>19</td>\n",
       "      <td>female</td>\n",
       "      <td>27.900</td>\n",
       "      <td>0</td>\n",
       "      <td>yes</td>\n",
       "      <td>southwest</td>\n",
       "      <td>16884.92400</td>\n",
       "    </tr>\n",
       "    <tr>\n",
       "      <th>1</th>\n",
       "      <td>18</td>\n",
       "      <td>male</td>\n",
       "      <td>33.770</td>\n",
       "      <td>1</td>\n",
       "      <td>no</td>\n",
       "      <td>southeast</td>\n",
       "      <td>1725.55230</td>\n",
       "    </tr>\n",
       "    <tr>\n",
       "      <th>2</th>\n",
       "      <td>28</td>\n",
       "      <td>male</td>\n",
       "      <td>33.000</td>\n",
       "      <td>3</td>\n",
       "      <td>no</td>\n",
       "      <td>southeast</td>\n",
       "      <td>4449.46200</td>\n",
       "    </tr>\n",
       "    <tr>\n",
       "      <th>3</th>\n",
       "      <td>33</td>\n",
       "      <td>male</td>\n",
       "      <td>22.705</td>\n",
       "      <td>0</td>\n",
       "      <td>no</td>\n",
       "      <td>northwest</td>\n",
       "      <td>21984.47061</td>\n",
       "    </tr>\n",
       "    <tr>\n",
       "      <th>4</th>\n",
       "      <td>32</td>\n",
       "      <td>male</td>\n",
       "      <td>28.880</td>\n",
       "      <td>0</td>\n",
       "      <td>no</td>\n",
       "      <td>northwest</td>\n",
       "      <td>3866.85520</td>\n",
       "    </tr>\n",
       "  </tbody>\n",
       "</table>\n",
       "</div>"
      ],
      "text/plain": [
       "   age     sex     bmi  children smoker     region      charges\n",
       "0   19  female  27.900         0    yes  southwest  16884.92400\n",
       "1   18    male  33.770         1     no  southeast   1725.55230\n",
       "2   28    male  33.000         3     no  southeast   4449.46200\n",
       "3   33    male  22.705         0     no  northwest  21984.47061\n",
       "4   32    male  28.880         0     no  northwest   3866.85520"
      ]
     },
     "execution_count": 2,
     "metadata": {},
     "output_type": "execute_result"
    }
   ],
   "source": [
    "data = pd.read_csv(\"/kaggle/input/insurance/insurance.csv\")\n",
    "data.head()"
   ]
  },
  {
   "cell_type": "code",
   "execution_count": 3,
   "id": "5031f907",
   "metadata": {
    "execution": {
     "iopub.execute_input": "2023-02-28T22:56:48.655726Z",
     "iopub.status.busy": "2023-02-28T22:56:48.655157Z",
     "iopub.status.idle": "2023-02-28T22:56:48.659943Z",
     "shell.execute_reply": "2023-02-28T22:56:48.659253Z"
    },
    "papermill": {
     "duration": 0.022962,
     "end_time": "2023-02-28T22:56:48.661651",
     "exception": false,
     "start_time": "2023-02-28T22:56:48.638689",
     "status": "completed"
    },
    "tags": []
   },
   "outputs": [
    {
     "data": {
      "text/plain": [
       "(1338, 7)"
      ]
     },
     "execution_count": 3,
     "metadata": {},
     "output_type": "execute_result"
    }
   ],
   "source": [
    "data.shape"
   ]
  },
  {
   "cell_type": "code",
   "execution_count": 4,
   "id": "a8ea57ac",
   "metadata": {
    "execution": {
     "iopub.execute_input": "2023-02-28T22:56:48.691921Z",
     "iopub.status.busy": "2023-02-28T22:56:48.691373Z",
     "iopub.status.idle": "2023-02-28T22:56:48.713254Z",
     "shell.execute_reply": "2023-02-28T22:56:48.711851Z"
    },
    "papermill": {
     "duration": 0.039796,
     "end_time": "2023-02-28T22:56:48.715618",
     "exception": false,
     "start_time": "2023-02-28T22:56:48.675822",
     "status": "completed"
    },
    "tags": []
   },
   "outputs": [
    {
     "name": "stdout",
     "output_type": "stream",
     "text": [
      "<class 'pandas.core.frame.DataFrame'>\n",
      "RangeIndex: 1338 entries, 0 to 1337\n",
      "Data columns (total 7 columns):\n",
      " #   Column    Non-Null Count  Dtype  \n",
      "---  ------    --------------  -----  \n",
      " 0   age       1338 non-null   int64  \n",
      " 1   sex       1338 non-null   object \n",
      " 2   bmi       1338 non-null   float64\n",
      " 3   children  1338 non-null   int64  \n",
      " 4   smoker    1338 non-null   object \n",
      " 5   region    1338 non-null   object \n",
      " 6   charges   1338 non-null   float64\n",
      "dtypes: float64(2), int64(2), object(3)\n",
      "memory usage: 73.3+ KB\n"
     ]
    }
   ],
   "source": [
    "data.info()"
   ]
  },
  {
   "cell_type": "code",
   "execution_count": 5,
   "id": "7b19fe43",
   "metadata": {
    "execution": {
     "iopub.execute_input": "2023-02-28T22:56:48.749058Z",
     "iopub.status.busy": "2023-02-28T22:56:48.747350Z",
     "iopub.status.idle": "2023-02-28T22:56:48.758278Z",
     "shell.execute_reply": "2023-02-28T22:56:48.757339Z"
    },
    "papermill": {
     "duration": 0.029482,
     "end_time": "2023-02-28T22:56:48.760442",
     "exception": false,
     "start_time": "2023-02-28T22:56:48.730960",
     "status": "completed"
    },
    "tags": []
   },
   "outputs": [
    {
     "data": {
      "text/plain": [
       "age         0\n",
       "sex         0\n",
       "bmi         0\n",
       "children    0\n",
       "smoker      0\n",
       "region      0\n",
       "charges     0\n",
       "dtype: int64"
      ]
     },
     "execution_count": 5,
     "metadata": {},
     "output_type": "execute_result"
    }
   ],
   "source": [
    "data.isnull().sum()"
   ]
  },
  {
   "cell_type": "code",
   "execution_count": 6,
   "id": "388afbcb",
   "metadata": {
    "execution": {
     "iopub.execute_input": "2023-02-28T22:56:48.792219Z",
     "iopub.status.busy": "2023-02-28T22:56:48.791541Z",
     "iopub.status.idle": "2023-02-28T22:56:48.803200Z",
     "shell.execute_reply": "2023-02-28T22:56:48.801906Z"
    },
    "papermill": {
     "duration": 0.029927,
     "end_time": "2023-02-28T22:56:48.805692",
     "exception": false,
     "start_time": "2023-02-28T22:56:48.775765",
     "status": "completed"
    },
    "tags": []
   },
   "outputs": [
    {
     "data": {
      "text/plain": [
       "1"
      ]
     },
     "execution_count": 6,
     "metadata": {},
     "output_type": "execute_result"
    }
   ],
   "source": [
    "data.duplicated().sum()"
   ]
  },
  {
   "cell_type": "code",
   "execution_count": 7,
   "id": "ea0ca89c",
   "metadata": {
    "execution": {
     "iopub.execute_input": "2023-02-28T22:56:48.839566Z",
     "iopub.status.busy": "2023-02-28T22:56:48.838931Z",
     "iopub.status.idle": "2023-02-28T22:56:48.850488Z",
     "shell.execute_reply": "2023-02-28T22:56:48.849348Z"
    },
    "papermill": {
     "duration": 0.032064,
     "end_time": "2023-02-28T22:56:48.852450",
     "exception": false,
     "start_time": "2023-02-28T22:56:48.820386",
     "status": "completed"
    },
    "tags": []
   },
   "outputs": [
    {
     "data": {
      "text/html": [
       "<div>\n",
       "<style scoped>\n",
       "    .dataframe tbody tr th:only-of-type {\n",
       "        vertical-align: middle;\n",
       "    }\n",
       "\n",
       "    .dataframe tbody tr th {\n",
       "        vertical-align: top;\n",
       "    }\n",
       "\n",
       "    .dataframe thead th {\n",
       "        text-align: right;\n",
       "    }\n",
       "</style>\n",
       "<table border=\"1\" class=\"dataframe\">\n",
       "  <thead>\n",
       "    <tr style=\"text-align: right;\">\n",
       "      <th></th>\n",
       "      <th>age</th>\n",
       "      <th>sex</th>\n",
       "      <th>bmi</th>\n",
       "      <th>children</th>\n",
       "      <th>smoker</th>\n",
       "      <th>region</th>\n",
       "      <th>charges</th>\n",
       "    </tr>\n",
       "  </thead>\n",
       "  <tbody>\n",
       "    <tr>\n",
       "      <th>581</th>\n",
       "      <td>19</td>\n",
       "      <td>male</td>\n",
       "      <td>30.59</td>\n",
       "      <td>0</td>\n",
       "      <td>no</td>\n",
       "      <td>northwest</td>\n",
       "      <td>1639.5631</td>\n",
       "    </tr>\n",
       "  </tbody>\n",
       "</table>\n",
       "</div>"
      ],
      "text/plain": [
       "     age   sex    bmi  children smoker     region    charges\n",
       "581   19  male  30.59         0     no  northwest  1639.5631"
      ]
     },
     "execution_count": 7,
     "metadata": {},
     "output_type": "execute_result"
    }
   ],
   "source": [
    "data[data.duplicated()]"
   ]
  },
  {
   "cell_type": "code",
   "execution_count": 8,
   "id": "b6086ddd",
   "metadata": {
    "execution": {
     "iopub.execute_input": "2023-02-28T22:56:48.883359Z",
     "iopub.status.busy": "2023-02-28T22:56:48.882901Z",
     "iopub.status.idle": "2023-02-28T22:56:48.895489Z",
     "shell.execute_reply": "2023-02-28T22:56:48.894059Z"
    },
    "papermill": {
     "duration": 0.031127,
     "end_time": "2023-02-28T22:56:48.897446",
     "exception": false,
     "start_time": "2023-02-28T22:56:48.866319",
     "status": "completed"
    },
    "tags": []
   },
   "outputs": [
    {
     "data": {
      "text/html": [
       "<div>\n",
       "<style scoped>\n",
       "    .dataframe tbody tr th:only-of-type {\n",
       "        vertical-align: middle;\n",
       "    }\n",
       "\n",
       "    .dataframe tbody tr th {\n",
       "        vertical-align: top;\n",
       "    }\n",
       "\n",
       "    .dataframe thead th {\n",
       "        text-align: right;\n",
       "    }\n",
       "</style>\n",
       "<table border=\"1\" class=\"dataframe\">\n",
       "  <thead>\n",
       "    <tr style=\"text-align: right;\">\n",
       "      <th></th>\n",
       "      <th>age</th>\n",
       "      <th>sex</th>\n",
       "      <th>bmi</th>\n",
       "      <th>children</th>\n",
       "      <th>smoker</th>\n",
       "      <th>region</th>\n",
       "      <th>charges</th>\n",
       "    </tr>\n",
       "  </thead>\n",
       "  <tbody>\n",
       "    <tr>\n",
       "      <th>195</th>\n",
       "      <td>19</td>\n",
       "      <td>male</td>\n",
       "      <td>30.59</td>\n",
       "      <td>0</td>\n",
       "      <td>no</td>\n",
       "      <td>northwest</td>\n",
       "      <td>1639.5631</td>\n",
       "    </tr>\n",
       "    <tr>\n",
       "      <th>581</th>\n",
       "      <td>19</td>\n",
       "      <td>male</td>\n",
       "      <td>30.59</td>\n",
       "      <td>0</td>\n",
       "      <td>no</td>\n",
       "      <td>northwest</td>\n",
       "      <td>1639.5631</td>\n",
       "    </tr>\n",
       "  </tbody>\n",
       "</table>\n",
       "</div>"
      ],
      "text/plain": [
       "     age   sex    bmi  children smoker     region    charges\n",
       "195   19  male  30.59         0     no  northwest  1639.5631\n",
       "581   19  male  30.59         0     no  northwest  1639.5631"
      ]
     },
     "execution_count": 8,
     "metadata": {},
     "output_type": "execute_result"
    }
   ],
   "source": [
    "data[(data[\"age\"]==19)&(data[\"charges\"]==1639.5631)]"
   ]
  },
  {
   "cell_type": "code",
   "execution_count": 9,
   "id": "aaa8cc7c",
   "metadata": {
    "execution": {
     "iopub.execute_input": "2023-02-28T22:56:48.930652Z",
     "iopub.status.busy": "2023-02-28T22:56:48.929346Z",
     "iopub.status.idle": "2023-02-28T22:56:48.952281Z",
     "shell.execute_reply": "2023-02-28T22:56:48.951285Z"
    },
    "papermill": {
     "duration": 0.042611,
     "end_time": "2023-02-28T22:56:48.954576",
     "exception": false,
     "start_time": "2023-02-28T22:56:48.911965",
     "status": "completed"
    },
    "tags": []
   },
   "outputs": [
    {
     "data": {
      "text/html": [
       "<div>\n",
       "<style scoped>\n",
       "    .dataframe tbody tr th:only-of-type {\n",
       "        vertical-align: middle;\n",
       "    }\n",
       "\n",
       "    .dataframe tbody tr th {\n",
       "        vertical-align: top;\n",
       "    }\n",
       "\n",
       "    .dataframe thead th {\n",
       "        text-align: right;\n",
       "    }\n",
       "</style>\n",
       "<table border=\"1\" class=\"dataframe\">\n",
       "  <thead>\n",
       "    <tr style=\"text-align: right;\">\n",
       "      <th></th>\n",
       "      <th>age</th>\n",
       "      <th>bmi</th>\n",
       "      <th>children</th>\n",
       "      <th>charges</th>\n",
       "    </tr>\n",
       "  </thead>\n",
       "  <tbody>\n",
       "    <tr>\n",
       "      <th>count</th>\n",
       "      <td>1338.000000</td>\n",
       "      <td>1338.000000</td>\n",
       "      <td>1338.000000</td>\n",
       "      <td>1338.000000</td>\n",
       "    </tr>\n",
       "    <tr>\n",
       "      <th>mean</th>\n",
       "      <td>39.207025</td>\n",
       "      <td>30.663397</td>\n",
       "      <td>1.094918</td>\n",
       "      <td>13270.422265</td>\n",
       "    </tr>\n",
       "    <tr>\n",
       "      <th>std</th>\n",
       "      <td>14.049960</td>\n",
       "      <td>6.098187</td>\n",
       "      <td>1.205493</td>\n",
       "      <td>12110.011237</td>\n",
       "    </tr>\n",
       "    <tr>\n",
       "      <th>min</th>\n",
       "      <td>18.000000</td>\n",
       "      <td>15.960000</td>\n",
       "      <td>0.000000</td>\n",
       "      <td>1121.873900</td>\n",
       "    </tr>\n",
       "    <tr>\n",
       "      <th>25%</th>\n",
       "      <td>27.000000</td>\n",
       "      <td>26.296250</td>\n",
       "      <td>0.000000</td>\n",
       "      <td>4740.287150</td>\n",
       "    </tr>\n",
       "    <tr>\n",
       "      <th>50%</th>\n",
       "      <td>39.000000</td>\n",
       "      <td>30.400000</td>\n",
       "      <td>1.000000</td>\n",
       "      <td>9382.033000</td>\n",
       "    </tr>\n",
       "    <tr>\n",
       "      <th>75%</th>\n",
       "      <td>51.000000</td>\n",
       "      <td>34.693750</td>\n",
       "      <td>2.000000</td>\n",
       "      <td>16639.912515</td>\n",
       "    </tr>\n",
       "    <tr>\n",
       "      <th>max</th>\n",
       "      <td>64.000000</td>\n",
       "      <td>53.130000</td>\n",
       "      <td>5.000000</td>\n",
       "      <td>63770.428010</td>\n",
       "    </tr>\n",
       "  </tbody>\n",
       "</table>\n",
       "</div>"
      ],
      "text/plain": [
       "               age          bmi     children       charges\n",
       "count  1338.000000  1338.000000  1338.000000   1338.000000\n",
       "mean     39.207025    30.663397     1.094918  13270.422265\n",
       "std      14.049960     6.098187     1.205493  12110.011237\n",
       "min      18.000000    15.960000     0.000000   1121.873900\n",
       "25%      27.000000    26.296250     0.000000   4740.287150\n",
       "50%      39.000000    30.400000     1.000000   9382.033000\n",
       "75%      51.000000    34.693750     2.000000  16639.912515\n",
       "max      64.000000    53.130000     5.000000  63770.428010"
      ]
     },
     "execution_count": 9,
     "metadata": {},
     "output_type": "execute_result"
    }
   ],
   "source": [
    "data.describe()"
   ]
  },
  {
   "cell_type": "code",
   "execution_count": 10,
   "id": "4aec5d6a",
   "metadata": {
    "execution": {
     "iopub.execute_input": "2023-02-28T22:56:48.989776Z",
     "iopub.status.busy": "2023-02-28T22:56:48.989260Z",
     "iopub.status.idle": "2023-02-28T22:56:48.995282Z",
     "shell.execute_reply": "2023-02-28T22:56:48.993838Z"
    },
    "papermill": {
     "duration": 0.024874,
     "end_time": "2023-02-28T22:56:48.998049",
     "exception": false,
     "start_time": "2023-02-28T22:56:48.973175",
     "status": "completed"
    },
    "tags": []
   },
   "outputs": [],
   "source": [
    "col_num = [col for col in data.columns if data[col].dtypes not in [\"object\"]]\n",
    "col_cat = [col for col in data.columns if data[col].dtypes in [\"object\"]]"
   ]
  },
  {
   "cell_type": "code",
   "execution_count": 11,
   "id": "a956c7a2",
   "metadata": {
    "execution": {
     "iopub.execute_input": "2023-02-28T22:56:49.030963Z",
     "iopub.status.busy": "2023-02-28T22:56:49.030461Z",
     "iopub.status.idle": "2023-02-28T22:56:49.036156Z",
     "shell.execute_reply": "2023-02-28T22:56:49.035266Z"
    },
    "papermill": {
     "duration": 0.023993,
     "end_time": "2023-02-28T22:56:49.037881",
     "exception": false,
     "start_time": "2023-02-28T22:56:49.013888",
     "status": "completed"
    },
    "tags": []
   },
   "outputs": [
    {
     "data": {
      "text/plain": [
       "(4, 3)"
      ]
     },
     "execution_count": 11,
     "metadata": {},
     "output_type": "execute_result"
    }
   ],
   "source": [
    "len(col_num), len(col_cat)"
   ]
  },
  {
   "cell_type": "markdown",
   "id": "fbe61893",
   "metadata": {
    "papermill": {
     "duration": 0.014735,
     "end_time": "2023-02-28T22:56:49.067769",
     "exception": false,
     "start_time": "2023-02-28T22:56:49.053034",
     "status": "completed"
    },
    "tags": []
   },
   "source": [
    "## Descripción del dataset.\n",
    "* #### El dataset contiene 1338 filas y 7 columnas.\n",
    "* #### 7 de esas columnas 6 son variables independientes y 1 es dependiente (charges).\n",
    "* #### Contiene 4 columnas numéricas siendo la variable dependiente una de ellas y 3 columnas categóricas.\n",
    "* #### No tiene valores nulos.\n",
    "* #### Tiene una fila duplicada pero por razones de que pueden haber dos personas con la misma edad, mismo indice de masa corporal, mismo sexo, que no fumen, sin hijos y de la misma región es que decido no eliminar una de ellas del dataset. Si hubiera más información, por ejemplo, que si tuvieran el mismo nombre y/o mismo DNI, ya habría tenido razones para aceptar que cargaron a la misma persona 2 veces."
   ]
  },
  {
   "cell_type": "markdown",
   "id": "0824f32d",
   "metadata": {
    "papermill": {
     "duration": 0.014663,
     "end_time": "2023-02-28T22:56:49.097453",
     "exception": false,
     "start_time": "2023-02-28T22:56:49.082790",
     "status": "completed"
    },
    "tags": []
   },
   "source": [
    "## Análisis de variables numéricas\n",
    "### Variable dependiente (\"charges\")"
   ]
  },
  {
   "cell_type": "code",
   "execution_count": 12,
   "id": "adf31954",
   "metadata": {
    "execution": {
     "iopub.execute_input": "2023-02-28T22:56:49.129221Z",
     "iopub.status.busy": "2023-02-28T22:56:49.128753Z",
     "iopub.status.idle": "2023-02-28T22:56:50.115029Z",
     "shell.execute_reply": "2023-02-28T22:56:50.113747Z"
    },
    "papermill": {
     "duration": 1.004722,
     "end_time": "2023-02-28T22:56:50.117290",
     "exception": false,
     "start_time": "2023-02-28T22:56:49.112568",
     "status": "completed"
    },
    "tags": []
   },
   "outputs": [],
   "source": [
    "import matplotlib.pyplot as plt\n",
    "import seaborn as sns"
   ]
  },
  {
   "cell_type": "code",
   "execution_count": 13,
   "id": "4173da1f",
   "metadata": {
    "execution": {
     "iopub.execute_input": "2023-02-28T22:56:50.147310Z",
     "iopub.status.busy": "2023-02-28T22:56:50.147016Z",
     "iopub.status.idle": "2023-02-28T22:56:50.449320Z",
     "shell.execute_reply": "2023-02-28T22:56:50.448405Z"
    },
    "papermill": {
     "duration": 0.320124,
     "end_time": "2023-02-28T22:56:50.451621",
     "exception": false,
     "start_time": "2023-02-28T22:56:50.131497",
     "status": "completed"
    },
    "tags": []
   },
   "outputs": [
    {
     "data": {
      "image/png": "[encoded data removed]",
      "text/plain": [
       "<Figure size 1000x400 with 2 Axes>"
      ]
     },
     "metadata": {},
     "output_type": "display_data"
    }
   ],
   "source": [
    "plt.figure(figsize=(10,4))\n",
    "\n",
    "plt.subplot(1,2,1)\n",
    "sns.histplot(data[\"charges\"], kde=True)\n",
    "\n",
    "plt.subplot(1,2,2)\n",
    "sns.boxplot(data[\"charges\"])\n",
    "\n",
    "plt.show()"
   ]
  },
  {
   "cell_type": "code",
   "execution_count": 14,
   "id": "00058bbf",
   "metadata": {
    "execution": {
     "iopub.execute_input": "2023-02-28T22:56:50.483854Z",
     "iopub.status.busy": "2023-02-28T22:56:50.483575Z",
     "iopub.status.idle": "2023-02-28T22:56:50.493589Z",
     "shell.execute_reply": "2023-02-28T22:56:50.492674Z"
    },
    "papermill": {
     "duration": 0.028587,
     "end_time": "2023-02-28T22:56:50.495614",
     "exception": false,
     "start_time": "2023-02-28T22:56:50.467027",
     "status": "completed"
    },
    "tags": []
   },
   "outputs": [
    {
     "data": {
      "text/plain": [
       "count     1338.000000\n",
       "mean     13270.422265\n",
       "std      12110.011237\n",
       "min       1121.873900\n",
       "25%       4740.287150\n",
       "50%       9382.033000\n",
       "75%      16639.912515\n",
       "max      63770.428010\n",
       "Name: charges, dtype: float64"
      ]
     },
     "execution_count": 14,
     "metadata": {},
     "output_type": "execute_result"
    }
   ],
   "source": [
    "data[\"charges\"].describe()"
   ]
  },
  {
   "cell_type": "markdown",
   "id": "8083891a",
   "metadata": {
    "papermill": {
     "duration": 0.015582,
     "end_time": "2023-02-28T22:56:50.527130",
     "exception": false,
     "start_time": "2023-02-28T22:56:50.511548",
     "status": "completed"
    },
    "tags": []
   },
   "source": [
    "> #### Descripción variable dependiente\n",
    "* #### El histograma presenta una asimetría positiva.\n",
    "* #### Los costos tienen una media de 13.270 con una desviación estándar de 12.110\n",
    "* #### El 75% de los costos están por debajo de 16.639 mientras que el 15% restante está entre 16.640 y 63.770"
   ]
  },
  {
   "cell_type": "markdown",
   "id": "cd9e5878",
   "metadata": {
    "papermill": {
     "duration": 0.015459,
     "end_time": "2023-02-28T22:56:50.558924",
     "exception": false,
     "start_time": "2023-02-28T22:56:50.543465",
     "status": "completed"
    },
    "tags": []
   },
   "source": [
    "### Variables independientes"
   ]
  },
  {
   "cell_type": "code",
   "execution_count": 15,
   "id": "b1cee120",
   "metadata": {
    "execution": {
     "iopub.execute_input": "2023-02-28T22:56:50.595574Z",
     "iopub.status.busy": "2023-02-28T22:56:50.595215Z",
     "iopub.status.idle": "2023-02-28T22:56:51.154616Z",
     "shell.execute_reply": "2023-02-28T22:56:51.153841Z"
    },
    "papermill": {
     "duration": 0.581578,
     "end_time": "2023-02-28T22:56:51.156529",
     "exception": false,
     "start_time": "2023-02-28T22:56:50.574951",
     "status": "completed"
    },
    "tags": []
   },
   "outputs": [
    {
     "data": {
      "image/png": "[encoded data removed]",
      "text/plain": [
       "<Figure size 500x300 with 1 Axes>"
      ]
     },
     "metadata": {},
     "output_type": "display_data"
    },
    {
     "data": {
      "image/png": "[encoded data removed]",
      "text/plain": [
       "<Figure size 500x300 with 1 Axes>"
      ]
     },
     "metadata": {},
     "output_type": "display_data"
    },
    {
     "data": {
      "image/png": "[encoded data removed]",
      "text/plain": [
       "<Figure size 500x300 with 1 Axes>"
      ]
     },
     "metadata": {},
     "output_type": "display_data"
    },
    {
     "data": {
      "image/png": "[encoded data removed]",
      "text/plain": [
       "<Figure size 500x300 with 1 Axes>"
      ]
     },
     "metadata": {},
     "output_type": "display_data"
    }
   ],
   "source": [
    "for col in col_num:\n",
    "    plt.figure(figsize=(5,3))\n",
    "    plt.scatter(x=data[col],y=data[\"charges\"])\n",
    "    plt.ylabel(\"Charges\")\n",
    "    plt.xlabel(col)\n",
    "    plt.show()"
   ]
  },
  {
   "cell_type": "code",
   "execution_count": 16,
   "id": "a5c433e4",
   "metadata": {
    "execution": {
     "iopub.execute_input": "2023-02-28T22:56:51.192946Z",
     "iopub.status.busy": "2023-02-28T22:56:51.192017Z",
     "iopub.status.idle": "2023-02-28T22:56:51.202751Z",
     "shell.execute_reply": "2023-02-28T22:56:51.201865Z"
    },
    "papermill": {
     "duration": 0.030706,
     "end_time": "2023-02-28T22:56:51.204542",
     "exception": false,
     "start_time": "2023-02-28T22:56:51.173836",
     "status": "completed"
    },
    "tags": []
   },
   "outputs": [
    {
     "data": {
      "text/html": [
       "<div>\n",
       "<style scoped>\n",
       "    .dataframe tbody tr th:only-of-type {\n",
       "        vertical-align: middle;\n",
       "    }\n",
       "\n",
       "    .dataframe tbody tr th {\n",
       "        vertical-align: top;\n",
       "    }\n",
       "\n",
       "    .dataframe thead th {\n",
       "        text-align: right;\n",
       "    }\n",
       "</style>\n",
       "<table border=\"1\" class=\"dataframe\">\n",
       "  <thead>\n",
       "    <tr style=\"text-align: right;\">\n",
       "      <th></th>\n",
       "      <th>age</th>\n",
       "      <th>bmi</th>\n",
       "      <th>children</th>\n",
       "      <th>charges</th>\n",
       "    </tr>\n",
       "  </thead>\n",
       "  <tbody>\n",
       "    <tr>\n",
       "      <th>age</th>\n",
       "      <td>1.000000</td>\n",
       "      <td>0.109272</td>\n",
       "      <td>0.042469</td>\n",
       "      <td>0.299008</td>\n",
       "    </tr>\n",
       "    <tr>\n",
       "      <th>bmi</th>\n",
       "      <td>0.109272</td>\n",
       "      <td>1.000000</td>\n",
       "      <td>0.012759</td>\n",
       "      <td>0.198341</td>\n",
       "    </tr>\n",
       "    <tr>\n",
       "      <th>children</th>\n",
       "      <td>0.042469</td>\n",
       "      <td>0.012759</td>\n",
       "      <td>1.000000</td>\n",
       "      <td>0.067998</td>\n",
       "    </tr>\n",
       "    <tr>\n",
       "      <th>charges</th>\n",
       "      <td>0.299008</td>\n",
       "      <td>0.198341</td>\n",
       "      <td>0.067998</td>\n",
       "      <td>1.000000</td>\n",
       "    </tr>\n",
       "  </tbody>\n",
       "</table>\n",
       "</div>"
      ],
      "text/plain": [
       "               age       bmi  children   charges\n",
       "age       1.000000  0.109272  0.042469  0.299008\n",
       "bmi       0.109272  1.000000  0.012759  0.198341\n",
       "children  0.042469  0.012759  1.000000  0.067998\n",
       "charges   0.299008  0.198341  0.067998  1.000000"
      ]
     },
     "execution_count": 16,
     "metadata": {},
     "output_type": "execute_result"
    }
   ],
   "source": [
    "data[col_num].corr()"
   ]
  },
  {
   "cell_type": "markdown",
   "id": "46988e40",
   "metadata": {
    "papermill": {
     "duration": 0.016424,
     "end_time": "2023-02-28T22:56:51.238090",
     "exception": false,
     "start_time": "2023-02-28T22:56:51.221666",
     "status": "completed"
    },
    "tags": []
   },
   "source": [
    "### Descripción de correlación de las variables numéricas contra la variable dependiente.\n",
    "* #### No hay una correlación fuerte en alguna de las variables númericas con la variable dependiente, ninguna supera el 30%."
   ]
  },
  {
   "cell_type": "code",
   "execution_count": 17,
   "id": "803199d1",
   "metadata": {
    "execution": {
     "iopub.execute_input": "2023-02-28T22:56:51.272851Z",
     "iopub.status.busy": "2023-02-28T22:56:51.272537Z",
     "iopub.status.idle": "2023-02-28T22:56:52.399064Z",
     "shell.execute_reply": "2023-02-28T22:56:52.397689Z"
    },
    "papermill": {
     "duration": 1.146423,
     "end_time": "2023-02-28T22:56:52.401166",
     "exception": false,
     "start_time": "2023-02-28T22:56:51.254743",
     "status": "completed"
    },
    "tags": []
   },
   "outputs": [
    {
     "data": {
      "image/png": "[encoded data removed]",
      "text/plain": [
       "<Figure size 1000x400 with 2 Axes>"
      ]
     },
     "metadata": {},
     "output_type": "display_data"
    },
    {
     "data": {
      "image/png": "[encoded data removed]",
      "text/plain": [
       "<Figure size 1000x400 with 2 Axes>"
      ]
     },
     "metadata": {},
     "output_type": "display_data"
    },
    {
     "data": {
      "image/png": "[encoded data removed]",
      "text/plain": [
       "<Figure size 1000x400 with 2 Axes>"
      ]
     },
     "metadata": {},
     "output_type": "display_data"
    },
    {
     "data": {
      "image/png": "[encoded data removed]",
      "text/plain": [
       "<Figure size 1000x400 with 2 Axes>"
      ]
     },
     "metadata": {},
     "output_type": "display_data"
    }
   ],
   "source": [
    "for col in col_num:\n",
    "    plt.figure(figsize=(10,4))\n",
    "    \n",
    "    plt.subplot(1,2,1)\n",
    "    plt.title(col+\" GraficaDistribución\")\n",
    "    sns.histplot(data[col])\n",
    "    \n",
    "    plt.subplot(1,2,2)\n",
    "    plt.title(col+\" Boxplot\")\n",
    "    sns.boxplot(y=data[col])\n",
    "    \n",
    "    plt.show()"
   ]
  },
  {
   "cell_type": "code",
   "execution_count": 18,
   "id": "dee70f89",
   "metadata": {
    "execution": {
     "iopub.execute_input": "2023-02-28T22:56:52.440877Z",
     "iopub.status.busy": "2023-02-28T22:56:52.440082Z",
     "iopub.status.idle": "2023-02-28T22:56:52.462630Z",
     "shell.execute_reply": "2023-02-28T22:56:52.461108Z"
    },
    "papermill": {
     "duration": 0.044767,
     "end_time": "2023-02-28T22:56:52.464910",
     "exception": false,
     "start_time": "2023-02-28T22:56:52.420143",
     "status": "completed"
    },
    "tags": []
   },
   "outputs": [
    {
     "data": {
      "text/html": [
       "<div>\n",
       "<style scoped>\n",
       "    .dataframe tbody tr th:only-of-type {\n",
       "        vertical-align: middle;\n",
       "    }\n",
       "\n",
       "    .dataframe tbody tr th {\n",
       "        vertical-align: top;\n",
       "    }\n",
       "\n",
       "    .dataframe thead th {\n",
       "        text-align: right;\n",
       "    }\n",
       "</style>\n",
       "<table border=\"1\" class=\"dataframe\">\n",
       "  <thead>\n",
       "    <tr style=\"text-align: right;\">\n",
       "      <th></th>\n",
       "      <th>age</th>\n",
       "      <th>bmi</th>\n",
       "      <th>children</th>\n",
       "      <th>charges</th>\n",
       "    </tr>\n",
       "  </thead>\n",
       "  <tbody>\n",
       "    <tr>\n",
       "      <th>count</th>\n",
       "      <td>1338.000000</td>\n",
       "      <td>1338.000000</td>\n",
       "      <td>1338.000000</td>\n",
       "      <td>1338.000000</td>\n",
       "    </tr>\n",
       "    <tr>\n",
       "      <th>mean</th>\n",
       "      <td>39.207025</td>\n",
       "      <td>30.663397</td>\n",
       "      <td>1.094918</td>\n",
       "      <td>13270.422265</td>\n",
       "    </tr>\n",
       "    <tr>\n",
       "      <th>std</th>\n",
       "      <td>14.049960</td>\n",
       "      <td>6.098187</td>\n",
       "      <td>1.205493</td>\n",
       "      <td>12110.011237</td>\n",
       "    </tr>\n",
       "    <tr>\n",
       "      <th>min</th>\n",
       "      <td>18.000000</td>\n",
       "      <td>15.960000</td>\n",
       "      <td>0.000000</td>\n",
       "      <td>1121.873900</td>\n",
       "    </tr>\n",
       "    <tr>\n",
       "      <th>25%</th>\n",
       "      <td>27.000000</td>\n",
       "      <td>26.296250</td>\n",
       "      <td>0.000000</td>\n",
       "      <td>4740.287150</td>\n",
       "    </tr>\n",
       "    <tr>\n",
       "      <th>50%</th>\n",
       "      <td>39.000000</td>\n",
       "      <td>30.400000</td>\n",
       "      <td>1.000000</td>\n",
       "      <td>9382.033000</td>\n",
       "    </tr>\n",
       "    <tr>\n",
       "      <th>75%</th>\n",
       "      <td>51.000000</td>\n",
       "      <td>34.693750</td>\n",
       "      <td>2.000000</td>\n",
       "      <td>16639.912515</td>\n",
       "    </tr>\n",
       "    <tr>\n",
       "      <th>max</th>\n",
       "      <td>64.000000</td>\n",
       "      <td>53.130000</td>\n",
       "      <td>5.000000</td>\n",
       "      <td>63770.428010</td>\n",
       "    </tr>\n",
       "  </tbody>\n",
       "</table>\n",
       "</div>"
      ],
      "text/plain": [
       "               age          bmi     children       charges\n",
       "count  1338.000000  1338.000000  1338.000000   1338.000000\n",
       "mean     39.207025    30.663397     1.094918  13270.422265\n",
       "std      14.049960     6.098187     1.205493  12110.011237\n",
       "min      18.000000    15.960000     0.000000   1121.873900\n",
       "25%      27.000000    26.296250     0.000000   4740.287150\n",
       "50%      39.000000    30.400000     1.000000   9382.033000\n",
       "75%      51.000000    34.693750     2.000000  16639.912515\n",
       "max      64.000000    53.130000     5.000000  63770.428010"
      ]
     },
     "execution_count": 18,
     "metadata": {},
     "output_type": "execute_result"
    }
   ],
   "source": [
    "data[col_num].describe()"
   ]
  },
  {
   "cell_type": "markdown",
   "id": "bb9d2e59",
   "metadata": {
    "papermill": {
     "duration": 0.018304,
     "end_time": "2023-02-28T22:56:52.501863",
     "exception": false,
     "start_time": "2023-02-28T22:56:52.483559",
     "status": "completed"
    },
    "tags": []
   },
   "source": [
    "### Descripción variables numéricas.\n",
    "* #### La mayor cantidad de personas son las que tienen 20 años, sin embargo por la cantidad de datos el promedio de edad es de 39 años.\n",
    "* #### El promedio de indice de masa corporal es 30.\n",
    "* #### Hay más personas sin hijos afiliados al seguro, sin embargo el promedio de hijos por personas es 1."
   ]
  },
  {
   "cell_type": "markdown",
   "id": "0b405757",
   "metadata": {
    "papermill": {
     "duration": 0.018293,
     "end_time": "2023-02-28T22:56:52.538591",
     "exception": false,
     "start_time": "2023-02-28T22:56:52.520298",
     "status": "completed"
    },
    "tags": []
   },
   "source": [
    "## Análisis de variables categóricas."
   ]
  },
  {
   "cell_type": "code",
   "execution_count": 19,
   "id": "6e75a7cc",
   "metadata": {
    "execution": {
     "iopub.execute_input": "2023-02-28T22:56:52.578534Z",
     "iopub.status.busy": "2023-02-28T22:56:52.577122Z",
     "iopub.status.idle": "2023-02-28T22:56:53.215224Z",
     "shell.execute_reply": "2023-02-28T22:56:53.213996Z"
    },
    "papermill": {
     "duration": 0.660847,
     "end_time": "2023-02-28T22:56:53.218064",
     "exception": false,
     "start_time": "2023-02-28T22:56:52.557217",
     "status": "completed"
    },
    "tags": []
   },
   "outputs": [
    {
     "data": {
      "image/png": "[encoded data removed]",
      "text/plain": [
       "<Figure size 1100x400 with 2 Axes>"
      ]
     },
     "metadata": {},
     "output_type": "display_data"
    },
    {
     "data": {
      "image/png": "[encoded data removed]",
      "text/plain": [
       "<Figure size 1100x400 with 2 Axes>"
      ]
     },
     "metadata": {},
     "output_type": "display_data"
    },
    {
     "data": {
      "image/png": "[encoded data removed]",
      "text/plain": [
       "<Figure size 1100x400 with 2 Axes>"
      ]
     },
     "metadata": {},
     "output_type": "display_data"
    }
   ],
   "source": [
    "for col in col_cat:\n",
    "    plt.figure(figsize=(11,4))\n",
    "    \n",
    "    plt.subplot(1,2,1)\n",
    "    sns.countplot(x=data[col])\n",
    "    \n",
    "    plt.subplot(1,2,2)\n",
    "    sns.boxplot(x=data[col],y=data[\"charges\"])\n",
    "    plt.xlabel(col)\n",
    "    plt.ylabel(\"Charges\")\n",
    "    \n",
    "    plt.show()"
   ]
  },
  {
   "cell_type": "code",
   "execution_count": 20,
   "id": "b49b9396",
   "metadata": {
    "execution": {
     "iopub.execute_input": "2023-02-28T22:56:53.259792Z",
     "iopub.status.busy": "2023-02-28T22:56:53.259495Z",
     "iopub.status.idle": "2023-02-28T22:56:53.272442Z",
     "shell.execute_reply": "2023-02-28T22:56:53.271463Z"
    },
    "papermill": {
     "duration": 0.036533,
     "end_time": "2023-02-28T22:56:53.274802",
     "exception": false,
     "start_time": "2023-02-28T22:56:53.238269",
     "status": "completed"
    },
    "tags": []
   },
   "outputs": [
    {
     "data": {
      "text/html": [
       "<div>\n",
       "<style scoped>\n",
       "    .dataframe tbody tr th:only-of-type {\n",
       "        vertical-align: middle;\n",
       "    }\n",
       "\n",
       "    .dataframe tbody tr th {\n",
       "        vertical-align: top;\n",
       "    }\n",
       "\n",
       "    .dataframe thead th {\n",
       "        text-align: right;\n",
       "    }\n",
       "</style>\n",
       "<table border=\"1\" class=\"dataframe\">\n",
       "  <thead>\n",
       "    <tr style=\"text-align: right;\">\n",
       "      <th></th>\n",
       "      <th>age</th>\n",
       "      <th>bmi</th>\n",
       "      <th>children</th>\n",
       "      <th>charges</th>\n",
       "    </tr>\n",
       "    <tr>\n",
       "      <th>sex</th>\n",
       "      <th></th>\n",
       "      <th></th>\n",
       "      <th></th>\n",
       "      <th></th>\n",
       "    </tr>\n",
       "  </thead>\n",
       "  <tbody>\n",
       "    <tr>\n",
       "      <th>female</th>\n",
       "      <td>39.503021</td>\n",
       "      <td>30.377749</td>\n",
       "      <td>1.074018</td>\n",
       "      <td>12569.578844</td>\n",
       "    </tr>\n",
       "    <tr>\n",
       "      <th>male</th>\n",
       "      <td>38.917160</td>\n",
       "      <td>30.943129</td>\n",
       "      <td>1.115385</td>\n",
       "      <td>13956.751178</td>\n",
       "    </tr>\n",
       "  </tbody>\n",
       "</table>\n",
       "</div>"
      ],
      "text/plain": [
       "              age        bmi  children       charges\n",
       "sex                                                 \n",
       "female  39.503021  30.377749  1.074018  12569.578844\n",
       "male    38.917160  30.943129  1.115385  13956.751178"
      ]
     },
     "execution_count": 20,
     "metadata": {},
     "output_type": "execute_result"
    }
   ],
   "source": [
    "group_gender = data.groupby(\"sex\")\n",
    "group_gender.mean()"
   ]
  },
  {
   "cell_type": "code",
   "execution_count": 21,
   "id": "a11c0671",
   "metadata": {
    "execution": {
     "iopub.execute_input": "2023-02-28T22:56:53.316365Z",
     "iopub.status.busy": "2023-02-28T22:56:53.315768Z",
     "iopub.status.idle": "2023-02-28T22:56:53.327025Z",
     "shell.execute_reply": "2023-02-28T22:56:53.326270Z"
    },
    "papermill": {
     "duration": 0.034374,
     "end_time": "2023-02-28T22:56:53.328827",
     "exception": false,
     "start_time": "2023-02-28T22:56:53.294453",
     "status": "completed"
    },
    "tags": []
   },
   "outputs": [
    {
     "data": {
      "text/html": [
       "<div>\n",
       "<style scoped>\n",
       "    .dataframe tbody tr th:only-of-type {\n",
       "        vertical-align: middle;\n",
       "    }\n",
       "\n",
       "    .dataframe tbody tr th {\n",
       "        vertical-align: top;\n",
       "    }\n",
       "\n",
       "    .dataframe thead th {\n",
       "        text-align: right;\n",
       "    }\n",
       "</style>\n",
       "<table border=\"1\" class=\"dataframe\">\n",
       "  <thead>\n",
       "    <tr style=\"text-align: right;\">\n",
       "      <th></th>\n",
       "      <th>age</th>\n",
       "      <th>bmi</th>\n",
       "      <th>children</th>\n",
       "      <th>charges</th>\n",
       "    </tr>\n",
       "    <tr>\n",
       "      <th>smoker</th>\n",
       "      <th></th>\n",
       "      <th></th>\n",
       "      <th></th>\n",
       "      <th></th>\n",
       "    </tr>\n",
       "  </thead>\n",
       "  <tbody>\n",
       "    <tr>\n",
       "      <th>no</th>\n",
       "      <td>39.385338</td>\n",
       "      <td>30.651795</td>\n",
       "      <td>1.090226</td>\n",
       "      <td>8434.268298</td>\n",
       "    </tr>\n",
       "    <tr>\n",
       "      <th>yes</th>\n",
       "      <td>38.514599</td>\n",
       "      <td>30.708449</td>\n",
       "      <td>1.113139</td>\n",
       "      <td>32050.231832</td>\n",
       "    </tr>\n",
       "  </tbody>\n",
       "</table>\n",
       "</div>"
      ],
      "text/plain": [
       "              age        bmi  children       charges\n",
       "smoker                                              \n",
       "no      39.385338  30.651795  1.090226   8434.268298\n",
       "yes     38.514599  30.708449  1.113139  32050.231832"
      ]
     },
     "execution_count": 21,
     "metadata": {},
     "output_type": "execute_result"
    }
   ],
   "source": [
    "group_smoker = data.groupby(\"smoker\")\n",
    "group_smoker.mean()"
   ]
  },
  {
   "cell_type": "code",
   "execution_count": 22,
   "id": "d55eaa52",
   "metadata": {
    "execution": {
     "iopub.execute_input": "2023-02-28T22:56:53.373823Z",
     "iopub.status.busy": "2023-02-28T22:56:53.373272Z",
     "iopub.status.idle": "2023-02-28T22:56:53.384879Z",
     "shell.execute_reply": "2023-02-28T22:56:53.383940Z"
    },
    "papermill": {
     "duration": 0.037052,
     "end_time": "2023-02-28T22:56:53.386808",
     "exception": false,
     "start_time": "2023-02-28T22:56:53.349756",
     "status": "completed"
    },
    "tags": []
   },
   "outputs": [
    {
     "data": {
      "text/html": [
       "<div>\n",
       "<style scoped>\n",
       "    .dataframe tbody tr th:only-of-type {\n",
       "        vertical-align: middle;\n",
       "    }\n",
       "\n",
       "    .dataframe tbody tr th {\n",
       "        vertical-align: top;\n",
       "    }\n",
       "\n",
       "    .dataframe thead th {\n",
       "        text-align: right;\n",
       "    }\n",
       "</style>\n",
       "<table border=\"1\" class=\"dataframe\">\n",
       "  <thead>\n",
       "    <tr style=\"text-align: right;\">\n",
       "      <th></th>\n",
       "      <th>age</th>\n",
       "      <th>bmi</th>\n",
       "      <th>children</th>\n",
       "      <th>charges</th>\n",
       "    </tr>\n",
       "    <tr>\n",
       "      <th>region</th>\n",
       "      <th></th>\n",
       "      <th></th>\n",
       "      <th></th>\n",
       "      <th></th>\n",
       "    </tr>\n",
       "  </thead>\n",
       "  <tbody>\n",
       "    <tr>\n",
       "      <th>northeast</th>\n",
       "      <td>39.268519</td>\n",
       "      <td>29.173503</td>\n",
       "      <td>1.046296</td>\n",
       "      <td>13406.384516</td>\n",
       "    </tr>\n",
       "    <tr>\n",
       "      <th>northwest</th>\n",
       "      <td>39.196923</td>\n",
       "      <td>29.199785</td>\n",
       "      <td>1.147692</td>\n",
       "      <td>12417.575374</td>\n",
       "    </tr>\n",
       "    <tr>\n",
       "      <th>southeast</th>\n",
       "      <td>38.939560</td>\n",
       "      <td>33.355989</td>\n",
       "      <td>1.049451</td>\n",
       "      <td>14735.411438</td>\n",
       "    </tr>\n",
       "    <tr>\n",
       "      <th>southwest</th>\n",
       "      <td>39.455385</td>\n",
       "      <td>30.596615</td>\n",
       "      <td>1.141538</td>\n",
       "      <td>12346.937377</td>\n",
       "    </tr>\n",
       "  </tbody>\n",
       "</table>\n",
       "</div>"
      ],
      "text/plain": [
       "                 age        bmi  children       charges\n",
       "region                                                 \n",
       "northeast  39.268519  29.173503  1.046296  13406.384516\n",
       "northwest  39.196923  29.199785  1.147692  12417.575374\n",
       "southeast  38.939560  33.355989  1.049451  14735.411438\n",
       "southwest  39.455385  30.596615  1.141538  12346.937377"
      ]
     },
     "execution_count": 22,
     "metadata": {},
     "output_type": "execute_result"
    }
   ],
   "source": [
    "group_region = data.groupby(\"region\")\n",
    "group_region.mean()"
   ]
  },
  {
   "cell_type": "markdown",
   "id": "3a975bea",
   "metadata": {
    "papermill": {
     "duration": 0.020592,
     "end_time": "2023-02-28T22:56:53.428782",
     "exception": false,
     "start_time": "2023-02-28T22:56:53.408190",
     "status": "completed"
    },
    "tags": []
   },
   "source": [
    "### Descripción variables categóricas.\n",
    "* #### La cantidad de personas masculinas y femeninas es casi la misma.\n",
    "* #### Hay casi 4 veces más personas fumadoras que las que no fuman.\n",
    "* #### Las personas que fuman tienen que pagar casi 4 veces más que las que no fuman.\n",
    "* #### Las personas que residen en el sureste tienen un poco más de indice de masa corporal que el resto. "
   ]
  },
  {
   "cell_type": "markdown",
   "id": "9e235855",
   "metadata": {
    "papermill": {
     "duration": 0.021095,
     "end_time": "2023-02-28T22:56:53.471001",
     "exception": false,
     "start_time": "2023-02-28T22:56:53.449906",
     "status": "completed"
    },
    "tags": []
   },
   "source": [
    "## Preprocesado de datos."
   ]
  },
  {
   "cell_type": "code",
   "execution_count": 23,
   "id": "5d3b6474",
   "metadata": {
    "execution": {
     "iopub.execute_input": "2023-02-28T22:56:53.516557Z",
     "iopub.status.busy": "2023-02-28T22:56:53.516222Z",
     "iopub.status.idle": "2023-02-28T22:56:53.528337Z",
     "shell.execute_reply": "2023-02-28T22:56:53.526721Z"
    },
    "papermill": {
     "duration": 0.037495,
     "end_time": "2023-02-28T22:56:53.530412",
     "exception": false,
     "start_time": "2023-02-28T22:56:53.492917",
     "status": "completed"
    },
    "tags": []
   },
   "outputs": [
    {
     "data": {
      "text/html": [
       "<div>\n",
       "<style scoped>\n",
       "    .dataframe tbody tr th:only-of-type {\n",
       "        vertical-align: middle;\n",
       "    }\n",
       "\n",
       "    .dataframe tbody tr th {\n",
       "        vertical-align: top;\n",
       "    }\n",
       "\n",
       "    .dataframe thead th {\n",
       "        text-align: right;\n",
       "    }\n",
       "</style>\n",
       "<table border=\"1\" class=\"dataframe\">\n",
       "  <thead>\n",
       "    <tr style=\"text-align: right;\">\n",
       "      <th></th>\n",
       "      <th>age</th>\n",
       "      <th>sex</th>\n",
       "      <th>bmi</th>\n",
       "      <th>children</th>\n",
       "      <th>smoker</th>\n",
       "      <th>region</th>\n",
       "      <th>charges</th>\n",
       "    </tr>\n",
       "  </thead>\n",
       "  <tbody>\n",
       "    <tr>\n",
       "      <th>0</th>\n",
       "      <td>19</td>\n",
       "      <td>female</td>\n",
       "      <td>27.900</td>\n",
       "      <td>0</td>\n",
       "      <td>yes</td>\n",
       "      <td>southwest</td>\n",
       "      <td>16884.92400</td>\n",
       "    </tr>\n",
       "    <tr>\n",
       "      <th>1</th>\n",
       "      <td>18</td>\n",
       "      <td>male</td>\n",
       "      <td>33.770</td>\n",
       "      <td>1</td>\n",
       "      <td>no</td>\n",
       "      <td>southeast</td>\n",
       "      <td>1725.55230</td>\n",
       "    </tr>\n",
       "    <tr>\n",
       "      <th>2</th>\n",
       "      <td>28</td>\n",
       "      <td>male</td>\n",
       "      <td>33.000</td>\n",
       "      <td>3</td>\n",
       "      <td>no</td>\n",
       "      <td>southeast</td>\n",
       "      <td>4449.46200</td>\n",
       "    </tr>\n",
       "    <tr>\n",
       "      <th>3</th>\n",
       "      <td>33</td>\n",
       "      <td>male</td>\n",
       "      <td>22.705</td>\n",
       "      <td>0</td>\n",
       "      <td>no</td>\n",
       "      <td>northwest</td>\n",
       "      <td>21984.47061</td>\n",
       "    </tr>\n",
       "    <tr>\n",
       "      <th>4</th>\n",
       "      <td>32</td>\n",
       "      <td>male</td>\n",
       "      <td>28.880</td>\n",
       "      <td>0</td>\n",
       "      <td>no</td>\n",
       "      <td>northwest</td>\n",
       "      <td>3866.85520</td>\n",
       "    </tr>\n",
       "  </tbody>\n",
       "</table>\n",
       "</div>"
      ],
      "text/plain": [
       "   age     sex     bmi  children smoker     region      charges\n",
       "0   19  female  27.900         0    yes  southwest  16884.92400\n",
       "1   18    male  33.770         1     no  southeast   1725.55230\n",
       "2   28    male  33.000         3     no  southeast   4449.46200\n",
       "3   33    male  22.705         0     no  northwest  21984.47061\n",
       "4   32    male  28.880         0     no  northwest   3866.85520"
      ]
     },
     "execution_count": 23,
     "metadata": {},
     "output_type": "execute_result"
    }
   ],
   "source": [
    "data.head()"
   ]
  },
  {
   "cell_type": "markdown",
   "id": "c293ec0a",
   "metadata": {
    "papermill": {
     "duration": 0.022196,
     "end_time": "2023-02-28T22:56:53.575400",
     "exception": false,
     "start_time": "2023-02-28T22:56:53.553204",
     "status": "completed"
    },
    "tags": []
   },
   "source": [
    "### Transformar variables categoricas en variables dummies para la construcción del modelo de regresión lineal"
   ]
  },
  {
   "cell_type": "code",
   "execution_count": 24,
   "id": "d388e1be",
   "metadata": {
    "execution": {
     "iopub.execute_input": "2023-02-28T22:56:53.621460Z",
     "iopub.status.busy": "2023-02-28T22:56:53.619956Z",
     "iopub.status.idle": "2023-02-28T22:56:53.630581Z",
     "shell.execute_reply": "2023-02-28T22:56:53.629528Z"
    },
    "papermill": {
     "duration": 0.035393,
     "end_time": "2023-02-28T22:56:53.633096",
     "exception": false,
     "start_time": "2023-02-28T22:56:53.597703",
     "status": "completed"
    },
    "tags": []
   },
   "outputs": [],
   "source": [
    "sex_dummy = pd.get_dummies(data[\"sex\"],prefix=\"sex\",drop_first=True)\n",
    "smoker_dummy = pd.get_dummies(data[\"smoker\"],prefix=\"smoker\",drop_first=True)\n",
    "region_dummy = pd.get_dummies(data[\"region\"],prefix=\"region\",drop_first=True)"
   ]
  },
  {
   "cell_type": "code",
   "execution_count": 25,
   "id": "168b7e40",
   "metadata": {
    "execution": {
     "iopub.execute_input": "2023-02-28T22:56:53.678818Z",
     "iopub.status.busy": "2023-02-28T22:56:53.678480Z",
     "iopub.status.idle": "2023-02-28T22:56:53.692243Z",
     "shell.execute_reply": "2023-02-28T22:56:53.691503Z"
    },
    "papermill": {
     "duration": 0.038053,
     "end_time": "2023-02-28T22:56:53.694032",
     "exception": false,
     "start_time": "2023-02-28T22:56:53.655979",
     "status": "completed"
    },
    "tags": []
   },
   "outputs": [
    {
     "data": {
      "text/html": [
       "<div>\n",
       "<style scoped>\n",
       "    .dataframe tbody tr th:only-of-type {\n",
       "        vertical-align: middle;\n",
       "    }\n",
       "\n",
       "    .dataframe tbody tr th {\n",
       "        vertical-align: top;\n",
       "    }\n",
       "\n",
       "    .dataframe thead th {\n",
       "        text-align: right;\n",
       "    }\n",
       "</style>\n",
       "<table border=\"1\" class=\"dataframe\">\n",
       "  <thead>\n",
       "    <tr style=\"text-align: right;\">\n",
       "      <th></th>\n",
       "      <th>age</th>\n",
       "      <th>bmi</th>\n",
       "      <th>children</th>\n",
       "      <th>charges</th>\n",
       "      <th>sex_male</th>\n",
       "      <th>smoker_yes</th>\n",
       "      <th>region_northwest</th>\n",
       "      <th>region_southeast</th>\n",
       "      <th>region_southwest</th>\n",
       "    </tr>\n",
       "  </thead>\n",
       "  <tbody>\n",
       "    <tr>\n",
       "      <th>0</th>\n",
       "      <td>19</td>\n",
       "      <td>27.900</td>\n",
       "      <td>0</td>\n",
       "      <td>16884.92400</td>\n",
       "      <td>0</td>\n",
       "      <td>1</td>\n",
       "      <td>0</td>\n",
       "      <td>0</td>\n",
       "      <td>1</td>\n",
       "    </tr>\n",
       "    <tr>\n",
       "      <th>1</th>\n",
       "      <td>18</td>\n",
       "      <td>33.770</td>\n",
       "      <td>1</td>\n",
       "      <td>1725.55230</td>\n",
       "      <td>1</td>\n",
       "      <td>0</td>\n",
       "      <td>0</td>\n",
       "      <td>1</td>\n",
       "      <td>0</td>\n",
       "    </tr>\n",
       "    <tr>\n",
       "      <th>2</th>\n",
       "      <td>28</td>\n",
       "      <td>33.000</td>\n",
       "      <td>3</td>\n",
       "      <td>4449.46200</td>\n",
       "      <td>1</td>\n",
       "      <td>0</td>\n",
       "      <td>0</td>\n",
       "      <td>1</td>\n",
       "      <td>0</td>\n",
       "    </tr>\n",
       "    <tr>\n",
       "      <th>3</th>\n",
       "      <td>33</td>\n",
       "      <td>22.705</td>\n",
       "      <td>0</td>\n",
       "      <td>21984.47061</td>\n",
       "      <td>1</td>\n",
       "      <td>0</td>\n",
       "      <td>1</td>\n",
       "      <td>0</td>\n",
       "      <td>0</td>\n",
       "    </tr>\n",
       "    <tr>\n",
       "      <th>4</th>\n",
       "      <td>32</td>\n",
       "      <td>28.880</td>\n",
       "      <td>0</td>\n",
       "      <td>3866.85520</td>\n",
       "      <td>1</td>\n",
       "      <td>0</td>\n",
       "      <td>1</td>\n",
       "      <td>0</td>\n",
       "      <td>0</td>\n",
       "    </tr>\n",
       "  </tbody>\n",
       "</table>\n",
       "</div>"
      ],
      "text/plain": [
       "   age     bmi  children      charges  sex_male  smoker_yes  region_northwest  \\\n",
       "0   19  27.900         0  16884.92400         0           1                 0   \n",
       "1   18  33.770         1   1725.55230         1           0                 0   \n",
       "2   28  33.000         3   4449.46200         1           0                 0   \n",
       "3   33  22.705         0  21984.47061         1           0                 1   \n",
       "4   32  28.880         0   3866.85520         1           0                 1   \n",
       "\n",
       "   region_southeast  region_southwest  \n",
       "0                 0                 1  \n",
       "1                 1                 0  \n",
       "2                 1                 0  \n",
       "3                 0                 0  \n",
       "4                 0                 0  "
      ]
     },
     "execution_count": 25,
     "metadata": {},
     "output_type": "execute_result"
    }
   ],
   "source": [
    "data_new = data.drop([\"sex\",\"smoker\",\"region\"],axis=1)\n",
    "data_new = pd.concat([data_new,sex_dummy,smoker_dummy,\n",
    "                     region_dummy],axis=1)\n",
    "data_new.head()"
   ]
  },
  {
   "cell_type": "markdown",
   "id": "f0d02147",
   "metadata": {
    "papermill": {
     "duration": 0.021417,
     "end_time": "2023-02-28T22:56:53.737631",
     "exception": false,
     "start_time": "2023-02-28T22:56:53.716214",
     "status": "completed"
    },
    "tags": []
   },
   "source": [
    "### Chequear las correlaciones nuevamente con todas las variables."
   ]
  },
  {
   "cell_type": "code",
   "execution_count": 26,
   "id": "4eca0607",
   "metadata": {
    "_kg_hide-output": true,
    "execution": {
     "iopub.execute_input": "2023-02-28T22:56:53.781918Z",
     "iopub.status.busy": "2023-02-28T22:56:53.780891Z",
     "iopub.status.idle": "2023-02-28T22:56:53.794087Z",
     "shell.execute_reply": "2023-02-28T22:56:53.793496Z"
    },
    "papermill": {
     "duration": 0.037085,
     "end_time": "2023-02-28T22:56:53.795756",
     "exception": false,
     "start_time": "2023-02-28T22:56:53.758671",
     "status": "completed"
    },
    "tags": []
   },
   "outputs": [
    {
     "data": {
      "text/html": [
       "<div>\n",
       "<style scoped>\n",
       "    .dataframe tbody tr th:only-of-type {\n",
       "        vertical-align: middle;\n",
       "    }\n",
       "\n",
       "    .dataframe tbody tr th {\n",
       "        vertical-align: top;\n",
       "    }\n",
       "\n",
       "    .dataframe thead th {\n",
       "        text-align: right;\n",
       "    }\n",
       "</style>\n",
       "<table border=\"1\" class=\"dataframe\">\n",
       "  <thead>\n",
       "    <tr style=\"text-align: right;\">\n",
       "      <th></th>\n",
       "      <th>age</th>\n",
       "      <th>bmi</th>\n",
       "      <th>children</th>\n",
       "      <th>charges</th>\n",
       "      <th>sex_male</th>\n",
       "      <th>smoker_yes</th>\n",
       "      <th>region_northwest</th>\n",
       "      <th>region_southeast</th>\n",
       "      <th>region_southwest</th>\n",
       "    </tr>\n",
       "  </thead>\n",
       "  <tbody>\n",
       "    <tr>\n",
       "      <th>age</th>\n",
       "      <td>1.000000</td>\n",
       "      <td>0.109272</td>\n",
       "      <td>0.042469</td>\n",
       "      <td>0.299008</td>\n",
       "      <td>-0.020856</td>\n",
       "      <td>-0.025019</td>\n",
       "      <td>-0.000407</td>\n",
       "      <td>-0.011642</td>\n",
       "      <td>0.010016</td>\n",
       "    </tr>\n",
       "    <tr>\n",
       "      <th>bmi</th>\n",
       "      <td>0.109272</td>\n",
       "      <td>1.000000</td>\n",
       "      <td>0.012759</td>\n",
       "      <td>0.198341</td>\n",
       "      <td>0.046371</td>\n",
       "      <td>0.003750</td>\n",
       "      <td>-0.135996</td>\n",
       "      <td>0.270025</td>\n",
       "      <td>-0.006205</td>\n",
       "    </tr>\n",
       "    <tr>\n",
       "      <th>children</th>\n",
       "      <td>0.042469</td>\n",
       "      <td>0.012759</td>\n",
       "      <td>1.000000</td>\n",
       "      <td>0.067998</td>\n",
       "      <td>0.017163</td>\n",
       "      <td>0.007673</td>\n",
       "      <td>0.024806</td>\n",
       "      <td>-0.023066</td>\n",
       "      <td>0.021914</td>\n",
       "    </tr>\n",
       "    <tr>\n",
       "      <th>charges</th>\n",
       "      <td>0.299008</td>\n",
       "      <td>0.198341</td>\n",
       "      <td>0.067998</td>\n",
       "      <td>1.000000</td>\n",
       "      <td>0.057292</td>\n",
       "      <td>0.787251</td>\n",
       "      <td>-0.039905</td>\n",
       "      <td>0.073982</td>\n",
       "      <td>-0.043210</td>\n",
       "    </tr>\n",
       "    <tr>\n",
       "      <th>sex_male</th>\n",
       "      <td>-0.020856</td>\n",
       "      <td>0.046371</td>\n",
       "      <td>0.017163</td>\n",
       "      <td>0.057292</td>\n",
       "      <td>1.000000</td>\n",
       "      <td>0.076185</td>\n",
       "      <td>-0.011156</td>\n",
       "      <td>0.017117</td>\n",
       "      <td>-0.004184</td>\n",
       "    </tr>\n",
       "    <tr>\n",
       "      <th>smoker_yes</th>\n",
       "      <td>-0.025019</td>\n",
       "      <td>0.003750</td>\n",
       "      <td>0.007673</td>\n",
       "      <td>0.787251</td>\n",
       "      <td>0.076185</td>\n",
       "      <td>1.000000</td>\n",
       "      <td>-0.036945</td>\n",
       "      <td>0.068498</td>\n",
       "      <td>-0.036945</td>\n",
       "    </tr>\n",
       "    <tr>\n",
       "      <th>region_northwest</th>\n",
       "      <td>-0.000407</td>\n",
       "      <td>-0.135996</td>\n",
       "      <td>0.024806</td>\n",
       "      <td>-0.039905</td>\n",
       "      <td>-0.011156</td>\n",
       "      <td>-0.036945</td>\n",
       "      <td>1.000000</td>\n",
       "      <td>-0.346265</td>\n",
       "      <td>-0.320829</td>\n",
       "    </tr>\n",
       "    <tr>\n",
       "      <th>region_southeast</th>\n",
       "      <td>-0.011642</td>\n",
       "      <td>0.270025</td>\n",
       "      <td>-0.023066</td>\n",
       "      <td>0.073982</td>\n",
       "      <td>0.017117</td>\n",
       "      <td>0.068498</td>\n",
       "      <td>-0.346265</td>\n",
       "      <td>1.000000</td>\n",
       "      <td>-0.346265</td>\n",
       "    </tr>\n",
       "    <tr>\n",
       "      <th>region_southwest</th>\n",
       "      <td>0.010016</td>\n",
       "      <td>-0.006205</td>\n",
       "      <td>0.021914</td>\n",
       "      <td>-0.043210</td>\n",
       "      <td>-0.004184</td>\n",
       "      <td>-0.036945</td>\n",
       "      <td>-0.320829</td>\n",
       "      <td>-0.346265</td>\n",
       "      <td>1.000000</td>\n",
       "    </tr>\n",
       "  </tbody>\n",
       "</table>\n",
       "</div>"
      ],
      "text/plain": [
       "                       age       bmi  children   charges  sex_male  \\\n",
       "age               1.000000  0.109272  0.042469  0.299008 -0.020856   \n",
       "bmi               0.109272  1.000000  0.012759  0.198341  0.046371   \n",
       "children          0.042469  0.012759  1.000000  0.067998  0.017163   \n",
       "charges           0.299008  0.198341  0.067998  1.000000  0.057292   \n",
       "sex_male         -0.020856  0.046371  0.017163  0.057292  1.000000   \n",
       "smoker_yes       -0.025019  0.003750  0.007673  0.787251  0.076185   \n",
       "region_northwest -0.000407 -0.135996  0.024806 -0.039905 -0.011156   \n",
       "region_southeast -0.011642  0.270025 -0.023066  0.073982  0.017117   \n",
       "region_southwest  0.010016 -0.006205  0.021914 -0.043210 -0.004184   \n",
       "\n",
       "                  smoker_yes  region_northwest  region_southeast  \\\n",
       "age                -0.025019         -0.000407         -0.011642   \n",
       "bmi                 0.003750         -0.135996          0.270025   \n",
       "children            0.007673          0.024806         -0.023066   \n",
       "charges             0.787251         -0.039905          0.073982   \n",
       "sex_male            0.076185         -0.011156          0.017117   \n",
       "smoker_yes          1.000000         -0.036945          0.068498   \n",
       "region_northwest   -0.036945          1.000000         -0.346265   \n",
       "region_southeast    0.068498         -0.346265          1.000000   \n",
       "region_southwest   -0.036945         -0.320829         -0.346265   \n",
       "\n",
       "                  region_southwest  \n",
       "age                       0.010016  \n",
       "bmi                      -0.006205  \n",
       "children                  0.021914  \n",
       "charges                  -0.043210  \n",
       "sex_male                 -0.004184  \n",
       "smoker_yes               -0.036945  \n",
       "region_northwest         -0.320829  \n",
       "region_southeast         -0.346265  \n",
       "region_southwest          1.000000  "
      ]
     },
     "execution_count": 26,
     "metadata": {},
     "output_type": "execute_result"
    }
   ],
   "source": [
    "data_new.corr()"
   ]
  },
  {
   "cell_type": "markdown",
   "id": "a0280d00",
   "metadata": {
    "papermill": {
     "duration": 0.021216,
     "end_time": "2023-02-28T22:56:53.838811",
     "exception": false,
     "start_time": "2023-02-28T22:56:53.817595",
     "status": "completed"
    },
    "tags": []
   },
   "source": [
    "* #### smoker_yes, es decir las personas que fuman, es la única variable que tiene correlación con la variable dependiente"
   ]
  },
  {
   "cell_type": "markdown",
   "id": "76fefc77",
   "metadata": {
    "papermill": {
     "duration": 0.020823,
     "end_time": "2023-02-28T22:56:53.881478",
     "exception": false,
     "start_time": "2023-02-28T22:56:53.860655",
     "status": "completed"
    },
    "tags": []
   },
   "source": [
    "### Chequeo de multicolinealidades con VIF (variance inflation factor)"
   ]
  },
  {
   "cell_type": "code",
   "execution_count": 27,
   "id": "f0932a41",
   "metadata": {
    "execution": {
     "iopub.execute_input": "2023-02-28T22:56:53.926989Z",
     "iopub.status.busy": "2023-02-28T22:56:53.925975Z",
     "iopub.status.idle": "2023-02-28T22:56:53.932186Z",
     "shell.execute_reply": "2023-02-28T22:56:53.931482Z"
    },
    "papermill": {
     "duration": 0.03169,
     "end_time": "2023-02-28T22:56:53.934354",
     "exception": false,
     "start_time": "2023-02-28T22:56:53.902664",
     "status": "completed"
    },
    "tags": []
   },
   "outputs": [],
   "source": [
    "X = data_new.drop([\"charges\"],axis=1)\n",
    "Y = data_new[\"charges\"]"
   ]
  },
  {
   "cell_type": "code",
   "execution_count": 28,
   "id": "c0b73316",
   "metadata": {
    "execution": {
     "iopub.execute_input": "2023-02-28T22:56:53.979761Z",
     "iopub.status.busy": "2023-02-28T22:56:53.978993Z",
     "iopub.status.idle": "2023-02-28T22:56:54.194845Z",
     "shell.execute_reply": "2023-02-28T22:56:54.193801Z"
    },
    "papermill": {
     "duration": 0.241458,
     "end_time": "2023-02-28T22:56:54.197223",
     "exception": false,
     "start_time": "2023-02-28T22:56:53.955765",
     "status": "completed"
    },
    "tags": []
   },
   "outputs": [
    {
     "data": {
      "text/html": [
       "<div>\n",
       "<style scoped>\n",
       "    .dataframe tbody tr th:only-of-type {\n",
       "        vertical-align: middle;\n",
       "    }\n",
       "\n",
       "    .dataframe tbody tr th {\n",
       "        vertical-align: top;\n",
       "    }\n",
       "\n",
       "    .dataframe thead th {\n",
       "        text-align: right;\n",
       "    }\n",
       "</style>\n",
       "<table border=\"1\" class=\"dataframe\">\n",
       "  <thead>\n",
       "    <tr style=\"text-align: right;\">\n",
       "      <th></th>\n",
       "      <th>VIF</th>\n",
       "      <th>column</th>\n",
       "    </tr>\n",
       "  </thead>\n",
       "  <tbody>\n",
       "    <tr>\n",
       "      <th>0</th>\n",
       "      <td>7.686965</td>\n",
       "      <td>age</td>\n",
       "    </tr>\n",
       "    <tr>\n",
       "      <th>1</th>\n",
       "      <td>11.358443</td>\n",
       "      <td>bmi</td>\n",
       "    </tr>\n",
       "    <tr>\n",
       "      <th>2</th>\n",
       "      <td>1.809930</td>\n",
       "      <td>children</td>\n",
       "    </tr>\n",
       "    <tr>\n",
       "      <th>3</th>\n",
       "      <td>2.003185</td>\n",
       "      <td>sex_male</td>\n",
       "    </tr>\n",
       "    <tr>\n",
       "      <th>4</th>\n",
       "      <td>1.261233</td>\n",
       "      <td>smoker_yes</td>\n",
       "    </tr>\n",
       "    <tr>\n",
       "      <th>5</th>\n",
       "      <td>1.890281</td>\n",
       "      <td>region_northwest</td>\n",
       "    </tr>\n",
       "    <tr>\n",
       "      <th>6</th>\n",
       "      <td>2.265564</td>\n",
       "      <td>region_southeast</td>\n",
       "    </tr>\n",
       "    <tr>\n",
       "      <th>7</th>\n",
       "      <td>1.960745</td>\n",
       "      <td>region_southwest</td>\n",
       "    </tr>\n",
       "  </tbody>\n",
       "</table>\n",
       "</div>"
      ],
      "text/plain": [
       "         VIF            column\n",
       "0   7.686965               age\n",
       "1  11.358443               bmi\n",
       "2   1.809930          children\n",
       "3   2.003185          sex_male\n",
       "4   1.261233        smoker_yes\n",
       "5   1.890281  region_northwest\n",
       "6   2.265564  region_southeast\n",
       "7   1.960745  region_southwest"
      ]
     },
     "execution_count": 28,
     "metadata": {},
     "output_type": "execute_result"
    }
   ],
   "source": [
    "from statsmodels.stats.outliers_influence import variance_inflation_factor\n",
    "\n",
    "vif = pd.DataFrame()\n",
    "vif[\"VIF\"] = [variance_inflation_factor(X,i) for i in range(X.shape[1])]\n",
    "vif[\"column\"] = X.columns\n",
    "\n",
    "vif"
   ]
  },
  {
   "cell_type": "markdown",
   "id": "e93e0afe",
   "metadata": {
    "papermill": {
     "duration": 0.029511,
     "end_time": "2023-02-28T22:56:54.256653",
     "exception": false,
     "start_time": "2023-02-28T22:56:54.227142",
     "status": "completed"
    },
    "tags": []
   },
   "source": [
    "* #### Observamos que la columna bmi (indice de masa corporal) tiene un alto grado de multicolinealidad, por lo que la quitamos de nuestro modelo."
   ]
  },
  {
   "cell_type": "code",
   "execution_count": 29,
   "id": "72d90813",
   "metadata": {
    "execution": {
     "iopub.execute_input": "2023-02-28T22:56:54.314684Z",
     "iopub.status.busy": "2023-02-28T22:56:54.314363Z",
     "iopub.status.idle": "2023-02-28T22:56:54.326852Z",
     "shell.execute_reply": "2023-02-28T22:56:54.325119Z"
    },
    "papermill": {
     "duration": 0.042033,
     "end_time": "2023-02-28T22:56:54.328644",
     "exception": false,
     "start_time": "2023-02-28T22:56:54.286611",
     "status": "completed"
    },
    "tags": []
   },
   "outputs": [
    {
     "data": {
      "text/html": [
       "<div>\n",
       "<style scoped>\n",
       "    .dataframe tbody tr th:only-of-type {\n",
       "        vertical-align: middle;\n",
       "    }\n",
       "\n",
       "    .dataframe tbody tr th {\n",
       "        vertical-align: top;\n",
       "    }\n",
       "\n",
       "    .dataframe thead th {\n",
       "        text-align: right;\n",
       "    }\n",
       "</style>\n",
       "<table border=\"1\" class=\"dataframe\">\n",
       "  <thead>\n",
       "    <tr style=\"text-align: right;\">\n",
       "      <th></th>\n",
       "      <th>age</th>\n",
       "      <th>children</th>\n",
       "      <th>sex_male</th>\n",
       "      <th>smoker_yes</th>\n",
       "      <th>region_northwest</th>\n",
       "      <th>region_southeast</th>\n",
       "      <th>region_southwest</th>\n",
       "    </tr>\n",
       "  </thead>\n",
       "  <tbody>\n",
       "    <tr>\n",
       "      <th>0</th>\n",
       "      <td>19</td>\n",
       "      <td>0</td>\n",
       "      <td>0</td>\n",
       "      <td>1</td>\n",
       "      <td>0</td>\n",
       "      <td>0</td>\n",
       "      <td>1</td>\n",
       "    </tr>\n",
       "    <tr>\n",
       "      <th>1</th>\n",
       "      <td>18</td>\n",
       "      <td>1</td>\n",
       "      <td>1</td>\n",
       "      <td>0</td>\n",
       "      <td>0</td>\n",
       "      <td>1</td>\n",
       "      <td>0</td>\n",
       "    </tr>\n",
       "    <tr>\n",
       "      <th>2</th>\n",
       "      <td>28</td>\n",
       "      <td>3</td>\n",
       "      <td>1</td>\n",
       "      <td>0</td>\n",
       "      <td>0</td>\n",
       "      <td>1</td>\n",
       "      <td>0</td>\n",
       "    </tr>\n",
       "    <tr>\n",
       "      <th>3</th>\n",
       "      <td>33</td>\n",
       "      <td>0</td>\n",
       "      <td>1</td>\n",
       "      <td>0</td>\n",
       "      <td>1</td>\n",
       "      <td>0</td>\n",
       "      <td>0</td>\n",
       "    </tr>\n",
       "    <tr>\n",
       "      <th>4</th>\n",
       "      <td>32</td>\n",
       "      <td>0</td>\n",
       "      <td>1</td>\n",
       "      <td>0</td>\n",
       "      <td>1</td>\n",
       "      <td>0</td>\n",
       "      <td>0</td>\n",
       "    </tr>\n",
       "  </tbody>\n",
       "</table>\n",
       "</div>"
      ],
      "text/plain": [
       "   age  children  sex_male  smoker_yes  region_northwest  region_southeast  \\\n",
       "0   19         0         0           1                 0                 0   \n",
       "1   18         1         1           0                 0                 1   \n",
       "2   28         3         1           0                 0                 1   \n",
       "3   33         0         1           0                 1                 0   \n",
       "4   32         0         1           0                 1                 0   \n",
       "\n",
       "   region_southwest  \n",
       "0                 1  \n",
       "1                 0  \n",
       "2                 0  \n",
       "3                 0  \n",
       "4                 0  "
      ]
     },
     "execution_count": 29,
     "metadata": {},
     "output_type": "execute_result"
    }
   ],
   "source": [
    "X.drop([\"bmi\"],axis=1,inplace=True)\n",
    "X.head()"
   ]
  },
  {
   "cell_type": "markdown",
   "id": "ca387c9b",
   "metadata": {
    "papermill": {
     "duration": 0.020796,
     "end_time": "2023-02-28T22:56:54.370569",
     "exception": false,
     "start_time": "2023-02-28T22:56:54.349773",
     "status": "completed"
    },
    "tags": []
   },
   "source": [
    "### Separamos los datos en datos de entrenamiento y datos de pruebas para la construccion y evaluación del modelo."
   ]
  },
  {
   "cell_type": "code",
   "execution_count": 30,
   "id": "df6d2bb0",
   "metadata": {
    "execution": {
     "iopub.execute_input": "2023-02-28T22:56:54.414793Z",
     "iopub.status.busy": "2023-02-28T22:56:54.414034Z",
     "iopub.status.idle": "2023-02-28T22:56:54.624094Z",
     "shell.execute_reply": "2023-02-28T22:56:54.622693Z"
    },
    "papermill": {
     "duration": 0.235472,
     "end_time": "2023-02-28T22:56:54.627448",
     "exception": false,
     "start_time": "2023-02-28T22:56:54.391976",
     "status": "completed"
    },
    "tags": []
   },
   "outputs": [],
   "source": [
    "from sklearn.model_selection import train_test_split"
   ]
  },
  {
   "cell_type": "code",
   "execution_count": 31,
   "id": "169f67d6",
   "metadata": {
    "execution": {
     "iopub.execute_input": "2023-02-28T22:56:54.670953Z",
     "iopub.status.busy": "2023-02-28T22:56:54.670657Z",
     "iopub.status.idle": "2023-02-28T22:56:54.680996Z",
     "shell.execute_reply": "2023-02-28T22:56:54.679489Z"
    },
    "papermill": {
     "duration": 0.034854,
     "end_time": "2023-02-28T22:56:54.683258",
     "exception": false,
     "start_time": "2023-02-28T22:56:54.648404",
     "status": "completed"
    },
    "tags": []
   },
   "outputs": [
    {
     "name": "stdout",
     "output_type": "stream",
     "text": [
      "(1070, 7) (1070,)\n",
      "(268, 7) (268,)\n"
     ]
    }
   ],
   "source": [
    "x_train, x_test, y_train, y_test = train_test_split(X,Y, test_size=0.2, random_state=0)\n",
    "print(x_train.shape,y_train.shape)\n",
    "print(x_test.shape,y_test.shape)"
   ]
  },
  {
   "cell_type": "markdown",
   "id": "43a0afa6",
   "metadata": {
    "papermill": {
     "duration": 0.021405,
     "end_time": "2023-02-28T22:56:54.726542",
     "exception": false,
     "start_time": "2023-02-28T22:56:54.705137",
     "status": "completed"
    },
    "tags": []
   },
   "source": [
    "## Construcción del modelo"
   ]
  },
  {
   "cell_type": "code",
   "execution_count": 32,
   "id": "e157f191",
   "metadata": {
    "execution": {
     "iopub.execute_input": "2023-02-28T22:56:54.778109Z",
     "iopub.status.busy": "2023-02-28T22:56:54.777548Z",
     "iopub.status.idle": "2023-02-28T22:56:54.879790Z",
     "shell.execute_reply": "2023-02-28T22:56:54.878590Z"
    },
    "papermill": {
     "duration": 0.1336,
     "end_time": "2023-02-28T22:56:54.881711",
     "exception": false,
     "start_time": "2023-02-28T22:56:54.748111",
     "status": "completed"
    },
    "tags": []
   },
   "outputs": [
    {
     "data": {
      "text/plain": [
       "LinearRegression()"
      ]
     },
     "execution_count": 32,
     "metadata": {},
     "output_type": "execute_result"
    }
   ],
   "source": [
    "from sklearn.linear_model import LinearRegression\n",
    "lm = LinearRegression()\n",
    "lm.fit(x_train,y_train)"
   ]
  },
  {
   "cell_type": "markdown",
   "id": "615d3993",
   "metadata": {
    "papermill": {
     "duration": 0.02201,
     "end_time": "2023-02-28T22:56:54.925771",
     "exception": false,
     "start_time": "2023-02-28T22:56:54.903761",
     "status": "completed"
    },
    "tags": []
   },
   "source": [
    "## Evaluación del modelo"
   ]
  },
  {
   "cell_type": "code",
   "execution_count": 33,
   "id": "202ddb1a",
   "metadata": {
    "execution": {
     "iopub.execute_input": "2023-02-28T22:56:54.976881Z",
     "iopub.status.busy": "2023-02-28T22:56:54.976578Z",
     "iopub.status.idle": "2023-02-28T22:56:54.982690Z",
     "shell.execute_reply": "2023-02-28T22:56:54.981796Z"
    },
    "papermill": {
     "duration": 0.036778,
     "end_time": "2023-02-28T22:56:54.984341",
     "exception": false,
     "start_time": "2023-02-28T22:56:54.947563",
     "status": "completed"
    },
    "tags": []
   },
   "outputs": [],
   "source": [
    "charges_predict = lm.predict(x_test)"
   ]
  },
  {
   "cell_type": "markdown",
   "id": "8dc6a7a8",
   "metadata": {
    "papermill": {
     "duration": 0.02122,
     "end_time": "2023-02-28T22:56:55.027265",
     "exception": false,
     "start_time": "2023-02-28T22:56:55.006045",
     "status": "completed"
    },
    "tags": []
   },
   "source": [
    "### Calculamos el R2 (R cuadrado) que nos indica que tan bien se ajusta la prediccion con nuestros valores actuales"
   ]
  },
  {
   "cell_type": "code",
   "execution_count": 34,
   "id": "3e1d9ef6",
   "metadata": {
    "execution": {
     "iopub.execute_input": "2023-02-28T22:56:55.075008Z",
     "iopub.status.busy": "2023-02-28T22:56:55.074287Z",
     "iopub.status.idle": "2023-02-28T22:56:55.080093Z",
     "shell.execute_reply": "2023-02-28T22:56:55.079480Z"
    },
    "papermill": {
     "duration": 0.033048,
     "end_time": "2023-02-28T22:56:55.082250",
     "exception": false,
     "start_time": "2023-02-28T22:56:55.049202",
     "status": "completed"
    },
    "tags": []
   },
   "outputs": [
    {
     "data": {
      "text/plain": [
       "0.7755346258651233"
      ]
     },
     "execution_count": 34,
     "metadata": {},
     "output_type": "execute_result"
    }
   ],
   "source": [
    "from sklearn.metrics import r2_score\n",
    "r2_score(y_test,charges_predict)"
   ]
  },
  {
   "cell_type": "code",
   "execution_count": 35,
   "id": "14bc06d9",
   "metadata": {
    "execution": {
     "iopub.execute_input": "2023-02-28T22:56:55.128912Z",
     "iopub.status.busy": "2023-02-28T22:56:55.128233Z",
     "iopub.status.idle": "2023-02-28T22:56:55.136196Z",
     "shell.execute_reply": "2023-02-28T22:56:55.135476Z"
    },
    "papermill": {
     "duration": 0.031881,
     "end_time": "2023-02-28T22:56:55.137807",
     "exception": false,
     "start_time": "2023-02-28T22:56:55.105926",
     "status": "completed"
    },
    "tags": []
   },
   "outputs": [
    {
     "data": {
      "text/plain": [
       "0.7755346258651233"
      ]
     },
     "execution_count": 35,
     "metadata": {},
     "output_type": "execute_result"
    }
   ],
   "source": [
    "lm.score(x_test,y_test)"
   ]
  },
  {
   "cell_type": "markdown",
   "id": "19ff517e",
   "metadata": {
    "papermill": {
     "duration": 0.020691,
     "end_time": "2023-02-28T22:56:55.179827",
     "exception": false,
     "start_time": "2023-02-28T22:56:55.159136",
     "status": "completed"
    },
    "tags": []
   },
   "source": [
    "* #### El modelo se ajusta un 77% a los valores verdaderos del dateset"
   ]
  },
  {
   "cell_type": "markdown",
   "id": "2e0a6304",
   "metadata": {
    "papermill": {
     "duration": 0.020105,
     "end_time": "2023-02-28T22:56:55.220700",
     "exception": false,
     "start_time": "2023-02-28T22:56:55.200595",
     "status": "completed"
    },
    "tags": []
   },
   "source": [
    "### Calculamos el error cuadrado de los residuos, es decir, la desviación estandar residual."
   ]
  },
  {
   "cell_type": "code",
   "execution_count": 36,
   "id": "b776b052",
   "metadata": {
    "execution": {
     "iopub.execute_input": "2023-02-28T22:56:55.264159Z",
     "iopub.status.busy": "2023-02-28T22:56:55.263475Z",
     "iopub.status.idle": "2023-02-28T22:56:55.269472Z",
     "shell.execute_reply": "2023-02-28T22:56:55.268760Z"
    },
    "papermill": {
     "duration": 0.030358,
     "end_time": "2023-02-28T22:56:55.271535",
     "exception": false,
     "start_time": "2023-02-28T22:56:55.241177",
     "status": "completed"
    },
    "tags": []
   },
   "outputs": [
    {
     "data": {
      "text/plain": [
       "9572736629.692877"
      ]
     },
     "execution_count": 36,
     "metadata": {},
     "output_type": "execute_result"
    }
   ],
   "source": [
    "SSD = sum((y_test-charges_predict)**2)\n",
    "SSD"
   ]
  },
  {
   "cell_type": "code",
   "execution_count": 37,
   "id": "ae255b69",
   "metadata": {
    "execution": {
     "iopub.execute_input": "2023-02-28T22:56:55.318703Z",
     "iopub.status.busy": "2023-02-28T22:56:55.317989Z",
     "iopub.status.idle": "2023-02-28T22:56:55.324358Z",
     "shell.execute_reply": "2023-02-28T22:56:55.323644Z"
    },
    "papermill": {
     "duration": 0.032482,
     "end_time": "2023-02-28T22:56:55.326816",
     "exception": false,
     "start_time": "2023-02-28T22:56:55.294334",
     "status": "completed"
    },
    "tags": []
   },
   "outputs": [
    {
     "data": {
      "text/plain": [
       "6067.801727686153"
      ]
     },
     "execution_count": 37,
     "metadata": {},
     "output_type": "execute_result"
    }
   ],
   "source": [
    "RSE = np.sqrt(SSD/(len(x_test)-len(x_test.columns.values)-1))\n",
    "RSE"
   ]
  },
  {
   "cell_type": "markdown",
   "id": "49e0391a",
   "metadata": {
    "papermill": {
     "duration": 0.022328,
     "end_time": "2023-02-28T22:56:55.372153",
     "exception": false,
     "start_time": "2023-02-28T22:56:55.349825",
     "status": "completed"
    },
    "tags": []
   },
   "source": [
    "* #### El error estandar residual es de 6067."
   ]
  },
  {
   "cell_type": "code",
   "execution_count": 38,
   "id": "8d0bc029",
   "metadata": {
    "execution": {
     "iopub.execute_input": "2023-02-28T22:56:55.421157Z",
     "iopub.status.busy": "2023-02-28T22:56:55.420170Z",
     "iopub.status.idle": "2023-02-28T22:56:55.426960Z",
     "shell.execute_reply": "2023-02-28T22:56:55.426018Z"
    },
    "papermill": {
     "duration": 0.033724,
     "end_time": "2023-02-28T22:56:55.428756",
     "exception": false,
     "start_time": "2023-02-28T22:56:55.395032",
     "status": "completed"
    },
    "tags": []
   },
   "outputs": [
    {
     "data": {
      "text/plain": [
       "13417.97983076891"
      ]
     },
     "execution_count": 38,
     "metadata": {},
     "output_type": "execute_result"
    }
   ],
   "source": [
    "charges_mean = np.mean(charges_predict)\n",
    "charges_mean"
   ]
  },
  {
   "cell_type": "code",
   "execution_count": 39,
   "id": "16c23cd0",
   "metadata": {
    "execution": {
     "iopub.execute_input": "2023-02-28T22:56:55.480016Z",
     "iopub.status.busy": "2023-02-28T22:56:55.478596Z",
     "iopub.status.idle": "2023-02-28T22:56:55.485309Z",
     "shell.execute_reply": "2023-02-28T22:56:55.484012Z"
    },
    "papermill": {
     "duration": 0.035547,
     "end_time": "2023-02-28T22:56:55.487490",
     "exception": false,
     "start_time": "2023-02-28T22:56:55.451943",
     "status": "completed"
    },
    "tags": []
   },
   "outputs": [
    {
     "data": {
      "text/plain": [
       "0.4522142531301182"
      ]
     },
     "execution_count": 39,
     "metadata": {},
     "output_type": "execute_result"
    }
   ],
   "source": [
    "error = RSE/charges_mean\n",
    "error"
   ]
  },
  {
   "cell_type": "markdown",
   "id": "bc8cee67",
   "metadata": {
    "papermill": {
     "duration": 0.022022,
     "end_time": "2023-02-28T22:56:55.532594",
     "exception": false,
     "start_time": "2023-02-28T22:56:55.510572",
     "status": "completed"
    },
    "tags": []
   },
   "source": [
    "* #### Hay un 45% de error que el modelo no puede explicar"
   ]
  },
  {
   "cell_type": "markdown",
   "id": "51a34d24",
   "metadata": {
    "papermill": {
     "duration": 0.021927,
     "end_time": "2023-02-28T22:56:55.577189",
     "exception": false,
     "start_time": "2023-02-28T22:56:55.555262",
     "status": "completed"
    },
    "tags": []
   },
   "source": [
    "### Realizaré un modelo mas exhaustivo para ver si podemos incrementar el nivel de ajuste de la predicción y disminuir el error.\n",
    "* #### Voy a utilizar el metodo RFE (Eliminación recursiva de atributos) incorporando nuevamente la columna bmi para corroborar si efectivamente hay que eliminarla o no."
   ]
  },
  {
   "cell_type": "code",
   "execution_count": 40,
   "id": "a8df710a",
   "metadata": {
    "execution": {
     "iopub.execute_input": "2023-02-28T22:56:55.627019Z",
     "iopub.status.busy": "2023-02-28T22:56:55.626402Z",
     "iopub.status.idle": "2023-02-28T22:56:55.735030Z",
     "shell.execute_reply": "2023-02-28T22:56:55.733496Z"
    },
    "papermill": {
     "duration": 0.137964,
     "end_time": "2023-02-28T22:56:55.737560",
     "exception": false,
     "start_time": "2023-02-28T22:56:55.599596",
     "status": "completed"
    },
    "tags": []
   },
   "outputs": [],
   "source": [
    "from sklearn.feature_selection import RFE\n",
    "from sklearn.svm import SVR"
   ]
  },
  {
   "cell_type": "code",
   "execution_count": 41,
   "id": "79fb432a",
   "metadata": {
    "execution": {
     "iopub.execute_input": "2023-02-28T22:56:55.781973Z",
     "iopub.status.busy": "2023-02-28T22:56:55.781648Z",
     "iopub.status.idle": "2023-02-28T22:56:55.955091Z",
     "shell.execute_reply": "2023-02-28T22:56:55.953596Z"
    },
    "papermill": {
     "duration": 0.197883,
     "end_time": "2023-02-28T22:56:55.957445",
     "exception": false,
     "start_time": "2023-02-28T22:56:55.759562",
     "status": "completed"
    },
    "tags": []
   },
   "outputs": [],
   "source": [
    "estimator = SVR(kernel=\"linear\")\n",
    "selector = RFE(estimator, n_features_to_select = (len(x_train.columns.values)-3),step=1)\n",
    "selector = selector.fit(x_train,y_train)"
   ]
  },
  {
   "cell_type": "code",
   "execution_count": 42,
   "id": "a439976d",
   "metadata": {
    "execution": {
     "iopub.execute_input": "2023-02-28T22:56:56.006261Z",
     "iopub.status.busy": "2023-02-28T22:56:56.005456Z",
     "iopub.status.idle": "2023-02-28T22:56:56.011140Z",
     "shell.execute_reply": "2023-02-28T22:56:56.009310Z"
    },
    "papermill": {
     "duration": 0.032626,
     "end_time": "2023-02-28T22:56:56.013630",
     "exception": false,
     "start_time": "2023-02-28T22:56:55.981004",
     "status": "completed"
    },
    "tags": []
   },
   "outputs": [
    {
     "name": "stdout",
     "output_type": "stream",
     "text": [
      "[ True  True  True  True False False False]\n",
      "['age' 'children' 'sex_male' 'smoker_yes' 'region_northwest'\n",
      " 'region_southeast' 'region_southwest']\n"
     ]
    }
   ],
   "source": [
    "print(selector.support_)\n",
    "print(x_train.columns.values)"
   ]
  },
  {
   "cell_type": "markdown",
   "id": "5b327a46",
   "metadata": {
    "papermill": {
     "duration": 0.02248,
     "end_time": "2023-02-28T22:56:56.059070",
     "exception": false,
     "start_time": "2023-02-28T22:56:56.036590",
     "status": "completed"
    },
    "tags": []
   },
   "source": [
    "#### El modelo de selección de variables nos indica que la columna bmi y la columna region_northwest no deben incluirse en el modelo de predicción."
   ]
  },
  {
   "cell_type": "code",
   "execution_count": null,
   "id": "e316a2f3",
   "metadata": {
    "papermill": {
     "duration": 0.022447,
     "end_time": "2023-02-28T22:56:56.104634",
     "exception": false,
     "start_time": "2023-02-28T22:56:56.082187",
     "status": "completed"
    },
    "tags": []
   },
   "outputs": [],
   "source": []
  },
  {
   "cell_type": "markdown",
   "id": "3994013f",
   "metadata": {
    "papermill": {
     "duration": 0.022515,
     "end_time": "2023-02-28T22:56:56.150034",
     "exception": false,
     "start_time": "2023-02-28T22:56:56.127519",
     "status": "completed"
    },
    "tags": []
   },
   "source": [
    "### Utilizaré otro metodo para realizar la predicción utilizando la libreria statsmodels para hacer un chequeo más exhaustivo de las variables, observar su p valor individualmente y observar el p valor del estadístico f."
   ]
  },
  {
   "cell_type": "code",
   "execution_count": 43,
   "id": "4317d539",
   "metadata": {
    "execution": {
     "iopub.execute_input": "2023-02-28T22:56:56.198336Z",
     "iopub.status.busy": "2023-02-28T22:56:56.197300Z",
     "iopub.status.idle": "2023-02-28T22:56:56.378736Z",
     "shell.execute_reply": "2023-02-28T22:56:56.377392Z"
    },
    "papermill": {
     "duration": 0.208415,
     "end_time": "2023-02-28T22:56:56.381420",
     "exception": false,
     "start_time": "2023-02-28T22:56:56.173005",
     "status": "completed"
    },
    "tags": []
   },
   "outputs": [],
   "source": [
    "import statsmodels.formula.api as smf"
   ]
  },
  {
   "cell_type": "code",
   "execution_count": 44,
   "id": "900bafd2",
   "metadata": {
    "execution": {
     "iopub.execute_input": "2023-02-28T22:56:56.429323Z",
     "iopub.status.busy": "2023-02-28T22:56:56.428480Z",
     "iopub.status.idle": "2023-02-28T22:56:56.433751Z",
     "shell.execute_reply": "2023-02-28T22:56:56.432811Z"
    },
    "papermill": {
     "duration": 0.032233,
     "end_time": "2023-02-28T22:56:56.436331",
     "exception": false,
     "start_time": "2023-02-28T22:56:56.404098",
     "status": "completed"
    },
    "tags": []
   },
   "outputs": [],
   "source": [
    "#(\"+\").join(x_train.columns.values)\n",
    "train,test = train_test_split(data_new,test_size=0.2,random_state=0)"
   ]
  },
  {
   "cell_type": "code",
   "execution_count": 45,
   "id": "5a155f2b",
   "metadata": {
    "execution": {
     "iopub.execute_input": "2023-02-28T22:56:56.483745Z",
     "iopub.status.busy": "2023-02-28T22:56:56.483049Z",
     "iopub.status.idle": "2023-02-28T22:56:56.498645Z",
     "shell.execute_reply": "2023-02-28T22:56:56.497673Z"
    },
    "papermill": {
     "duration": 0.041734,
     "end_time": "2023-02-28T22:56:56.500793",
     "exception": false,
     "start_time": "2023-02-28T22:56:56.459059",
     "status": "completed"
    },
    "tags": []
   },
   "outputs": [],
   "source": [
    "lm2 = smf.ols(formula=\"charges~\"+(\"+\").join(x_train.columns.values),data=train).fit()"
   ]
  },
  {
   "cell_type": "code",
   "execution_count": 46,
   "id": "7303b373",
   "metadata": {
    "execution": {
     "iopub.execute_input": "2023-02-28T22:56:56.546994Z",
     "iopub.status.busy": "2023-02-28T22:56:56.546522Z",
     "iopub.status.idle": "2023-02-28T22:56:56.571584Z",
     "shell.execute_reply": "2023-02-28T22:56:56.569988Z"
    },
    "papermill": {
     "duration": 0.05007,
     "end_time": "2023-02-28T22:56:56.573709",
     "exception": false,
     "start_time": "2023-02-28T22:56:56.523639",
     "status": "completed"
    },
    "tags": []
   },
   "outputs": [
    {
     "data": {
      "text/html": [
       "<table class=\"simpletable\">\n",
       "<caption>OLS Regression Results</caption>\n",
       "<tr>\n",
       "  <th>Dep. Variable:</th>         <td>charges</td>     <th>  R-squared:         </th> <td>   0.710</td> \n",
       "</tr>\n",
       "<tr>\n",
       "  <th>Model:</th>                   <td>OLS</td>       <th>  Adj. R-squared:    </th> <td>   0.708</td> \n",
       "</tr>\n",
       "<tr>\n",
       "  <th>Method:</th>             <td>Least Squares</td>  <th>  F-statistic:       </th> <td>   371.6</td> \n",
       "</tr>\n",
       "<tr>\n",
       "  <th>Date:</th>             <td>Tue, 28 Feb 2023</td> <th>  Prob (F-statistic):</th> <td>2.42e-280</td>\n",
       "</tr>\n",
       "<tr>\n",
       "  <th>Time:</th>                 <td>22:56:56</td>     <th>  Log-Likelihood:    </th> <td> -10904.</td> \n",
       "</tr>\n",
       "<tr>\n",
       "  <th>No. Observations:</th>      <td>  1070</td>      <th>  AIC:               </th> <td>2.182e+04</td>\n",
       "</tr>\n",
       "<tr>\n",
       "  <th>Df Residuals:</th>          <td>  1062</td>      <th>  BIC:               </th> <td>2.186e+04</td>\n",
       "</tr>\n",
       "<tr>\n",
       "  <th>Df Model:</th>              <td>     7</td>      <th>                     </th>     <td> </td>    \n",
       "</tr>\n",
       "<tr>\n",
       "  <th>Covariance Type:</th>      <td>nonrobust</td>    <th>                     </th>     <td> </td>    \n",
       "</tr>\n",
       "</table>\n",
       "<table class=\"simpletable\">\n",
       "<tr>\n",
       "          <td></td>            <th>coef</th>     <th>std err</th>      <th>t</th>      <th>P>|t|</th>  <th>[0.025</th>    <th>0.975]</th>  \n",
       "</tr>\n",
       "<tr>\n",
       "  <th>Intercept</th>        <td>-2696.2870</td> <td>  745.394</td> <td>   -3.617</td> <td> 0.000</td> <td>-4158.899</td> <td>-1233.675</td>\n",
       "</tr>\n",
       "<tr>\n",
       "  <th>age</th>              <td>  270.2830</td> <td>   14.101</td> <td>   19.168</td> <td> 0.000</td> <td>  242.614</td> <td>  297.952</td>\n",
       "</tr>\n",
       "<tr>\n",
       "  <th>children</th>         <td>  466.2764</td> <td>  164.303</td> <td>    2.838</td> <td> 0.005</td> <td>  143.881</td> <td>  788.672</td>\n",
       "</tr>\n",
       "<tr>\n",
       "  <th>sex_male</th>         <td>  102.6243</td> <td>  396.723</td> <td>    0.259</td> <td> 0.796</td> <td> -675.826</td> <td>  881.075</td>\n",
       "</tr>\n",
       "<tr>\n",
       "  <th>smoker_yes</th>       <td> 2.343e+04</td> <td>  493.580</td> <td>   47.474</td> <td> 0.000</td> <td> 2.25e+04</td> <td> 2.44e+04</td>\n",
       "</tr>\n",
       "<tr>\n",
       "  <th>region_northwest</th> <td> -327.8673</td> <td>  577.488</td> <td>   -0.568</td> <td> 0.570</td> <td>-1461.013</td> <td>  805.279</td>\n",
       "</tr>\n",
       "<tr>\n",
       "  <th>region_southeast</th> <td>  553.1110</td> <td>  557.907</td> <td>    0.991</td> <td> 0.322</td> <td> -541.614</td> <td> 1647.836</td>\n",
       "</tr>\n",
       "<tr>\n",
       "  <th>region_southwest</th> <td> -361.8117</td> <td>  568.761</td> <td>   -0.636</td> <td> 0.525</td> <td>-1477.834</td> <td>  754.211</td>\n",
       "</tr>\n",
       "</table>\n",
       "<table class=\"simpletable\">\n",
       "<tr>\n",
       "  <th>Omnibus:</th>       <td>234.326</td> <th>  Durbin-Watson:     </th> <td>   2.027</td> \n",
       "</tr>\n",
       "<tr>\n",
       "  <th>Prob(Omnibus):</th> <td> 0.000</td>  <th>  Jarque-Bera (JB):  </th> <td> 576.392</td> \n",
       "</tr>\n",
       "<tr>\n",
       "  <th>Skew:</th>          <td> 1.160</td>  <th>  Prob(JB):          </th> <td>6.89e-126</td>\n",
       "</tr>\n",
       "<tr>\n",
       "  <th>Kurtosis:</th>      <td> 5.746</td>  <th>  Cond. No.          </th> <td>    202.</td> \n",
       "</tr>\n",
       "</table><br/><br/>Notes:<br/>[1] Standard Errors assume that the covariance matrix of the errors is correctly specified."
      ],
      "text/plain": [
       "<class 'statsmodels.iolib.summary.Summary'>\n",
       "\"\"\"\n",
       "                            OLS Regression Results                            \n",
       "==============================================================================\n",
       "Dep. Variable:                charges   R-squared:                       0.710\n",
       "Model:                            OLS   Adj. R-squared:                  0.708\n",
       "Method:                 Least Squares   F-statistic:                     371.6\n",
       "Date:                Tue, 28 Feb 2023   Prob (F-statistic):          2.42e-280\n",
       "Time:                        22:56:56   Log-Likelihood:                -10904.\n",
       "No. Observations:                1070   AIC:                         2.182e+04\n",
       "Df Residuals:                    1062   BIC:                         2.186e+04\n",
       "Df Model:                           7                                         \n",
       "Covariance Type:            nonrobust                                         \n",
       "====================================================================================\n",
       "                       coef    std err          t      P>|t|      [0.025      0.975]\n",
       "------------------------------------------------------------------------------------\n",
       "Intercept        -2696.2870    745.394     -3.617      0.000   -4158.899   -1233.675\n",
       "age                270.2830     14.101     19.168      0.000     242.614     297.952\n",
       "children           466.2764    164.303      2.838      0.005     143.881     788.672\n",
       "sex_male           102.6243    396.723      0.259      0.796    -675.826     881.075\n",
       "smoker_yes        2.343e+04    493.580     47.474      0.000    2.25e+04    2.44e+04\n",
       "region_northwest  -327.8673    577.488     -0.568      0.570   -1461.013     805.279\n",
       "region_southeast   553.1110    557.907      0.991      0.322    -541.614    1647.836\n",
       "region_southwest  -361.8117    568.761     -0.636      0.525   -1477.834     754.211\n",
       "==============================================================================\n",
       "Omnibus:                      234.326   Durbin-Watson:                   2.027\n",
       "Prob(Omnibus):                  0.000   Jarque-Bera (JB):              576.392\n",
       "Skew:                           1.160   Prob(JB):                    6.89e-126\n",
       "Kurtosis:                       5.746   Cond. No.                         202.\n",
       "==============================================================================\n",
       "\n",
       "Notes:\n",
       "[1] Standard Errors assume that the covariance matrix of the errors is correctly specified.\n",
       "\"\"\""
      ]
     },
     "execution_count": 46,
     "metadata": {},
     "output_type": "execute_result"
    }
   ],
   "source": [
    "lm2.summary()"
   ]
  },
  {
   "cell_type": "code",
   "execution_count": 47,
   "id": "812cc6e0",
   "metadata": {
    "execution": {
     "iopub.execute_input": "2023-02-28T22:56:56.620672Z",
     "iopub.status.busy": "2023-02-28T22:56:56.620348Z",
     "iopub.status.idle": "2023-02-28T22:56:56.628800Z",
     "shell.execute_reply": "2023-02-28T22:56:56.626959Z"
    },
    "papermill": {
     "duration": 0.034932,
     "end_time": "2023-02-28T22:56:56.631204",
     "exception": false,
     "start_time": "2023-02-28T22:56:56.596272",
     "status": "completed"
    },
    "tags": []
   },
   "outputs": [
    {
     "data": {
      "text/plain": [
       "Intercept            3.117351e-04\n",
       "age                  1.470529e-70\n",
       "children             4.627563e-03\n",
       "sex_male             7.959326e-01\n",
       "smoker_yes          8.139136e-265\n",
       "region_northwest     5.703262e-01\n",
       "region_southeast     3.217141e-01\n",
       "region_southwest     5.248220e-01\n",
       "dtype: float64"
      ]
     },
     "execution_count": 47,
     "metadata": {},
     "output_type": "execute_result"
    }
   ],
   "source": [
    "lm2.pvalues"
   ]
  },
  {
   "cell_type": "markdown",
   "id": "44e5e46c",
   "metadata": {
    "papermill": {
     "duration": 0.023212,
     "end_time": "2023-02-28T22:56:56.677370",
     "exception": false,
     "start_time": "2023-02-28T22:56:56.654158",
     "status": "completed"
    },
    "tags": []
   },
   "source": [
    "### Conclusiones del modelo de predicción lineal con la librería statsmodels.\n",
    "* #### Observamos un p valor del estadístico f por lo que no habría de preocuparnos de que todos los coeficientes que acompañan a las variables sean 0.\n",
    "* #### Pero si observamos, que las variables sex_male, region_northwest, region_southeast, region_southwest tienen un p valor alto, por lo que podríamos eliminarlas del modelo. De esta manera conlcuyo que el sexo y la región de la persona no influye en el costo final del seguro medico, pero los que si influyen son la edad, el indice de masa corporal, si tiene hijos y si es o no fumador."
   ]
  },
  {
   "cell_type": "code",
   "execution_count": 48,
   "id": "3d939706",
   "metadata": {
    "execution": {
     "iopub.execute_input": "2023-02-28T22:56:56.726164Z",
     "iopub.status.busy": "2023-02-28T22:56:56.724624Z",
     "iopub.status.idle": "2023-02-28T22:56:56.730802Z",
     "shell.execute_reply": "2023-02-28T22:56:56.729928Z"
    },
    "papermill": {
     "duration": 0.032292,
     "end_time": "2023-02-28T22:56:56.732798",
     "exception": false,
     "start_time": "2023-02-28T22:56:56.700506",
     "status": "completed"
    },
    "tags": []
   },
   "outputs": [],
   "source": [
    "X = data_new.drop([\"charges\"],axis=1)\n",
    "Y = data_new[\"charges\"]"
   ]
  },
  {
   "cell_type": "code",
   "execution_count": 49,
   "id": "dec8c6e4",
   "metadata": {
    "execution": {
     "iopub.execute_input": "2023-02-28T22:56:56.779616Z",
     "iopub.status.busy": "2023-02-28T22:56:56.779270Z",
     "iopub.status.idle": "2023-02-28T22:56:56.785021Z",
     "shell.execute_reply": "2023-02-28T22:56:56.784050Z"
    },
    "papermill": {
     "duration": 0.031115,
     "end_time": "2023-02-28T22:56:56.786670",
     "exception": false,
     "start_time": "2023-02-28T22:56:56.755555",
     "status": "completed"
    },
    "tags": []
   },
   "outputs": [],
   "source": [
    "X.drop([\"sex_male\",\"region_northwest\",\n",
    "       \"region_southeast\",\"region_southwest\"],\n",
    "       axis=1,inplace=True)"
   ]
  },
  {
   "cell_type": "code",
   "execution_count": 50,
   "id": "08219ba2",
   "metadata": {
    "execution": {
     "iopub.execute_input": "2023-02-28T22:56:56.834071Z",
     "iopub.status.busy": "2023-02-28T22:56:56.832580Z",
     "iopub.status.idle": "2023-02-28T22:56:56.839870Z",
     "shell.execute_reply": "2023-02-28T22:56:56.839093Z"
    },
    "papermill": {
     "duration": 0.033028,
     "end_time": "2023-02-28T22:56:56.842161",
     "exception": false,
     "start_time": "2023-02-28T22:56:56.809133",
     "status": "completed"
    },
    "tags": []
   },
   "outputs": [
    {
     "name": "stdout",
     "output_type": "stream",
     "text": [
      "(1070, 4) (1070,)\n",
      "(268, 4) (268,)\n"
     ]
    }
   ],
   "source": [
    "x_train, x_test, y_train, y_test = train_test_split(X,Y, test_size=0.2, random_state=0)\n",
    "print(x_train.shape,y_train.shape)\n",
    "print(x_test.shape,y_test.shape)"
   ]
  },
  {
   "cell_type": "code",
   "execution_count": 51,
   "id": "687de3a7",
   "metadata": {
    "execution": {
     "iopub.execute_input": "2023-02-28T22:56:56.890940Z",
     "iopub.status.busy": "2023-02-28T22:56:56.890565Z",
     "iopub.status.idle": "2023-02-28T22:56:56.901229Z",
     "shell.execute_reply": "2023-02-28T22:56:56.900436Z"
    },
    "papermill": {
     "duration": 0.03837,
     "end_time": "2023-02-28T22:56:56.903562",
     "exception": false,
     "start_time": "2023-02-28T22:56:56.865192",
     "status": "completed"
    },
    "tags": []
   },
   "outputs": [
    {
     "data": {
      "text/plain": [
       "LinearRegression()"
      ]
     },
     "execution_count": 51,
     "metadata": {},
     "output_type": "execute_result"
    }
   ],
   "source": [
    "lm = LinearRegression()\n",
    "lm.fit(x_train,y_train)"
   ]
  },
  {
   "cell_type": "code",
   "execution_count": 52,
   "id": "b6b02779",
   "metadata": {
    "execution": {
     "iopub.execute_input": "2023-02-28T22:56:56.952226Z",
     "iopub.status.busy": "2023-02-28T22:56:56.951208Z",
     "iopub.status.idle": "2023-02-28T22:56:56.957129Z",
     "shell.execute_reply": "2023-02-28T22:56:56.956150Z"
    },
    "papermill": {
     "duration": 0.032542,
     "end_time": "2023-02-28T22:56:56.959274",
     "exception": false,
     "start_time": "2023-02-28T22:56:56.926732",
     "status": "completed"
    },
    "tags": []
   },
   "outputs": [],
   "source": [
    "charges_predict = lm.predict(x_test)"
   ]
  },
  {
   "cell_type": "code",
   "execution_count": 53,
   "id": "8020afeb",
   "metadata": {
    "execution": {
     "iopub.execute_input": "2023-02-28T22:56:57.007457Z",
     "iopub.status.busy": "2023-02-28T22:56:57.006621Z",
     "iopub.status.idle": "2023-02-28T22:56:57.158046Z",
     "shell.execute_reply": "2023-02-28T22:56:57.156715Z"
    },
    "papermill": {
     "duration": 0.178283,
     "end_time": "2023-02-28T22:56:57.160478",
     "exception": false,
     "start_time": "2023-02-28T22:56:56.982195",
     "status": "completed"
    },
    "tags": []
   },
   "outputs": [
    {
     "data": {
      "text/plain": [
       "<matplotlib.collections.PathCollection at 0x7fbab675c210>"
      ]
     },
     "execution_count": 53,
     "metadata": {},
     "output_type": "execute_result"
    },
    {
     "data": {
      "image/png": "[encoded data removed]",
      "text/plain": [
       "<Figure size 640x480 with 1 Axes>"
      ]
     },
     "metadata": {},
     "output_type": "display_data"
    }
   ],
   "source": [
    "plt.scatter(y_test,charges_predict)"
   ]
  },
  {
   "cell_type": "code",
   "execution_count": 54,
   "id": "4ca2fd22",
   "metadata": {
    "execution": {
     "iopub.execute_input": "2023-02-28T22:56:57.210243Z",
     "iopub.status.busy": "2023-02-28T22:56:57.209042Z",
     "iopub.status.idle": "2023-02-28T22:56:57.346105Z",
     "shell.execute_reply": "2023-02-28T22:56:57.345347Z"
    },
    "papermill": {
     "duration": 0.163758,
     "end_time": "2023-02-28T22:56:57.348021",
     "exception": false,
     "start_time": "2023-02-28T22:56:57.184263",
     "status": "completed"
    },
    "tags": []
   },
   "outputs": [
    {
     "data": {
      "text/plain": [
       "(array([ 20.,  12., 105.,  73.,  11.,  32.,   5.,   5.,   1.,   4.]),\n",
       " array([-10770.3312807 ,  -7436.49379967,  -4102.65631864,   -768.81883762,\n",
       "          2565.01864341,   5898.85612444,   9232.69360546,  12566.53108649,\n",
       "         15900.36856752,  19234.20604854,  22568.04352957]),\n",
       " <BarContainer object of 10 artists>)"
      ]
     },
     "execution_count": 54,
     "metadata": {},
     "output_type": "execute_result"
    },
    {
     "data": {
      "image/png": "[encoded data removed]",
      "text/plain": [
       "<Figure size 640x480 with 1 Axes>"
      ]
     },
     "metadata": {},
     "output_type": "display_data"
    }
   ],
   "source": [
    "plt.hist(y_test-charges_predict)"
   ]
  },
  {
   "cell_type": "code",
   "execution_count": 55,
   "id": "fbd6d2a2",
   "metadata": {
    "execution": {
     "iopub.execute_input": "2023-02-28T22:56:57.398065Z",
     "iopub.status.busy": "2023-02-28T22:56:57.396980Z",
     "iopub.status.idle": "2023-02-28T22:56:57.407100Z",
     "shell.execute_reply": "2023-02-28T22:56:57.405638Z"
    },
    "papermill": {
     "duration": 0.037781,
     "end_time": "2023-02-28T22:56:57.409507",
     "exception": false,
     "start_time": "2023-02-28T22:56:57.371726",
     "status": "completed"
    },
    "tags": []
   },
   "outputs": [
    {
     "data": {
      "text/plain": [
       "0.7978274606303823"
      ]
     },
     "execution_count": 55,
     "metadata": {},
     "output_type": "execute_result"
    }
   ],
   "source": [
    "lm.score(x_test,y_test)"
   ]
  },
  {
   "cell_type": "code",
   "execution_count": 56,
   "id": "ab817d0b",
   "metadata": {
    "execution": {
     "iopub.execute_input": "2023-02-28T22:56:57.458945Z",
     "iopub.status.busy": "2023-02-28T22:56:57.458604Z",
     "iopub.status.idle": "2023-02-28T22:56:57.470281Z",
     "shell.execute_reply": "2023-02-28T22:56:57.469014Z"
    },
    "papermill": {
     "duration": 0.03864,
     "end_time": "2023-02-28T22:56:57.472060",
     "exception": false,
     "start_time": "2023-02-28T22:56:57.433420",
     "status": "completed"
    },
    "tags": []
   },
   "outputs": [
    {
     "data": {
      "text/html": [
       "<div>\n",
       "<style scoped>\n",
       "    .dataframe tbody tr th:only-of-type {\n",
       "        vertical-align: middle;\n",
       "    }\n",
       "\n",
       "    .dataframe tbody tr th {\n",
       "        vertical-align: top;\n",
       "    }\n",
       "\n",
       "    .dataframe thead th {\n",
       "        text-align: right;\n",
       "    }\n",
       "</style>\n",
       "<table border=\"1\" class=\"dataframe\">\n",
       "  <thead>\n",
       "    <tr style=\"text-align: right;\">\n",
       "      <th></th>\n",
       "      <th>age</th>\n",
       "      <th>bmi</th>\n",
       "      <th>children</th>\n",
       "      <th>smoker_yes</th>\n",
       "    </tr>\n",
       "  </thead>\n",
       "  <tbody>\n",
       "    <tr>\n",
       "      <th>578</th>\n",
       "      <td>52</td>\n",
       "      <td>30.200</td>\n",
       "      <td>1</td>\n",
       "      <td>0</td>\n",
       "    </tr>\n",
       "    <tr>\n",
       "      <th>610</th>\n",
       "      <td>47</td>\n",
       "      <td>29.370</td>\n",
       "      <td>1</td>\n",
       "      <td>0</td>\n",
       "    </tr>\n",
       "    <tr>\n",
       "      <th>569</th>\n",
       "      <td>48</td>\n",
       "      <td>40.565</td>\n",
       "      <td>2</td>\n",
       "      <td>1</td>\n",
       "    </tr>\n",
       "    <tr>\n",
       "      <th>1034</th>\n",
       "      <td>61</td>\n",
       "      <td>38.380</td>\n",
       "      <td>0</td>\n",
       "      <td>0</td>\n",
       "    </tr>\n",
       "    <tr>\n",
       "      <th>198</th>\n",
       "      <td>51</td>\n",
       "      <td>18.050</td>\n",
       "      <td>0</td>\n",
       "      <td>0</td>\n",
       "    </tr>\n",
       "  </tbody>\n",
       "</table>\n",
       "</div>"
      ],
      "text/plain": [
       "      age     bmi  children  smoker_yes\n",
       "578    52  30.200         1           0\n",
       "610    47  29.370         1           0\n",
       "569    48  40.565         2           1\n",
       "1034   61  38.380         0           0\n",
       "198    51  18.050         0           0"
      ]
     },
     "execution_count": 56,
     "metadata": {},
     "output_type": "execute_result"
    }
   ],
   "source": [
    "x_test.head()"
   ]
  }
 ],
 "metadata": {
  "kernelspec": {
   "display_name": "Python 3",
   "language": "python",
   "name": "python3"
  },
  "language_info": {
   "codemirror_mode": {
    "name": "ipython",
    "version": 3
   },
   "file_extension": ".py",
   "mimetype": "text/x-python",
   "name": "python",
   "nbconvert_exporter": "python",
   "pygments_lexer": "ipython3",
   "version": "3.7.12"
  },
  "papermill": {
   "default_parameters": {},
   "duration": 17.95343,
   "end_time": "2023-02-28T22:56:58.217762",
   "environment_variables": {},
   "exception": null,
   "input_path": "__notebook__.ipynb",
   "output_path": "__notebook__.ipynb",
   "parameters": {},
   "start_time": "2023-02-28T22:56:40.264332",
   "version": "2.4.0"
  }
 },
 "nbformat": 4,
 "nbformat_minor": 5
}
