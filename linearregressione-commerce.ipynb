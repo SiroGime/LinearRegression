{
 "cells": [
  {
   "cell_type": "markdown",
   "id": "b4c4b1dd",
   "metadata": {
    "papermill": {
     "duration": 0.008339,
     "end_time": "2023-05-03T00:40:55.081347",
     "exception": false,
     "start_time": "2023-05-03T00:40:55.073008",
     "status": "completed"
    },
    "tags": []
   },
   "source": [
    "> ## Formulación del problema.\n",
    "\n",
    "#### Este dataset contiene información de clientes que compran ropa online. La tienda ofrece sesiones de asesoramiento de estilo y ropa en la tienda. Los clientes van a la tienda, tienen sesiones/reuniones con un estilista personal y luego pueden irse a su casa y hacer pedidos en la aplicación móvil o en el sitio web para la ropa que desean.\n",
    "\n",
    "#### La compañía está tratando de decidir si enfocar sus esfuerzos en la experiencia de su aplicación móvil o en su sitio web."
   ]
  },
  {
   "cell_type": "markdown",
   "id": "2a9eaa46",
   "metadata": {
    "papermill": {
     "duration": 0.0076,
     "end_time": "2023-05-03T00:40:55.096946",
     "exception": false,
     "start_time": "2023-05-03T00:40:55.089346",
     "status": "completed"
    },
    "tags": []
   },
   "source": [
    "> ## Recolección de datos.\n",
    "\n",
    "#### Link: https://www.kaggle.com/datasets/kolawale/focusing-on-mobile-app-or-website"
   ]
  },
  {
   "cell_type": "code",
   "execution_count": 1,
   "id": "90009fbf",
   "metadata": {
    "execution": {
     "iopub.execute_input": "2023-05-03T00:40:55.116274Z",
     "iopub.status.busy": "2023-05-03T00:40:55.114964Z",
     "iopub.status.idle": "2023-05-03T00:40:55.132591Z",
     "shell.execute_reply": "2023-05-03T00:40:55.131080Z"
    },
    "papermill": {
     "duration": 0.029436,
     "end_time": "2023-05-03T00:40:55.134982",
     "exception": false,
     "start_time": "2023-05-03T00:40:55.105546",
     "status": "completed"
    },
    "tags": []
   },
   "outputs": [
    {
     "name": "stdout",
     "output_type": "stream",
     "text": [
      "/kaggle/input/focusing-on-mobile-app-or-website/Ecommerce Customers\n"
     ]
    }
   ],
   "source": [
    "import numpy as np \n",
    "import pandas as pd \n",
    "\n",
    "import os\n",
    "for dirname, _, filenames in os.walk('/kaggle/input'):\n",
    "    for filename in filenames:\n",
    "        print(os.path.join(dirname, filename))"
   ]
  },
  {
   "cell_type": "markdown",
   "id": "16d870c7",
   "metadata": {
    "papermill": {
     "duration": 0.007695,
     "end_time": "2023-05-03T00:40:55.150924",
     "exception": false,
     "start_time": "2023-05-03T00:40:55.143229",
     "status": "completed"
    },
    "tags": []
   },
   "source": [
    "> ## Exploración de datos."
   ]
  },
  {
   "cell_type": "code",
   "execution_count": 2,
   "id": "18224d16",
   "metadata": {
    "execution": {
     "iopub.execute_input": "2023-05-03T00:40:55.169100Z",
     "iopub.status.busy": "2023-05-03T00:40:55.168367Z",
     "iopub.status.idle": "2023-05-03T00:40:55.223162Z",
     "shell.execute_reply": "2023-05-03T00:40:55.221872Z"
    },
    "papermill": {
     "duration": 0.066533,
     "end_time": "2023-05-03T00:40:55.225544",
     "exception": false,
     "start_time": "2023-05-03T00:40:55.159011",
     "status": "completed"
    },
    "tags": []
   },
   "outputs": [
    {
     "data": {
      "text/html": [
       "<div>\n",
       "<style scoped>\n",
       "    .dataframe tbody tr th:only-of-type {\n",
       "        vertical-align: middle;\n",
       "    }\n",
       "\n",
       "    .dataframe tbody tr th {\n",
       "        vertical-align: top;\n",
       "    }\n",
       "\n",
       "    .dataframe thead th {\n",
       "        text-align: right;\n",
       "    }\n",
       "</style>\n",
       "<table border=\"1\" class=\"dataframe\">\n",
       "  <thead>\n",
       "    <tr style=\"text-align: right;\">\n",
       "      <th></th>\n",
       "      <th>Email</th>\n",
       "      <th>Address</th>\n",
       "      <th>Avatar</th>\n",
       "      <th>Avg. Session Length</th>\n",
       "      <th>Time on App</th>\n",
       "      <th>Time on Website</th>\n",
       "      <th>Length of Membership</th>\n",
       "      <th>Yearly Amount Spent</th>\n",
       "    </tr>\n",
       "  </thead>\n",
       "  <tbody>\n",
       "    <tr>\n",
       "      <th>0</th>\n",
       "      <td>mstephenson@fernandez.com</td>\n",
       "      <td>835 Frank Tunnel\\nWrightmouth, MI 82180-9605</td>\n",
       "      <td>Violet</td>\n",
       "      <td>34.497268</td>\n",
       "      <td>12.655651</td>\n",
       "      <td>39.577668</td>\n",
       "      <td>4.082621</td>\n",
       "      <td>587.951054</td>\n",
       "    </tr>\n",
       "    <tr>\n",
       "      <th>1</th>\n",
       "      <td>hduke@hotmail.com</td>\n",
       "      <td>4547 Archer Common\\nDiazchester, CA 06566-8576</td>\n",
       "      <td>DarkGreen</td>\n",
       "      <td>31.926272</td>\n",
       "      <td>11.109461</td>\n",
       "      <td>37.268959</td>\n",
       "      <td>2.664034</td>\n",
       "      <td>392.204933</td>\n",
       "    </tr>\n",
       "    <tr>\n",
       "      <th>2</th>\n",
       "      <td>pallen@yahoo.com</td>\n",
       "      <td>24645 Valerie Unions Suite 582\\nCobbborough, D...</td>\n",
       "      <td>Bisque</td>\n",
       "      <td>33.000915</td>\n",
       "      <td>11.330278</td>\n",
       "      <td>37.110597</td>\n",
       "      <td>4.104543</td>\n",
       "      <td>487.547505</td>\n",
       "    </tr>\n",
       "    <tr>\n",
       "      <th>3</th>\n",
       "      <td>riverarebecca@gmail.com</td>\n",
       "      <td>1414 David Throughway\\nPort Jason, OH 22070-1220</td>\n",
       "      <td>SaddleBrown</td>\n",
       "      <td>34.305557</td>\n",
       "      <td>13.717514</td>\n",
       "      <td>36.721283</td>\n",
       "      <td>3.120179</td>\n",
       "      <td>581.852344</td>\n",
       "    </tr>\n",
       "    <tr>\n",
       "      <th>4</th>\n",
       "      <td>mstephens@davidson-herman.com</td>\n",
       "      <td>14023 Rodriguez Passage\\nPort Jacobville, PR 3...</td>\n",
       "      <td>MediumAquaMarine</td>\n",
       "      <td>33.330673</td>\n",
       "      <td>12.795189</td>\n",
       "      <td>37.536653</td>\n",
       "      <td>4.446308</td>\n",
       "      <td>599.406092</td>\n",
       "    </tr>\n",
       "  </tbody>\n",
       "</table>\n",
       "</div>"
      ],
      "text/plain": [
       "                           Email  \\\n",
       "0      mstephenson@fernandez.com   \n",
       "1              hduke@hotmail.com   \n",
       "2               pallen@yahoo.com   \n",
       "3        riverarebecca@gmail.com   \n",
       "4  mstephens@davidson-herman.com   \n",
       "\n",
       "                                             Address            Avatar  \\\n",
       "0       835 Frank Tunnel\\nWrightmouth, MI 82180-9605            Violet   \n",
       "1     4547 Archer Common\\nDiazchester, CA 06566-8576         DarkGreen   \n",
       "2  24645 Valerie Unions Suite 582\\nCobbborough, D...            Bisque   \n",
       "3   1414 David Throughway\\nPort Jason, OH 22070-1220       SaddleBrown   \n",
       "4  14023 Rodriguez Passage\\nPort Jacobville, PR 3...  MediumAquaMarine   \n",
       "\n",
       "   Avg. Session Length  Time on App  Time on Website  Length of Membership  \\\n",
       "0            34.497268    12.655651        39.577668              4.082621   \n",
       "1            31.926272    11.109461        37.268959              2.664034   \n",
       "2            33.000915    11.330278        37.110597              4.104543   \n",
       "3            34.305557    13.717514        36.721283              3.120179   \n",
       "4            33.330673    12.795189        37.536653              4.446308   \n",
       "\n",
       "   Yearly Amount Spent  \n",
       "0           587.951054  \n",
       "1           392.204933  \n",
       "2           487.547505  \n",
       "3           581.852344  \n",
       "4           599.406092  "
      ]
     },
     "execution_count": 2,
     "metadata": {},
     "output_type": "execute_result"
    }
   ],
   "source": [
    "data = pd.read_csv(\"/kaggle/input/focusing-on-mobile-app-or-website/Ecommerce Customers\")\n",
    "data.head()"
   ]
  },
  {
   "cell_type": "code",
   "execution_count": 3,
   "id": "adaa1171",
   "metadata": {
    "execution": {
     "iopub.execute_input": "2023-05-03T00:40:55.245533Z",
     "iopub.status.busy": "2023-05-03T00:40:55.244084Z",
     "iopub.status.idle": "2023-05-03T00:40:55.254615Z",
     "shell.execute_reply": "2023-05-03T00:40:55.252600Z"
    },
    "papermill": {
     "duration": 0.023913,
     "end_time": "2023-05-03T00:40:55.257883",
     "exception": false,
     "start_time": "2023-05-03T00:40:55.233970",
     "status": "completed"
    },
    "tags": []
   },
   "outputs": [
    {
     "data": {
      "text/plain": [
       "(500, 8)"
      ]
     },
     "execution_count": 3,
     "metadata": {},
     "output_type": "execute_result"
    }
   ],
   "source": [
    "data.shape"
   ]
  },
  {
   "cell_type": "code",
   "execution_count": 4,
   "id": "400d027b",
   "metadata": {
    "execution": {
     "iopub.execute_input": "2023-05-03T00:40:55.280990Z",
     "iopub.status.busy": "2023-05-03T00:40:55.280251Z",
     "iopub.status.idle": "2023-05-03T00:40:55.288550Z",
     "shell.execute_reply": "2023-05-03T00:40:55.287645Z"
    },
    "papermill": {
     "duration": 0.021565,
     "end_time": "2023-05-03T00:40:55.291082",
     "exception": false,
     "start_time": "2023-05-03T00:40:55.269517",
     "status": "completed"
    },
    "tags": []
   },
   "outputs": [
    {
     "data": {
      "text/plain": [
       "Email                    object\n",
       "Address                  object\n",
       "Avatar                   object\n",
       "Avg. Session Length     float64\n",
       "Time on App             float64\n",
       "Time on Website         float64\n",
       "Length of Membership    float64\n",
       "Yearly Amount Spent     float64\n",
       "dtype: object"
      ]
     },
     "execution_count": 4,
     "metadata": {},
     "output_type": "execute_result"
    }
   ],
   "source": [
    "data.dtypes"
   ]
  },
  {
   "cell_type": "code",
   "execution_count": 5,
   "id": "b4f127bb",
   "metadata": {
    "execution": {
     "iopub.execute_input": "2023-05-03T00:40:55.314965Z",
     "iopub.status.busy": "2023-05-03T00:40:55.313974Z",
     "iopub.status.idle": "2023-05-03T00:40:55.330857Z",
     "shell.execute_reply": "2023-05-03T00:40:55.329627Z"
    },
    "papermill": {
     "duration": 0.030329,
     "end_time": "2023-05-03T00:40:55.333775",
     "exception": false,
     "start_time": "2023-05-03T00:40:55.303446",
     "status": "completed"
    },
    "tags": []
   },
   "outputs": [
    {
     "data": {
      "text/plain": [
       "Email                   0\n",
       "Address                 0\n",
       "Avatar                  0\n",
       "Avg. Session Length     0\n",
       "Time on App             0\n",
       "Time on Website         0\n",
       "Length of Membership    0\n",
       "Yearly Amount Spent     0\n",
       "dtype: int64"
      ]
     },
     "execution_count": 5,
     "metadata": {},
     "output_type": "execute_result"
    }
   ],
   "source": [
    "data.isnull().sum()"
   ]
  },
  {
   "cell_type": "code",
   "execution_count": 6,
   "id": "a9197ffd",
   "metadata": {
    "execution": {
     "iopub.execute_input": "2023-05-03T00:40:55.356185Z",
     "iopub.status.busy": "2023-05-03T00:40:55.355771Z",
     "iopub.status.idle": "2023-05-03T00:40:55.373262Z",
     "shell.execute_reply": "2023-05-03T00:40:55.372109Z"
    },
    "papermill": {
     "duration": 0.029841,
     "end_time": "2023-05-03T00:40:55.375488",
     "exception": false,
     "start_time": "2023-05-03T00:40:55.345647",
     "status": "completed"
    },
    "tags": []
   },
   "outputs": [
    {
     "data": {
      "text/plain": [
       "0"
      ]
     },
     "execution_count": 6,
     "metadata": {},
     "output_type": "execute_result"
    }
   ],
   "source": [
    "data.duplicated().sum()"
   ]
  },
  {
   "cell_type": "code",
   "execution_count": 7,
   "id": "9ed2e725",
   "metadata": {
    "execution": {
     "iopub.execute_input": "2023-05-03T00:40:55.395940Z",
     "iopub.status.busy": "2023-05-03T00:40:55.395276Z",
     "iopub.status.idle": "2023-05-03T00:40:55.423225Z",
     "shell.execute_reply": "2023-05-03T00:40:55.422246Z"
    },
    "papermill": {
     "duration": 0.040474,
     "end_time": "2023-05-03T00:40:55.425501",
     "exception": false,
     "start_time": "2023-05-03T00:40:55.385027",
     "status": "completed"
    },
    "tags": []
   },
   "outputs": [
    {
     "name": "stdout",
     "output_type": "stream",
     "text": [
      "<class 'pandas.core.frame.DataFrame'>\n",
      "RangeIndex: 500 entries, 0 to 499\n",
      "Data columns (total 8 columns):\n",
      " #   Column                Non-Null Count  Dtype  \n",
      "---  ------                --------------  -----  \n",
      " 0   Email                 500 non-null    object \n",
      " 1   Address               500 non-null    object \n",
      " 2   Avatar                500 non-null    object \n",
      " 3   Avg. Session Length   500 non-null    float64\n",
      " 4   Time on App           500 non-null    float64\n",
      " 5   Time on Website       500 non-null    float64\n",
      " 6   Length of Membership  500 non-null    float64\n",
      " 7   Yearly Amount Spent   500 non-null    float64\n",
      "dtypes: float64(5), object(3)\n",
      "memory usage: 31.4+ KB\n"
     ]
    }
   ],
   "source": [
    "data.info()"
   ]
  },
  {
   "cell_type": "markdown",
   "id": "e7fe0d07",
   "metadata": {
    "papermill": {
     "duration": 0.008463,
     "end_time": "2023-05-03T00:40:55.443377",
     "exception": false,
     "start_time": "2023-05-03T00:40:55.434914",
     "status": "completed"
    },
    "tags": []
   },
   "source": [
    "### Descripción dataset\n",
    "* #### Contiene 8 columnas/variables/atributos y 500 filas/observaciones.\n",
    "* #### 3 variables son categóricas y 5 son numéricas incluyendo la variable dependiente/objetivo.\n",
    "* #### No tiene valores nulos ni filas duplicadas."
   ]
  },
  {
   "cell_type": "markdown",
   "id": "f24c96f0",
   "metadata": {
    "papermill": {
     "duration": 0.008512,
     "end_time": "2023-05-03T00:40:55.460735",
     "exception": false,
     "start_time": "2023-05-03T00:40:55.452223",
     "status": "completed"
    },
    "tags": []
   },
   "source": [
    "> ## Preprocesado de datos.\n",
    "* #### Eliminaré las columnas \"Email\",\"Avatar\" y \"Address\" del dataset para el modelo de regresión lineal."
   ]
  },
  {
   "cell_type": "code",
   "execution_count": 8,
   "id": "dff3e259",
   "metadata": {
    "execution": {
     "iopub.execute_input": "2023-05-03T00:40:55.480960Z",
     "iopub.status.busy": "2023-05-03T00:40:55.480178Z",
     "iopub.status.idle": "2023-05-03T00:40:55.494314Z",
     "shell.execute_reply": "2023-05-03T00:40:55.493430Z"
    },
    "papermill": {
     "duration": 0.02662,
     "end_time": "2023-05-03T00:40:55.496400",
     "exception": false,
     "start_time": "2023-05-03T00:40:55.469780",
     "status": "completed"
    },
    "tags": []
   },
   "outputs": [
    {
     "data": {
      "text/html": [
       "<div>\n",
       "<style scoped>\n",
       "    .dataframe tbody tr th:only-of-type {\n",
       "        vertical-align: middle;\n",
       "    }\n",
       "\n",
       "    .dataframe tbody tr th {\n",
       "        vertical-align: top;\n",
       "    }\n",
       "\n",
       "    .dataframe thead th {\n",
       "        text-align: right;\n",
       "    }\n",
       "</style>\n",
       "<table border=\"1\" class=\"dataframe\">\n",
       "  <thead>\n",
       "    <tr style=\"text-align: right;\">\n",
       "      <th></th>\n",
       "      <th>Avg. Session Length</th>\n",
       "      <th>Time on App</th>\n",
       "      <th>Time on Website</th>\n",
       "      <th>Length of Membership</th>\n",
       "      <th>Yearly Amount Spent</th>\n",
       "    </tr>\n",
       "  </thead>\n",
       "  <tbody>\n",
       "    <tr>\n",
       "      <th>0</th>\n",
       "      <td>34.497268</td>\n",
       "      <td>12.655651</td>\n",
       "      <td>39.577668</td>\n",
       "      <td>4.082621</td>\n",
       "      <td>587.951054</td>\n",
       "    </tr>\n",
       "    <tr>\n",
       "      <th>1</th>\n",
       "      <td>31.926272</td>\n",
       "      <td>11.109461</td>\n",
       "      <td>37.268959</td>\n",
       "      <td>2.664034</td>\n",
       "      <td>392.204933</td>\n",
       "    </tr>\n",
       "    <tr>\n",
       "      <th>2</th>\n",
       "      <td>33.000915</td>\n",
       "      <td>11.330278</td>\n",
       "      <td>37.110597</td>\n",
       "      <td>4.104543</td>\n",
       "      <td>487.547505</td>\n",
       "    </tr>\n",
       "    <tr>\n",
       "      <th>3</th>\n",
       "      <td>34.305557</td>\n",
       "      <td>13.717514</td>\n",
       "      <td>36.721283</td>\n",
       "      <td>3.120179</td>\n",
       "      <td>581.852344</td>\n",
       "    </tr>\n",
       "    <tr>\n",
       "      <th>4</th>\n",
       "      <td>33.330673</td>\n",
       "      <td>12.795189</td>\n",
       "      <td>37.536653</td>\n",
       "      <td>4.446308</td>\n",
       "      <td>599.406092</td>\n",
       "    </tr>\n",
       "  </tbody>\n",
       "</table>\n",
       "</div>"
      ],
      "text/plain": [
       "   Avg. Session Length  Time on App  Time on Website  Length of Membership  \\\n",
       "0            34.497268    12.655651        39.577668              4.082621   \n",
       "1            31.926272    11.109461        37.268959              2.664034   \n",
       "2            33.000915    11.330278        37.110597              4.104543   \n",
       "3            34.305557    13.717514        36.721283              3.120179   \n",
       "4            33.330673    12.795189        37.536653              4.446308   \n",
       "\n",
       "   Yearly Amount Spent  \n",
       "0           587.951054  \n",
       "1           392.204933  \n",
       "2           487.547505  \n",
       "3           581.852344  \n",
       "4           599.406092  "
      ]
     },
     "execution_count": 8,
     "metadata": {},
     "output_type": "execute_result"
    }
   ],
   "source": [
    "data_cp = data.copy()\n",
    "data_cp.drop([\"Email\",\"Avatar\",\"Address\"], axis=1, inplace=True)\n",
    "data_cp.head()"
   ]
  },
  {
   "cell_type": "markdown",
   "id": "66c0ce22",
   "metadata": {
    "papermill": {
     "duration": 0.008994,
     "end_time": "2023-05-03T00:40:55.514992",
     "exception": false,
     "start_time": "2023-05-03T00:40:55.505998",
     "status": "completed"
    },
    "tags": []
   },
   "source": [
    "> ## Construcción del modelo"
   ]
  },
  {
   "cell_type": "markdown",
   "id": "cebeb9af",
   "metadata": {
    "papermill": {
     "duration": 0.008474,
     "end_time": "2023-05-03T00:40:55.532439",
     "exception": false,
     "start_time": "2023-05-03T00:40:55.523965",
     "status": "completed"
    },
    "tags": []
   },
   "source": [
    "* ### Correlación de las variables independientes con la variable dependiente."
   ]
  },
  {
   "cell_type": "code",
   "execution_count": 9,
   "id": "3561a535",
   "metadata": {
    "execution": {
     "iopub.execute_input": "2023-05-03T00:40:55.552846Z",
     "iopub.status.busy": "2023-05-03T00:40:55.552085Z",
     "iopub.status.idle": "2023-05-03T00:40:56.431901Z",
     "shell.execute_reply": "2023-05-03T00:40:56.430537Z"
    },
    "papermill": {
     "duration": 0.892788,
     "end_time": "2023-05-03T00:40:56.434562",
     "exception": false,
     "start_time": "2023-05-03T00:40:55.541774",
     "status": "completed"
    },
    "tags": []
   },
   "outputs": [
    {
     "data": {
      "image/png": "[encoded data removed]",
      "text/plain": [
       "<Figure size 500x300 with 1 Axes>"
      ]
     },
     "metadata": {},
     "output_type": "display_data"
    },
    {
     "data": {
      "image/png": "[encoded data removed]",
      "text/plain": [
       "<Figure size 500x300 with 1 Axes>"
      ]
     },
     "metadata": {},
     "output_type": "display_data"
    },
    {
     "data": {
      "image/png": "[encoded data removed]",
      "text/plain": [
       "<Figure size 500x300 with 1 Axes>"
      ]
     },
     "metadata": {},
     "output_type": "display_data"
    },
    {
     "data": {
      "image/png": "[encoded data removed]",
      "text/plain": [
       "<Figure size 500x300 with 1 Axes>"
      ]
     },
     "metadata": {},
     "output_type": "display_data"
    }
   ],
   "source": [
    "import matplotlib.pyplot as plt\n",
    "\n",
    "for col in data_cp.columns.drop(\"Yearly Amount Spent\"):\n",
    "    plt.figure(figsize=(5,3))\n",
    "    \n",
    "    plt.scatter(data[col], data[\"Yearly Amount Spent\"])\n",
    "    plt.title(col+\" vs Price\")\n",
    "    \n",
    "    plt.show()"
   ]
  },
  {
   "cell_type": "code",
   "execution_count": 10,
   "id": "8bc2325b",
   "metadata": {
    "execution": {
     "iopub.execute_input": "2023-05-03T00:40:56.459490Z",
     "iopub.status.busy": "2023-05-03T00:40:56.458237Z",
     "iopub.status.idle": "2023-05-03T00:40:56.474068Z",
     "shell.execute_reply": "2023-05-03T00:40:56.473148Z"
    },
    "papermill": {
     "duration": 0.03064,
     "end_time": "2023-05-03T00:40:56.476481",
     "exception": false,
     "start_time": "2023-05-03T00:40:56.445841",
     "status": "completed"
    },
    "tags": []
   },
   "outputs": [
    {
     "data": {
      "text/html": [
       "<div>\n",
       "<style scoped>\n",
       "    .dataframe tbody tr th:only-of-type {\n",
       "        vertical-align: middle;\n",
       "    }\n",
       "\n",
       "    .dataframe tbody tr th {\n",
       "        vertical-align: top;\n",
       "    }\n",
       "\n",
       "    .dataframe thead th {\n",
       "        text-align: right;\n",
       "    }\n",
       "</style>\n",
       "<table border=\"1\" class=\"dataframe\">\n",
       "  <thead>\n",
       "    <tr style=\"text-align: right;\">\n",
       "      <th></th>\n",
       "      <th>Avg. Session Length</th>\n",
       "      <th>Time on App</th>\n",
       "      <th>Time on Website</th>\n",
       "      <th>Length of Membership</th>\n",
       "      <th>Yearly Amount Spent</th>\n",
       "    </tr>\n",
       "  </thead>\n",
       "  <tbody>\n",
       "    <tr>\n",
       "      <th>Avg. Session Length</th>\n",
       "      <td>1.000000</td>\n",
       "      <td>-0.027826</td>\n",
       "      <td>-0.034987</td>\n",
       "      <td>0.060247</td>\n",
       "      <td>0.355088</td>\n",
       "    </tr>\n",
       "    <tr>\n",
       "      <th>Time on App</th>\n",
       "      <td>-0.027826</td>\n",
       "      <td>1.000000</td>\n",
       "      <td>0.082388</td>\n",
       "      <td>0.029143</td>\n",
       "      <td>0.499328</td>\n",
       "    </tr>\n",
       "    <tr>\n",
       "      <th>Time on Website</th>\n",
       "      <td>-0.034987</td>\n",
       "      <td>0.082388</td>\n",
       "      <td>1.000000</td>\n",
       "      <td>-0.047582</td>\n",
       "      <td>-0.002641</td>\n",
       "    </tr>\n",
       "    <tr>\n",
       "      <th>Length of Membership</th>\n",
       "      <td>0.060247</td>\n",
       "      <td>0.029143</td>\n",
       "      <td>-0.047582</td>\n",
       "      <td>1.000000</td>\n",
       "      <td>0.809084</td>\n",
       "    </tr>\n",
       "    <tr>\n",
       "      <th>Yearly Amount Spent</th>\n",
       "      <td>0.355088</td>\n",
       "      <td>0.499328</td>\n",
       "      <td>-0.002641</td>\n",
       "      <td>0.809084</td>\n",
       "      <td>1.000000</td>\n",
       "    </tr>\n",
       "  </tbody>\n",
       "</table>\n",
       "</div>"
      ],
      "text/plain": [
       "                      Avg. Session Length  Time on App  Time on Website  \\\n",
       "Avg. Session Length              1.000000    -0.027826        -0.034987   \n",
       "Time on App                     -0.027826     1.000000         0.082388   \n",
       "Time on Website                 -0.034987     0.082388         1.000000   \n",
       "Length of Membership             0.060247     0.029143        -0.047582   \n",
       "Yearly Amount Spent              0.355088     0.499328        -0.002641   \n",
       "\n",
       "                      Length of Membership  Yearly Amount Spent  \n",
       "Avg. Session Length               0.060247             0.355088  \n",
       "Time on App                       0.029143             0.499328  \n",
       "Time on Website                  -0.047582            -0.002641  \n",
       "Length of Membership              1.000000             0.809084  \n",
       "Yearly Amount Spent               0.809084             1.000000  "
      ]
     },
     "execution_count": 10,
     "metadata": {},
     "output_type": "execute_result"
    }
   ],
   "source": [
    "data_cp.corr()"
   ]
  },
  {
   "cell_type": "markdown",
   "id": "12d1bfc2",
   "metadata": {
    "papermill": {
     "duration": 0.011138,
     "end_time": "2023-05-03T00:40:56.499048",
     "exception": false,
     "start_time": "2023-05-03T00:40:56.487910",
     "status": "completed"
    },
    "tags": []
   },
   "source": [
    "* #### Observando los datos puedo comentar que la variable que mayor correlación tiene con la variable dependiente es la variable \"Length of Membership\". Sin embargo las variables \"Avg. Session Length\" y \"Time on App\" tienen un buen grado de correlación con la variable dependiente. La variable \"Time on Website\" tiene un indice negativo casi cero, por lo que intuyo que lo mejor sería invertir más en la aplicación que en el sitio web.\n",
    "* #### Con estos datos no observo un alto grado de multicolinealidad entre variables independientes. De igual manera Realizaré un chequeo más exhaustivo de multicolinealidad."
   ]
  },
  {
   "cell_type": "markdown",
   "id": "db27ac8d",
   "metadata": {
    "papermill": {
     "duration": 0.011053,
     "end_time": "2023-05-03T00:40:56.521426",
     "exception": false,
     "start_time": "2023-05-03T00:40:56.510373",
     "status": "completed"
    },
    "tags": []
   },
   "source": [
    "* ### Chequear las multicolinealidades"
   ]
  },
  {
   "cell_type": "code",
   "execution_count": 11,
   "id": "e870d501",
   "metadata": {
    "execution": {
     "iopub.execute_input": "2023-05-03T00:40:56.546198Z",
     "iopub.status.busy": "2023-05-03T00:40:56.545761Z",
     "iopub.status.idle": "2023-05-03T00:40:56.552876Z",
     "shell.execute_reply": "2023-05-03T00:40:56.551755Z"
    },
    "papermill": {
     "duration": 0.022437,
     "end_time": "2023-05-03T00:40:56.555110",
     "exception": false,
     "start_time": "2023-05-03T00:40:56.532673",
     "status": "completed"
    },
    "tags": []
   },
   "outputs": [],
   "source": [
    "X = data_cp.drop([\"Yearly Amount Spent\"], axis=1)\n",
    "Y = data_cp[\"Yearly Amount Spent\"]"
   ]
  },
  {
   "cell_type": "code",
   "execution_count": 12,
   "id": "b42e7d96",
   "metadata": {
    "execution": {
     "iopub.execute_input": "2023-05-03T00:40:56.580438Z",
     "iopub.status.busy": "2023-05-03T00:40:56.580000Z",
     "iopub.status.idle": "2023-05-03T00:40:57.939994Z",
     "shell.execute_reply": "2023-05-03T00:40:57.938914Z"
    },
    "papermill": {
     "duration": 1.375722,
     "end_time": "2023-05-03T00:40:57.942466",
     "exception": false,
     "start_time": "2023-05-03T00:40:56.566744",
     "status": "completed"
    },
    "tags": []
   },
   "outputs": [
    {
     "name": "stderr",
     "output_type": "stream",
     "text": [
      "/opt/conda/lib/python3.10/site-packages/scipy/__init__.py:146: UserWarning: A NumPy version >=1.16.5 and <1.23.0 is required for this version of SciPy (detected version 1.23.5\n",
      "  warnings.warn(f\"A NumPy version >={np_minversion} and <{np_maxversion}\"\n"
     ]
    },
    {
     "data": {
      "text/html": [
       "<div>\n",
       "<style scoped>\n",
       "    .dataframe tbody tr th:only-of-type {\n",
       "        vertical-align: middle;\n",
       "    }\n",
       "\n",
       "    .dataframe tbody tr th {\n",
       "        vertical-align: top;\n",
       "    }\n",
       "\n",
       "    .dataframe thead th {\n",
       "        text-align: right;\n",
       "    }\n",
       "</style>\n",
       "<table border=\"1\" class=\"dataframe\">\n",
       "  <thead>\n",
       "    <tr style=\"text-align: right;\">\n",
       "      <th></th>\n",
       "      <th>feature</th>\n",
       "      <th>VIF</th>\n",
       "    </tr>\n",
       "  </thead>\n",
       "  <tbody>\n",
       "    <tr>\n",
       "      <th>0</th>\n",
       "      <td>Avg. Session Length</td>\n",
       "      <td>613.185924</td>\n",
       "    </tr>\n",
       "    <tr>\n",
       "      <th>1</th>\n",
       "      <td>Time on App</td>\n",
       "      <td>144.019714</td>\n",
       "    </tr>\n",
       "    <tr>\n",
       "      <th>2</th>\n",
       "      <td>Time on Website</td>\n",
       "      <td>658.495572</td>\n",
       "    </tr>\n",
       "    <tr>\n",
       "      <th>3</th>\n",
       "      <td>Length of Membership</td>\n",
       "      <td>13.578801</td>\n",
       "    </tr>\n",
       "  </tbody>\n",
       "</table>\n",
       "</div>"
      ],
      "text/plain": [
       "                feature         VIF\n",
       "0   Avg. Session Length  613.185924\n",
       "1           Time on App  144.019714\n",
       "2       Time on Website  658.495572\n",
       "3  Length of Membership   13.578801"
      ]
     },
     "execution_count": 12,
     "metadata": {},
     "output_type": "execute_result"
    }
   ],
   "source": [
    "from statsmodels.stats.outliers_influence import variance_inflation_factor\n",
    "\n",
    "vif_data = pd.DataFrame()\n",
    "vif_data[\"feature\"] = X.columns\n",
    "  \n",
    "vif_data[\"VIF\"] = [variance_inflation_factor(X.values, i)\n",
    "                          for i in range(len(X.columns))]\n",
    "\n",
    "vif_data"
   ]
  },
  {
   "cell_type": "markdown",
   "id": "275460fd",
   "metadata": {
    "papermill": {
     "duration": 0.011212,
     "end_time": "2023-05-03T00:40:57.965466",
     "exception": false,
     "start_time": "2023-05-03T00:40:57.954254",
     "status": "completed"
    },
    "tags": []
   },
   "source": [
    "* #### De acuerdo a este análisis la variable \"Length of Membership\" tiene el menor grado de multicolinealidad con otras variables, al contrario de la variable \"Time on Website\" que es la que tiene mayor grado."
   ]
  },
  {
   "cell_type": "markdown",
   "id": "5261d376",
   "metadata": {
    "papermill": {
     "duration": 0.011162,
     "end_time": "2023-05-03T00:40:57.988223",
     "exception": false,
     "start_time": "2023-05-03T00:40:57.977061",
     "status": "completed"
    },
    "tags": []
   },
   "source": [
    "* ### Selección de rasgos"
   ]
  },
  {
   "cell_type": "code",
   "execution_count": 13,
   "id": "fc25c552",
   "metadata": {
    "execution": {
     "iopub.execute_input": "2023-05-03T00:40:58.013849Z",
     "iopub.status.busy": "2023-05-03T00:40:58.013381Z",
     "iopub.status.idle": "2023-05-03T00:40:58.577594Z",
     "shell.execute_reply": "2023-05-03T00:40:58.576419Z"
    },
    "papermill": {
     "duration": 0.580411,
     "end_time": "2023-05-03T00:40:58.580076",
     "exception": false,
     "start_time": "2023-05-03T00:40:57.999665",
     "status": "completed"
    },
    "tags": []
   },
   "outputs": [],
   "source": [
    "from sklearn.feature_selection import RFE\n",
    "from sklearn.svm import SVR  "
   ]
  },
  {
   "cell_type": "code",
   "execution_count": 14,
   "id": "a4b30a42",
   "metadata": {
    "execution": {
     "iopub.execute_input": "2023-05-03T00:40:58.606336Z",
     "iopub.status.busy": "2023-05-03T00:40:58.605045Z",
     "iopub.status.idle": "2023-05-03T00:40:58.766119Z",
     "shell.execute_reply": "2023-05-03T00:40:58.764997Z"
    },
    "papermill": {
     "duration": 0.176784,
     "end_time": "2023-05-03T00:40:58.768533",
     "exception": false,
     "start_time": "2023-05-03T00:40:58.591749",
     "status": "completed"
    },
    "tags": []
   },
   "outputs": [
    {
     "data": {
      "text/html": [
       "<div>\n",
       "<style scoped>\n",
       "    .dataframe tbody tr th:only-of-type {\n",
       "        vertical-align: middle;\n",
       "    }\n",
       "\n",
       "    .dataframe tbody tr th {\n",
       "        vertical-align: top;\n",
       "    }\n",
       "\n",
       "    .dataframe thead th {\n",
       "        text-align: right;\n",
       "    }\n",
       "</style>\n",
       "<table border=\"1\" class=\"dataframe\">\n",
       "  <thead>\n",
       "    <tr style=\"text-align: right;\">\n",
       "      <th></th>\n",
       "      <th>columns</th>\n",
       "      <th>support</th>\n",
       "      <th>ranking</th>\n",
       "    </tr>\n",
       "  </thead>\n",
       "  <tbody>\n",
       "    <tr>\n",
       "      <th>0</th>\n",
       "      <td>Avg. Session Length</td>\n",
       "      <td>False</td>\n",
       "      <td>3</td>\n",
       "    </tr>\n",
       "    <tr>\n",
       "      <th>1</th>\n",
       "      <td>Time on App</td>\n",
       "      <td>False</td>\n",
       "      <td>2</td>\n",
       "    </tr>\n",
       "    <tr>\n",
       "      <th>2</th>\n",
       "      <td>Time on Website</td>\n",
       "      <td>False</td>\n",
       "      <td>4</td>\n",
       "    </tr>\n",
       "    <tr>\n",
       "      <th>3</th>\n",
       "      <td>Length of Membership</td>\n",
       "      <td>True</td>\n",
       "      <td>1</td>\n",
       "    </tr>\n",
       "  </tbody>\n",
       "</table>\n",
       "</div>"
      ],
      "text/plain": [
       "                columns  support  ranking\n",
       "0   Avg. Session Length    False        3\n",
       "1           Time on App    False        2\n",
       "2       Time on Website    False        4\n",
       "3  Length of Membership     True        1"
      ]
     },
     "metadata": {},
     "output_type": "display_data"
    },
    {
     "data": {
      "text/html": [
       "<div>\n",
       "<style scoped>\n",
       "    .dataframe tbody tr th:only-of-type {\n",
       "        vertical-align: middle;\n",
       "    }\n",
       "\n",
       "    .dataframe tbody tr th {\n",
       "        vertical-align: top;\n",
       "    }\n",
       "\n",
       "    .dataframe thead th {\n",
       "        text-align: right;\n",
       "    }\n",
       "</style>\n",
       "<table border=\"1\" class=\"dataframe\">\n",
       "  <thead>\n",
       "    <tr style=\"text-align: right;\">\n",
       "      <th></th>\n",
       "      <th>columns</th>\n",
       "      <th>support</th>\n",
       "      <th>ranking</th>\n",
       "    </tr>\n",
       "  </thead>\n",
       "  <tbody>\n",
       "    <tr>\n",
       "      <th>0</th>\n",
       "      <td>Avg. Session Length</td>\n",
       "      <td>False</td>\n",
       "      <td>2</td>\n",
       "    </tr>\n",
       "    <tr>\n",
       "      <th>1</th>\n",
       "      <td>Time on App</td>\n",
       "      <td>True</td>\n",
       "      <td>1</td>\n",
       "    </tr>\n",
       "    <tr>\n",
       "      <th>2</th>\n",
       "      <td>Time on Website</td>\n",
       "      <td>False</td>\n",
       "      <td>3</td>\n",
       "    </tr>\n",
       "    <tr>\n",
       "      <th>3</th>\n",
       "      <td>Length of Membership</td>\n",
       "      <td>True</td>\n",
       "      <td>1</td>\n",
       "    </tr>\n",
       "  </tbody>\n",
       "</table>\n",
       "</div>"
      ],
      "text/plain": [
       "                columns  support  ranking\n",
       "0   Avg. Session Length    False        2\n",
       "1           Time on App     True        1\n",
       "2       Time on Website    False        3\n",
       "3  Length of Membership     True        1"
      ]
     },
     "metadata": {},
     "output_type": "display_data"
    },
    {
     "data": {
      "text/html": [
       "<div>\n",
       "<style scoped>\n",
       "    .dataframe tbody tr th:only-of-type {\n",
       "        vertical-align: middle;\n",
       "    }\n",
       "\n",
       "    .dataframe tbody tr th {\n",
       "        vertical-align: top;\n",
       "    }\n",
       "\n",
       "    .dataframe thead th {\n",
       "        text-align: right;\n",
       "    }\n",
       "</style>\n",
       "<table border=\"1\" class=\"dataframe\">\n",
       "  <thead>\n",
       "    <tr style=\"text-align: right;\">\n",
       "      <th></th>\n",
       "      <th>columns</th>\n",
       "      <th>support</th>\n",
       "      <th>ranking</th>\n",
       "    </tr>\n",
       "  </thead>\n",
       "  <tbody>\n",
       "    <tr>\n",
       "      <th>0</th>\n",
       "      <td>Avg. Session Length</td>\n",
       "      <td>True</td>\n",
       "      <td>1</td>\n",
       "    </tr>\n",
       "    <tr>\n",
       "      <th>1</th>\n",
       "      <td>Time on App</td>\n",
       "      <td>True</td>\n",
       "      <td>1</td>\n",
       "    </tr>\n",
       "    <tr>\n",
       "      <th>2</th>\n",
       "      <td>Time on Website</td>\n",
       "      <td>False</td>\n",
       "      <td>2</td>\n",
       "    </tr>\n",
       "    <tr>\n",
       "      <th>3</th>\n",
       "      <td>Length of Membership</td>\n",
       "      <td>True</td>\n",
       "      <td>1</td>\n",
       "    </tr>\n",
       "  </tbody>\n",
       "</table>\n",
       "</div>"
      ],
      "text/plain": [
       "                columns  support  ranking\n",
       "0   Avg. Session Length     True        1\n",
       "1           Time on App     True        1\n",
       "2       Time on Website    False        2\n",
       "3  Length of Membership     True        1"
      ]
     },
     "metadata": {},
     "output_type": "display_data"
    }
   ],
   "source": [
    "from IPython.display import display\n",
    "\n",
    "for n in range(1,len(X.columns.values)):\n",
    "    estimator = SVR(kernel=\"linear\")\n",
    "    selector = RFE(estimator, n_features_to_select=n, step=1)\n",
    "    selector = selector.fit(X,Y)\n",
    "    \n",
    "    selector_df = pd.DataFrame(list(zip(X.columns, selector.support_, selector.ranking_)), columns=[\"columns\", \"support\", \"ranking\"])\n",
    "    \n",
    "    display(selector_df)"
   ]
  },
  {
   "cell_type": "markdown",
   "id": "951e840d",
   "metadata": {
    "papermill": {
     "duration": 0.011556,
     "end_time": "2023-05-03T00:40:58.792339",
     "exception": false,
     "start_time": "2023-05-03T00:40:58.780783",
     "status": "completed"
    },
    "tags": []
   },
   "source": [
    "* #### Podemos observar que en caso de querer mejorar el modelo de regresión lineal podemos empezar por quitar del modelo a la variable \"Time on Website\"."
   ]
  },
  {
   "cell_type": "markdown",
   "id": "4c5b9638",
   "metadata": {
    "papermill": {
     "duration": 0.011855,
     "end_time": "2023-05-03T00:40:58.816673",
     "exception": false,
     "start_time": "2023-05-03T00:40:58.804818",
     "status": "completed"
    },
    "tags": []
   },
   "source": [
    "### Separo los datos en datos de entrenamiento y en datos de prueba para el modelo."
   ]
  },
  {
   "cell_type": "code",
   "execution_count": 15,
   "id": "2bd8a952",
   "metadata": {
    "execution": {
     "iopub.execute_input": "2023-05-03T00:40:58.843948Z",
     "iopub.status.busy": "2023-05-03T00:40:58.843464Z",
     "iopub.status.idle": "2023-05-03T00:40:58.848956Z",
     "shell.execute_reply": "2023-05-03T00:40:58.847822Z"
    },
    "papermill": {
     "duration": 0.021946,
     "end_time": "2023-05-03T00:40:58.851202",
     "exception": false,
     "start_time": "2023-05-03T00:40:58.829256",
     "status": "completed"
    },
    "tags": []
   },
   "outputs": [],
   "source": [
    "from sklearn.model_selection import train_test_split"
   ]
  },
  {
   "cell_type": "code",
   "execution_count": 16,
   "id": "137e5310",
   "metadata": {
    "execution": {
     "iopub.execute_input": "2023-05-03T00:40:58.878822Z",
     "iopub.status.busy": "2023-05-03T00:40:58.877876Z",
     "iopub.status.idle": "2023-05-03T00:40:58.885551Z",
     "shell.execute_reply": "2023-05-03T00:40:58.884295Z"
    },
    "papermill": {
     "duration": 0.023629,
     "end_time": "2023-05-03T00:40:58.887855",
     "exception": false,
     "start_time": "2023-05-03T00:40:58.864226",
     "status": "completed"
    },
    "tags": []
   },
   "outputs": [],
   "source": [
    "x_train,x_test,y_train,y_test = train_test_split(X, Y,\n",
    "                                            test_size=0.3,\n",
    "                                            random_state=0)"
   ]
  },
  {
   "cell_type": "markdown",
   "id": "5ff4014b",
   "metadata": {
    "papermill": {
     "duration": 0.011542,
     "end_time": "2023-05-03T00:40:58.912417",
     "exception": false,
     "start_time": "2023-05-03T00:40:58.900875",
     "status": "completed"
    },
    "tags": []
   },
   "source": [
    "### Realizaré una validación cruzada por k-fold."
   ]
  },
  {
   "cell_type": "code",
   "execution_count": 17,
   "id": "e8b6009c",
   "metadata": {
    "execution": {
     "iopub.execute_input": "2023-05-03T00:40:58.938729Z",
     "iopub.status.busy": "2023-05-03T00:40:58.937886Z",
     "iopub.status.idle": "2023-05-03T00:40:58.942704Z",
     "shell.execute_reply": "2023-05-03T00:40:58.941753Z"
    },
    "papermill": {
     "duration": 0.020513,
     "end_time": "2023-05-03T00:40:58.944898",
     "exception": false,
     "start_time": "2023-05-03T00:40:58.924385",
     "status": "completed"
    },
    "tags": []
   },
   "outputs": [],
   "source": [
    "from sklearn.linear_model import LinearRegression\n",
    "from sklearn.model_selection import cross_val_score"
   ]
  },
  {
   "cell_type": "code",
   "execution_count": 18,
   "id": "8c73f4fc",
   "metadata": {
    "execution": {
     "iopub.execute_input": "2023-05-03T00:40:58.972054Z",
     "iopub.status.busy": "2023-05-03T00:40:58.971208Z",
     "iopub.status.idle": "2023-05-03T00:40:59.055639Z",
     "shell.execute_reply": "2023-05-03T00:40:59.054442Z"
    },
    "papermill": {
     "duration": 0.101156,
     "end_time": "2023-05-03T00:40:59.058294",
     "exception": false,
     "start_time": "2023-05-03T00:40:58.957138",
     "status": "completed"
    },
    "tags": []
   },
   "outputs": [
    {
     "data": {
      "text/plain": [
       "0.9825492707486994"
      ]
     },
     "execution_count": 18,
     "metadata": {},
     "output_type": "execute_result"
    }
   ],
   "source": [
    "scores = cross_val_score(LinearRegression(),\n",
    "                        X, Y,\n",
    "                        cv=10)\n",
    "scores.mean()"
   ]
  },
  {
   "cell_type": "markdown",
   "id": "a335ebb0",
   "metadata": {
    "papermill": {
     "duration": 0.012081,
     "end_time": "2023-05-03T00:40:59.083149",
     "exception": false,
     "start_time": "2023-05-03T00:40:59.071068",
     "status": "completed"
    },
    "tags": []
   },
   "source": [
    "* #### La validación cruzada da un score de 98%."
   ]
  },
  {
   "cell_type": "markdown",
   "id": "6a059d83",
   "metadata": {
    "papermill": {
     "duration": 0.012162,
     "end_time": "2023-05-03T00:40:59.108881",
     "exception": false,
     "start_time": "2023-05-03T00:40:59.096719",
     "status": "completed"
    },
    "tags": []
   },
   "source": [
    "> ## Construcción del modelo"
   ]
  },
  {
   "cell_type": "code",
   "execution_count": 19,
   "id": "d317b411",
   "metadata": {
    "execution": {
     "iopub.execute_input": "2023-05-03T00:40:59.134862Z",
     "iopub.status.busy": "2023-05-03T00:40:59.134323Z",
     "iopub.status.idle": "2023-05-03T00:40:59.152203Z",
     "shell.execute_reply": "2023-05-03T00:40:59.150925Z"
    },
    "papermill": {
     "duration": 0.033429,
     "end_time": "2023-05-03T00:40:59.154445",
     "exception": false,
     "start_time": "2023-05-03T00:40:59.121016",
     "status": "completed"
    },
    "tags": []
   },
   "outputs": [
    {
     "data": {
      "text/html": [
       "<style>#sk-container-id-1 {color: black;background-color: white;}#sk-container-id-1 pre{padding: 0;}#sk-container-id-1 div.sk-toggleable {background-color: white;}#sk-container-id-1 label.sk-toggleable__label {cursor: pointer;display: block;width: 100%;margin-bottom: 0;padding: 0.3em;box-sizing: border-box;text-align: center;}#sk-container-id-1 label.sk-toggleable__label-arrow:before {content: \"▸\";float: left;margin-right: 0.25em;color: #696969;}#sk-container-id-1 label.sk-toggleable__label-arrow:hover:before {color: black;}#sk-container-id-1 div.sk-estimator:hover label.sk-toggleable__label-arrow:before {color: black;}#sk-container-id-1 div.sk-toggleable__content {max-height: 0;max-width: 0;overflow: hidden;text-align: left;background-color: #f0f8ff;}#sk-container-id-1 div.sk-toggleable__content pre {margin: 0.2em;color: black;border-radius: 0.25em;background-color: #f0f8ff;}#sk-container-id-1 input.sk-toggleable__control:checked~div.sk-toggleable__content {max-height: 200px;max-width: 100%;overflow: auto;}#sk-container-id-1 input.sk-toggleable__control:checked~label.sk-toggleable__label-arrow:before {content: \"▾\";}#sk-container-id-1 div.sk-estimator input.sk-toggleable__control:checked~label.sk-toggleable__label {background-color: #d4ebff;}#sk-container-id-1 div.sk-label input.sk-toggleable__control:checked~label.sk-toggleable__label {background-color: #d4ebff;}#sk-container-id-1 input.sk-hidden--visually {border: 0;clip: rect(1px 1px 1px 1px);clip: rect(1px, 1px, 1px, 1px);height: 1px;margin: -1px;overflow: hidden;padding: 0;position: absolute;width: 1px;}#sk-container-id-1 div.sk-estimator {font-family: monospace;background-color: #f0f8ff;border: 1px dotted black;border-radius: 0.25em;box-sizing: border-box;margin-bottom: 0.5em;}#sk-container-id-1 div.sk-estimator:hover {background-color: #d4ebff;}#sk-container-id-1 div.sk-parallel-item::after {content: \"\";width: 100%;border-bottom: 1px solid gray;flex-grow: 1;}#sk-container-id-1 div.sk-label:hover label.sk-toggleable__label {background-color: #d4ebff;}#sk-container-id-1 div.sk-serial::before {content: \"\";position: absolute;border-left: 1px solid gray;box-sizing: border-box;top: 0;bottom: 0;left: 50%;z-index: 0;}#sk-container-id-1 div.sk-serial {display: flex;flex-direction: column;align-items: center;background-color: white;padding-right: 0.2em;padding-left: 0.2em;position: relative;}#sk-container-id-1 div.sk-item {position: relative;z-index: 1;}#sk-container-id-1 div.sk-parallel {display: flex;align-items: stretch;justify-content: center;background-color: white;position: relative;}#sk-container-id-1 div.sk-item::before, #sk-container-id-1 div.sk-parallel-item::before {content: \"\";position: absolute;border-left: 1px solid gray;box-sizing: border-box;top: 0;bottom: 0;left: 50%;z-index: -1;}#sk-container-id-1 div.sk-parallel-item {display: flex;flex-direction: column;z-index: 1;position: relative;background-color: white;}#sk-container-id-1 div.sk-parallel-item:first-child::after {align-self: flex-end;width: 50%;}#sk-container-id-1 div.sk-parallel-item:last-child::after {align-self: flex-start;width: 50%;}#sk-container-id-1 div.sk-parallel-item:only-child::after {width: 0;}#sk-container-id-1 div.sk-dashed-wrapped {border: 1px dashed gray;margin: 0 0.4em 0.5em 0.4em;box-sizing: border-box;padding-bottom: 0.4em;background-color: white;}#sk-container-id-1 div.sk-label label {font-family: monospace;font-weight: bold;display: inline-block;line-height: 1.2em;}#sk-container-id-1 div.sk-label-container {text-align: center;}#sk-container-id-1 div.sk-container {/* jupyter's `normalize.less` sets `[hidden] { display: none; }` but bootstrap.min.css set `[hidden] { display: none !important; }` so we also need the `!important` here to be able to override the default hidden behavior on the sphinx rendered scikit-learn.org. See: https://github.com/scikit-learn/scikit-learn/issues/21755 */display: inline-block !important;position: relative;}#sk-container-id-1 div.sk-text-repr-fallback {display: none;}</style><div id=\"sk-container-id-1\" class=\"sk-top-container\"><div class=\"sk-text-repr-fallback\"><pre>LinearRegression()</pre><b>In a Jupyter environment, please rerun this cell to show the HTML representation or trust the notebook. <br />On GitHub, the HTML representation is unable to render, please try loading this page with nbviewer.org.</b></div><div class=\"sk-container\" hidden><div class=\"sk-item\"><div class=\"sk-estimator sk-toggleable\"><input class=\"sk-toggleable__control sk-hidden--visually\" id=\"sk-estimator-id-1\" type=\"checkbox\" checked><label for=\"sk-estimator-id-1\" class=\"sk-toggleable__label sk-toggleable__label-arrow\">LinearRegression</label><div class=\"sk-toggleable__content\"><pre>LinearRegression()</pre></div></div></div></div></div>"
      ],
      "text/plain": [
       "LinearRegression()"
      ]
     },
     "execution_count": 19,
     "metadata": {},
     "output_type": "execute_result"
    }
   ],
   "source": [
    "lr = LinearRegression()\n",
    "lr.fit(x_train,y_train)"
   ]
  },
  {
   "cell_type": "code",
   "execution_count": 20,
   "id": "856ab956",
   "metadata": {
    "execution": {
     "iopub.execute_input": "2023-05-03T00:40:59.181883Z",
     "iopub.status.busy": "2023-05-03T00:40:59.181424Z",
     "iopub.status.idle": "2023-05-03T00:40:59.190737Z",
     "shell.execute_reply": "2023-05-03T00:40:59.189599Z"
    },
    "papermill": {
     "duration": 0.025619,
     "end_time": "2023-05-03T00:40:59.193045",
     "exception": false,
     "start_time": "2023-05-03T00:40:59.167426",
     "status": "completed"
    },
    "tags": []
   },
   "outputs": [
    {
     "data": {
      "text/plain": [
       "0.9849262667370623"
      ]
     },
     "execution_count": 20,
     "metadata": {},
     "output_type": "execute_result"
    }
   ],
   "source": [
    "lr.score(x_test, y_test)"
   ]
  },
  {
   "cell_type": "code",
   "execution_count": 21,
   "id": "e10b7487",
   "metadata": {
    "execution": {
     "iopub.execute_input": "2023-05-03T00:40:59.220405Z",
     "iopub.status.busy": "2023-05-03T00:40:59.219918Z",
     "iopub.status.idle": "2023-05-03T00:40:59.236819Z",
     "shell.execute_reply": "2023-05-03T00:40:59.235583Z"
    },
    "papermill": {
     "duration": 0.033472,
     "end_time": "2023-05-03T00:40:59.239326",
     "exception": false,
     "start_time": "2023-05-03T00:40:59.205854",
     "status": "completed"
    },
    "tags": []
   },
   "outputs": [
    {
     "data": {
      "text/html": [
       "<div>\n",
       "<style scoped>\n",
       "    .dataframe tbody tr th:only-of-type {\n",
       "        vertical-align: middle;\n",
       "    }\n",
       "\n",
       "    .dataframe tbody tr th {\n",
       "        vertical-align: top;\n",
       "    }\n",
       "\n",
       "    .dataframe thead th {\n",
       "        text-align: right;\n",
       "    }\n",
       "</style>\n",
       "<table border=\"1\" class=\"dataframe\">\n",
       "  <thead>\n",
       "    <tr style=\"text-align: right;\">\n",
       "      <th></th>\n",
       "      <th>Predict</th>\n",
       "      <th>Actual</th>\n",
       "    </tr>\n",
       "  </thead>\n",
       "  <tbody>\n",
       "    <tr>\n",
       "      <th>0</th>\n",
       "      <td>438.053618</td>\n",
       "      <td>449.070319</td>\n",
       "    </tr>\n",
       "    <tr>\n",
       "      <th>1</th>\n",
       "      <td>489.885692</td>\n",
       "      <td>482.602467</td>\n",
       "    </tr>\n",
       "    <tr>\n",
       "      <th>2</th>\n",
       "      <td>370.691035</td>\n",
       "      <td>374.269675</td>\n",
       "    </tr>\n",
       "    <tr>\n",
       "      <th>3</th>\n",
       "      <td>514.760391</td>\n",
       "      <td>513.153112</td>\n",
       "    </tr>\n",
       "    <tr>\n",
       "      <th>4</th>\n",
       "      <td>496.718922</td>\n",
       "      <td>502.771075</td>\n",
       "    </tr>\n",
       "    <tr>\n",
       "      <th>...</th>\n",
       "      <td>...</td>\n",
       "      <td>...</td>\n",
       "    </tr>\n",
       "    <tr>\n",
       "      <th>145</th>\n",
       "      <td>591.820087</td>\n",
       "      <td>599.406092</td>\n",
       "    </tr>\n",
       "    <tr>\n",
       "      <th>146</th>\n",
       "      <td>573.233331</td>\n",
       "      <td>564.790969</td>\n",
       "    </tr>\n",
       "    <tr>\n",
       "      <th>147</th>\n",
       "      <td>524.023929</td>\n",
       "      <td>533.040060</td>\n",
       "    </tr>\n",
       "    <tr>\n",
       "      <th>148</th>\n",
       "      <td>395.157380</td>\n",
       "      <td>409.070472</td>\n",
       "    </tr>\n",
       "    <tr>\n",
       "      <th>149</th>\n",
       "      <td>640.762194</td>\n",
       "      <td>637.102448</td>\n",
       "    </tr>\n",
       "  </tbody>\n",
       "</table>\n",
       "<p>150 rows × 2 columns</p>\n",
       "</div>"
      ],
      "text/plain": [
       "        Predict      Actual\n",
       "0    438.053618  449.070319\n",
       "1    489.885692  482.602467\n",
       "2    370.691035  374.269675\n",
       "3    514.760391  513.153112\n",
       "4    496.718922  502.771075\n",
       "..          ...         ...\n",
       "145  591.820087  599.406092\n",
       "146  573.233331  564.790969\n",
       "147  524.023929  533.040060\n",
       "148  395.157380  409.070472\n",
       "149  640.762194  637.102448\n",
       "\n",
       "[150 rows x 2 columns]"
      ]
     },
     "execution_count": 21,
     "metadata": {},
     "output_type": "execute_result"
    }
   ],
   "source": [
    "predict_vs_actual_df = pd.DataFrame(list(zip(lr.predict(x_test), y_test)), columns=[\"Predict\", \"Actual\"])\n",
    "predict_vs_actual_df"
   ]
  },
  {
   "cell_type": "markdown",
   "id": "57a0b1df",
   "metadata": {
    "papermill": {
     "duration": 0.012618,
     "end_time": "2023-05-03T00:40:59.264921",
     "exception": false,
     "start_time": "2023-05-03T00:40:59.252303",
     "status": "completed"
    },
    "tags": []
   },
   "source": [
    "> ### Construcción del modelo con menos variables para corroborar cual es mejor modelo."
   ]
  },
  {
   "cell_type": "code",
   "execution_count": 22,
   "id": "e7338afb",
   "metadata": {
    "execution": {
     "iopub.execute_input": "2023-05-03T00:40:59.293408Z",
     "iopub.status.busy": "2023-05-03T00:40:59.292922Z",
     "iopub.status.idle": "2023-05-03T00:40:59.503224Z",
     "shell.execute_reply": "2023-05-03T00:40:59.501886Z"
    },
    "papermill": {
     "duration": 0.227343,
     "end_time": "2023-05-03T00:40:59.505782",
     "exception": false,
     "start_time": "2023-05-03T00:40:59.278439",
     "status": "completed"
    },
    "tags": []
   },
   "outputs": [
    {
     "data": {
      "text/html": [
       "<div>\n",
       "<style scoped>\n",
       "    .dataframe tbody tr th:only-of-type {\n",
       "        vertical-align: middle;\n",
       "    }\n",
       "\n",
       "    .dataframe tbody tr th {\n",
       "        vertical-align: top;\n",
       "    }\n",
       "\n",
       "    .dataframe thead th {\n",
       "        text-align: right;\n",
       "    }\n",
       "</style>\n",
       "<table border=\"1\" class=\"dataframe\">\n",
       "  <thead>\n",
       "    <tr style=\"text-align: right;\">\n",
       "      <th></th>\n",
       "      <th>0</th>\n",
       "      <th>1</th>\n",
       "      <th>2</th>\n",
       "    </tr>\n",
       "  </thead>\n",
       "  <tbody>\n",
       "    <tr>\n",
       "      <th>0</th>\n",
       "      <td>Avg. Session Length</td>\n",
       "      <td>False</td>\n",
       "      <td>3</td>\n",
       "    </tr>\n",
       "    <tr>\n",
       "      <th>1</th>\n",
       "      <td>Time on App</td>\n",
       "      <td>False</td>\n",
       "      <td>2</td>\n",
       "    </tr>\n",
       "    <tr>\n",
       "      <th>2</th>\n",
       "      <td>Time on Website</td>\n",
       "      <td>False</td>\n",
       "      <td>4</td>\n",
       "    </tr>\n",
       "    <tr>\n",
       "      <th>3</th>\n",
       "      <td>Length of Membership</td>\n",
       "      <td>True</td>\n",
       "      <td>1</td>\n",
       "    </tr>\n",
       "  </tbody>\n",
       "</table>\n",
       "</div>"
      ],
      "text/plain": [
       "                      0      1  2\n",
       "0   Avg. Session Length  False  3\n",
       "1           Time on App  False  2\n",
       "2       Time on Website  False  4\n",
       "3  Length of Membership   True  1"
      ]
     },
     "metadata": {},
     "output_type": "display_data"
    },
    {
     "name": "stdout",
     "output_type": "stream",
     "text": [
      "\n"
     ]
    },
    {
     "data": {
      "text/html": [
       "<div>\n",
       "<style scoped>\n",
       "    .dataframe tbody tr th:only-of-type {\n",
       "        vertical-align: middle;\n",
       "    }\n",
       "\n",
       "    .dataframe tbody tr th {\n",
       "        vertical-align: top;\n",
       "    }\n",
       "\n",
       "    .dataframe thead th {\n",
       "        text-align: right;\n",
       "    }\n",
       "</style>\n",
       "<table border=\"1\" class=\"dataframe\">\n",
       "  <thead>\n",
       "    <tr style=\"text-align: right;\">\n",
       "      <th></th>\n",
       "      <th>Length of Membership</th>\n",
       "    </tr>\n",
       "  </thead>\n",
       "  <tbody>\n",
       "    <tr>\n",
       "      <th>0</th>\n",
       "      <td>4.082621</td>\n",
       "    </tr>\n",
       "    <tr>\n",
       "      <th>1</th>\n",
       "      <td>2.664034</td>\n",
       "    </tr>\n",
       "    <tr>\n",
       "      <th>2</th>\n",
       "      <td>4.104543</td>\n",
       "    </tr>\n",
       "    <tr>\n",
       "      <th>3</th>\n",
       "      <td>3.120179</td>\n",
       "    </tr>\n",
       "    <tr>\n",
       "      <th>4</th>\n",
       "      <td>4.446308</td>\n",
       "    </tr>\n",
       "  </tbody>\n",
       "</table>\n",
       "</div>"
      ],
      "text/plain": [
       "   Length of Membership\n",
       "0              4.082621\n",
       "1              2.664034\n",
       "2              4.104543\n",
       "3              3.120179\n",
       "4              4.446308"
      ]
     },
     "metadata": {},
     "output_type": "display_data"
    },
    {
     "name": "stdout",
     "output_type": "stream",
     "text": [
      "Porcentaje de que tan bien se ajustan los datos de la predicción a los valores reales:  59.83019543807417 %\n",
      "----------------------------------------------------------------------\n"
     ]
    },
    {
     "data": {
      "text/html": [
       "<div>\n",
       "<style scoped>\n",
       "    .dataframe tbody tr th:only-of-type {\n",
       "        vertical-align: middle;\n",
       "    }\n",
       "\n",
       "    .dataframe tbody tr th {\n",
       "        vertical-align: top;\n",
       "    }\n",
       "\n",
       "    .dataframe thead th {\n",
       "        text-align: right;\n",
       "    }\n",
       "</style>\n",
       "<table border=\"1\" class=\"dataframe\">\n",
       "  <thead>\n",
       "    <tr style=\"text-align: right;\">\n",
       "      <th></th>\n",
       "      <th>0</th>\n",
       "      <th>1</th>\n",
       "      <th>2</th>\n",
       "    </tr>\n",
       "  </thead>\n",
       "  <tbody>\n",
       "    <tr>\n",
       "      <th>0</th>\n",
       "      <td>Avg. Session Length</td>\n",
       "      <td>False</td>\n",
       "      <td>2</td>\n",
       "    </tr>\n",
       "    <tr>\n",
       "      <th>1</th>\n",
       "      <td>Time on App</td>\n",
       "      <td>True</td>\n",
       "      <td>1</td>\n",
       "    </tr>\n",
       "    <tr>\n",
       "      <th>2</th>\n",
       "      <td>Time on Website</td>\n",
       "      <td>False</td>\n",
       "      <td>3</td>\n",
       "    </tr>\n",
       "    <tr>\n",
       "      <th>3</th>\n",
       "      <td>Length of Membership</td>\n",
       "      <td>True</td>\n",
       "      <td>1</td>\n",
       "    </tr>\n",
       "  </tbody>\n",
       "</table>\n",
       "</div>"
      ],
      "text/plain": [
       "                      0      1  2\n",
       "0   Avg. Session Length  False  2\n",
       "1           Time on App   True  1\n",
       "2       Time on Website  False  3\n",
       "3  Length of Membership   True  1"
      ]
     },
     "metadata": {},
     "output_type": "display_data"
    },
    {
     "name": "stdout",
     "output_type": "stream",
     "text": [
      "\n"
     ]
    },
    {
     "data": {
      "text/html": [
       "<div>\n",
       "<style scoped>\n",
       "    .dataframe tbody tr th:only-of-type {\n",
       "        vertical-align: middle;\n",
       "    }\n",
       "\n",
       "    .dataframe tbody tr th {\n",
       "        vertical-align: top;\n",
       "    }\n",
       "\n",
       "    .dataframe thead th {\n",
       "        text-align: right;\n",
       "    }\n",
       "</style>\n",
       "<table border=\"1\" class=\"dataframe\">\n",
       "  <thead>\n",
       "    <tr style=\"text-align: right;\">\n",
       "      <th></th>\n",
       "      <th>Time on App</th>\n",
       "      <th>Length of Membership</th>\n",
       "    </tr>\n",
       "  </thead>\n",
       "  <tbody>\n",
       "    <tr>\n",
       "      <th>0</th>\n",
       "      <td>12.655651</td>\n",
       "      <td>4.082621</td>\n",
       "    </tr>\n",
       "    <tr>\n",
       "      <th>1</th>\n",
       "      <td>11.109461</td>\n",
       "      <td>2.664034</td>\n",
       "    </tr>\n",
       "    <tr>\n",
       "      <th>2</th>\n",
       "      <td>11.330278</td>\n",
       "      <td>4.104543</td>\n",
       "    </tr>\n",
       "    <tr>\n",
       "      <th>3</th>\n",
       "      <td>13.717514</td>\n",
       "      <td>3.120179</td>\n",
       "    </tr>\n",
       "    <tr>\n",
       "      <th>4</th>\n",
       "      <td>12.795189</td>\n",
       "      <td>4.446308</td>\n",
       "    </tr>\n",
       "  </tbody>\n",
       "</table>\n",
       "</div>"
      ],
      "text/plain": [
       "   Time on App  Length of Membership\n",
       "0    12.655651              4.082621\n",
       "1    11.109461              2.664034\n",
       "2    11.330278              4.104543\n",
       "3    13.717514              3.120179\n",
       "4    12.795189              4.446308"
      ]
     },
     "metadata": {},
     "output_type": "display_data"
    },
    {
     "name": "stdout",
     "output_type": "stream",
     "text": [
      "Porcentaje de que tan bien se ajustan los datos de la predicción a los valores reales:  85.19067019295848 %\n",
      "----------------------------------------------------------------------\n"
     ]
    },
    {
     "data": {
      "text/html": [
       "<div>\n",
       "<style scoped>\n",
       "    .dataframe tbody tr th:only-of-type {\n",
       "        vertical-align: middle;\n",
       "    }\n",
       "\n",
       "    .dataframe tbody tr th {\n",
       "        vertical-align: top;\n",
       "    }\n",
       "\n",
       "    .dataframe thead th {\n",
       "        text-align: right;\n",
       "    }\n",
       "</style>\n",
       "<table border=\"1\" class=\"dataframe\">\n",
       "  <thead>\n",
       "    <tr style=\"text-align: right;\">\n",
       "      <th></th>\n",
       "      <th>0</th>\n",
       "      <th>1</th>\n",
       "      <th>2</th>\n",
       "    </tr>\n",
       "  </thead>\n",
       "  <tbody>\n",
       "    <tr>\n",
       "      <th>0</th>\n",
       "      <td>Avg. Session Length</td>\n",
       "      <td>True</td>\n",
       "      <td>1</td>\n",
       "    </tr>\n",
       "    <tr>\n",
       "      <th>1</th>\n",
       "      <td>Time on App</td>\n",
       "      <td>True</td>\n",
       "      <td>1</td>\n",
       "    </tr>\n",
       "    <tr>\n",
       "      <th>2</th>\n",
       "      <td>Time on Website</td>\n",
       "      <td>False</td>\n",
       "      <td>2</td>\n",
       "    </tr>\n",
       "    <tr>\n",
       "      <th>3</th>\n",
       "      <td>Length of Membership</td>\n",
       "      <td>True</td>\n",
       "      <td>1</td>\n",
       "    </tr>\n",
       "  </tbody>\n",
       "</table>\n",
       "</div>"
      ],
      "text/plain": [
       "                      0      1  2\n",
       "0   Avg. Session Length   True  1\n",
       "1           Time on App   True  1\n",
       "2       Time on Website  False  2\n",
       "3  Length of Membership   True  1"
      ]
     },
     "metadata": {},
     "output_type": "display_data"
    },
    {
     "name": "stdout",
     "output_type": "stream",
     "text": [
      "\n"
     ]
    },
    {
     "data": {
      "text/html": [
       "<div>\n",
       "<style scoped>\n",
       "    .dataframe tbody tr th:only-of-type {\n",
       "        vertical-align: middle;\n",
       "    }\n",
       "\n",
       "    .dataframe tbody tr th {\n",
       "        vertical-align: top;\n",
       "    }\n",
       "\n",
       "    .dataframe thead th {\n",
       "        text-align: right;\n",
       "    }\n",
       "</style>\n",
       "<table border=\"1\" class=\"dataframe\">\n",
       "  <thead>\n",
       "    <tr style=\"text-align: right;\">\n",
       "      <th></th>\n",
       "      <th>Avg. Session Length</th>\n",
       "      <th>Time on App</th>\n",
       "      <th>Length of Membership</th>\n",
       "    </tr>\n",
       "  </thead>\n",
       "  <tbody>\n",
       "    <tr>\n",
       "      <th>0</th>\n",
       "      <td>34.497268</td>\n",
       "      <td>12.655651</td>\n",
       "      <td>4.082621</td>\n",
       "    </tr>\n",
       "    <tr>\n",
       "      <th>1</th>\n",
       "      <td>31.926272</td>\n",
       "      <td>11.109461</td>\n",
       "      <td>2.664034</td>\n",
       "    </tr>\n",
       "    <tr>\n",
       "      <th>2</th>\n",
       "      <td>33.000915</td>\n",
       "      <td>11.330278</td>\n",
       "      <td>4.104543</td>\n",
       "    </tr>\n",
       "    <tr>\n",
       "      <th>3</th>\n",
       "      <td>34.305557</td>\n",
       "      <td>13.717514</td>\n",
       "      <td>3.120179</td>\n",
       "    </tr>\n",
       "    <tr>\n",
       "      <th>4</th>\n",
       "      <td>33.330673</td>\n",
       "      <td>12.795189</td>\n",
       "      <td>4.446308</td>\n",
       "    </tr>\n",
       "  </tbody>\n",
       "</table>\n",
       "</div>"
      ],
      "text/plain": [
       "   Avg. Session Length  Time on App  Length of Membership\n",
       "0            34.497268    12.655651              4.082621\n",
       "1            31.926272    11.109461              2.664034\n",
       "2            33.000915    11.330278              4.104543\n",
       "3            34.305557    13.717514              3.120179\n",
       "4            33.330673    12.795189              4.446308"
      ]
     },
     "metadata": {},
     "output_type": "display_data"
    },
    {
     "name": "stdout",
     "output_type": "stream",
     "text": [
      "Porcentaje de que tan bien se ajustan los datos de la predicción a los valores reales:  98.49350144694913 %\n",
      "----------------------------------------------------------------------\n"
     ]
    }
   ],
   "source": [
    "for n in range(1,len(X.columns.values)):\n",
    "    estimator = SVR(kernel=\"linear\")\n",
    "    selector = RFE(estimator, n_features_to_select=n, step=1)\n",
    "    selector = selector.fit(X,Y)\n",
    "    \n",
    "    selector_df = pd.DataFrame(list(zip(X.columns, selector.support_, selector.ranking_)))\n",
    "    \n",
    "    display(selector_df)\n",
    "    print()\n",
    "    \n",
    "    X_new = X[selector_df[selector_df[1]==True][0]]\n",
    "    \n",
    "    display(X_new.head())\n",
    "    \n",
    "    x_train,x_test,y_train,y_test = train_test_split(X_new, Y,\n",
    "                                            test_size=0.3,\n",
    "                                            random_state=0)\n",
    "    \n",
    "    lr = LinearRegression()\n",
    "    lr.fit(x_train,y_train)\n",
    "    \n",
    "    print(\"Porcentaje de que tan bien se ajustan los datos de la predicción a los valores reales: \",lr.score(x_test, y_test)*100,\"%\")\n",
    "    \n",
    "    print(\"-\"*70)"
   ]
  },
  {
   "cell_type": "markdown",
   "id": "4f6346ff",
   "metadata": {
    "papermill": {
     "duration": 0.014063,
     "end_time": "2023-05-03T00:40:59.534309",
     "exception": false,
     "start_time": "2023-05-03T00:40:59.520246",
     "status": "completed"
    },
    "tags": []
   },
   "source": [
    "* #### Puedo confirmar que la variable \"Time on Website\" no influye demasiado en la variable objetivo que es cuanto gasta anualmente el cliente. Por lo que también confirmo que se recomienda invertir más en la aplicación que en la web."
   ]
  }
 ],
 "metadata": {
  "kernelspec": {
   "display_name": "Python 3",
   "language": "python",
   "name": "python3"
  },
  "language_info": {
   "codemirror_mode": {
    "name": "ipython",
    "version": 3
   },
   "file_extension": ".py",
   "mimetype": "text/x-python",
   "name": "python",
   "nbconvert_exporter": "python",
   "pygments_lexer": "ipython3",
   "version": "3.10.10"
  },
  "papermill": {
   "default_parameters": {},
   "duration": 17.484162,
   "end_time": "2023-05-03T00:41:00.873646",
   "environment_variables": {},
   "exception": null,
   "input_path": "__notebook__.ipynb",
   "output_path": "__notebook__.ipynb",
   "parameters": {},
   "start_time": "2023-05-03T00:40:43.389484",
   "version": "2.4.0"
  }
 },
 "nbformat": 4,
 "nbformat_minor": 5
}
