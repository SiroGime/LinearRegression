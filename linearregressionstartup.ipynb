{
 "cells": [
  {
   "cell_type": "code",
   "execution_count": 1,
   "metadata": {
    "_cell_guid": "b1076dfc-b9ad-4769-8c92-a6c4dae69d19",
    "_uuid": "8f2839f25d086af736a60e9eeb907d3b93b6e0e5",
    "execution": {
     "iopub.execute_input": "2023-03-13T19:45:46.260507Z",
     "iopub.status.busy": "2023-03-13T19:45:46.259431Z",
     "iopub.status.idle": "2023-03-13T19:45:46.295292Z",
     "shell.execute_reply": "2023-03-13T19:45:46.293780Z",
     "shell.execute_reply.started": "2023-03-13T19:45:46.260456Z"
    }
   },
   "outputs": [
    {
     "name": "stdout",
     "output_type": "stream",
     "text": [
      "/kaggle/input/startup-logistic-regression/50_Startups.csv\n"
     ]
    }
   ],
   "source": [
    "# This Python 3 environment comes with many helpful analytics libraries installed\n",
    "# It is defined by the kaggle/python Docker image: https://github.com/kaggle/docker-python\n",
    "# For example, here's several helpful packages to load\n",
    "\n",
    "import numpy as np # linear algebra\n",
    "import pandas as pd # data processing, CSV file I/O (e.g. pd.read_csv)\n",
    "\n",
    "# Input data files are available in the read-only \"../input/\" directory\n",
    "# For example, running this (by clicking run or pressing Shift+Enter) will list all files under the input directory\n",
    "\n",
    "import os\n",
    "for dirname, _, filenames in os.walk('/kaggle/input'):\n",
    "    for filename in filenames:\n",
    "        print(os.path.join(dirname, filename))\n",
    "\n",
    "# You can write up to 20GB to the current directory (/kaggle/working/) that gets preserved as output when you create a version using \"Save & Run All\" \n",
    "# You can also write temporary files to /kaggle/temp/, but they won't be saved outside of the current session"
   ]
  },
  {
   "cell_type": "markdown",
   "metadata": {},
   "source": [
    "> ## Recolección de los datos."
   ]
  },
  {
   "cell_type": "code",
   "execution_count": 2,
   "metadata": {
    "execution": {
     "iopub.execute_input": "2023-03-13T19:45:46.297704Z",
     "iopub.status.busy": "2023-03-13T19:45:46.297326Z",
     "iopub.status.idle": "2023-03-13T19:45:46.338915Z",
     "shell.execute_reply": "2023-03-13T19:45:46.337307Z",
     "shell.execute_reply.started": "2023-03-13T19:45:46.297668Z"
    }
   },
   "outputs": [
    {
     "data": {
      "text/html": [
       "<div>\n",
       "<style scoped>\n",
       "    .dataframe tbody tr th:only-of-type {\n",
       "        vertical-align: middle;\n",
       "    }\n",
       "\n",
       "    .dataframe tbody tr th {\n",
       "        vertical-align: top;\n",
       "    }\n",
       "\n",
       "    .dataframe thead th {\n",
       "        text-align: right;\n",
       "    }\n",
       "</style>\n",
       "<table border=\"1\" class=\"dataframe\">\n",
       "  <thead>\n",
       "    <tr style=\"text-align: right;\">\n",
       "      <th></th>\n",
       "      <th>R&amp;D Spend</th>\n",
       "      <th>Administration</th>\n",
       "      <th>Marketing Spend</th>\n",
       "      <th>State</th>\n",
       "      <th>Profit</th>\n",
       "    </tr>\n",
       "  </thead>\n",
       "  <tbody>\n",
       "    <tr>\n",
       "      <th>0</th>\n",
       "      <td>165349.20</td>\n",
       "      <td>136897.80</td>\n",
       "      <td>471784.10</td>\n",
       "      <td>New York</td>\n",
       "      <td>192261.83</td>\n",
       "    </tr>\n",
       "    <tr>\n",
       "      <th>1</th>\n",
       "      <td>162597.70</td>\n",
       "      <td>151377.59</td>\n",
       "      <td>443898.53</td>\n",
       "      <td>California</td>\n",
       "      <td>191792.06</td>\n",
       "    </tr>\n",
       "    <tr>\n",
       "      <th>2</th>\n",
       "      <td>153441.51</td>\n",
       "      <td>101145.55</td>\n",
       "      <td>407934.54</td>\n",
       "      <td>Florida</td>\n",
       "      <td>191050.39</td>\n",
       "    </tr>\n",
       "    <tr>\n",
       "      <th>3</th>\n",
       "      <td>144372.41</td>\n",
       "      <td>118671.85</td>\n",
       "      <td>383199.62</td>\n",
       "      <td>New York</td>\n",
       "      <td>182901.99</td>\n",
       "    </tr>\n",
       "    <tr>\n",
       "      <th>4</th>\n",
       "      <td>142107.34</td>\n",
       "      <td>91391.77</td>\n",
       "      <td>366168.42</td>\n",
       "      <td>Florida</td>\n",
       "      <td>166187.94</td>\n",
       "    </tr>\n",
       "  </tbody>\n",
       "</table>\n",
       "</div>"
      ],
      "text/plain": [
       "   R&D Spend  Administration  Marketing Spend       State     Profit\n",
       "0  165349.20       136897.80        471784.10    New York  192261.83\n",
       "1  162597.70       151377.59        443898.53  California  191792.06\n",
       "2  153441.51       101145.55        407934.54     Florida  191050.39\n",
       "3  144372.41       118671.85        383199.62    New York  182901.99\n",
       "4  142107.34        91391.77        366168.42     Florida  166187.94"
      ]
     },
     "execution_count": 2,
     "metadata": {},
     "output_type": "execute_result"
    }
   ],
   "source": [
    "data = pd.read_csv(\"/kaggle/input/startup-logistic-regression/50_Startups.csv\")\n",
    "data.head()"
   ]
  },
  {
   "cell_type": "markdown",
   "metadata": {},
   "source": [
    "> ## Exploración de datos (EDA)"
   ]
  },
  {
   "cell_type": "code",
   "execution_count": 3,
   "metadata": {
    "execution": {
     "iopub.execute_input": "2023-03-13T19:45:46.340969Z",
     "iopub.status.busy": "2023-03-13T19:45:46.340590Z",
     "iopub.status.idle": "2023-03-13T19:45:46.349186Z",
     "shell.execute_reply": "2023-03-13T19:45:46.347697Z",
     "shell.execute_reply.started": "2023-03-13T19:45:46.340932Z"
    }
   },
   "outputs": [
    {
     "data": {
      "text/plain": [
       "(50, 5)"
      ]
     },
     "execution_count": 3,
     "metadata": {},
     "output_type": "execute_result"
    }
   ],
   "source": [
    "data.shape"
   ]
  },
  {
   "cell_type": "code",
   "execution_count": 4,
   "metadata": {
    "execution": {
     "iopub.execute_input": "2023-03-13T19:45:46.352444Z",
     "iopub.status.busy": "2023-03-13T19:45:46.352055Z",
     "iopub.status.idle": "2023-03-13T19:45:46.362075Z",
     "shell.execute_reply": "2023-03-13T19:45:46.360566Z",
     "shell.execute_reply.started": "2023-03-13T19:45:46.352408Z"
    }
   },
   "outputs": [
    {
     "data": {
      "text/plain": [
       "array(['R&D Spend', 'Administration', 'Marketing Spend', 'State',\n",
       "       'Profit'], dtype=object)"
      ]
     },
     "execution_count": 4,
     "metadata": {},
     "output_type": "execute_result"
    }
   ],
   "source": [
    "data.columns.values"
   ]
  },
  {
   "cell_type": "code",
   "execution_count": 5,
   "metadata": {
    "execution": {
     "iopub.execute_input": "2023-03-13T19:45:46.364210Z",
     "iopub.status.busy": "2023-03-13T19:45:46.363731Z",
     "iopub.status.idle": "2023-03-13T19:45:46.376398Z",
     "shell.execute_reply": "2023-03-13T19:45:46.374960Z",
     "shell.execute_reply.started": "2023-03-13T19:45:46.364158Z"
    }
   },
   "outputs": [
    {
     "data": {
      "text/plain": [
       "R&D Spend          0\n",
       "Administration     0\n",
       "Marketing Spend    0\n",
       "State              0\n",
       "Profit             0\n",
       "dtype: int64"
      ]
     },
     "execution_count": 5,
     "metadata": {},
     "output_type": "execute_result"
    }
   ],
   "source": [
    "data.isnull().sum()"
   ]
  },
  {
   "cell_type": "code",
   "execution_count": 6,
   "metadata": {
    "execution": {
     "iopub.execute_input": "2023-03-13T19:45:46.378492Z",
     "iopub.status.busy": "2023-03-13T19:45:46.378036Z",
     "iopub.status.idle": "2023-03-13T19:45:46.391077Z",
     "shell.execute_reply": "2023-03-13T19:45:46.388523Z",
     "shell.execute_reply.started": "2023-03-13T19:45:46.378440Z"
    }
   },
   "outputs": [
    {
     "data": {
      "text/plain": [
       "R&D Spend          float64\n",
       "Administration     float64\n",
       "Marketing Spend    float64\n",
       "State               object\n",
       "Profit             float64\n",
       "dtype: object"
      ]
     },
     "execution_count": 6,
     "metadata": {},
     "output_type": "execute_result"
    }
   ],
   "source": [
    "data.dtypes"
   ]
  },
  {
   "cell_type": "code",
   "execution_count": 7,
   "metadata": {
    "execution": {
     "iopub.execute_input": "2023-03-13T19:45:46.393471Z",
     "iopub.status.busy": "2023-03-13T19:45:46.393104Z",
     "iopub.status.idle": "2023-03-13T19:45:46.418074Z",
     "shell.execute_reply": "2023-03-13T19:45:46.416793Z",
     "shell.execute_reply.started": "2023-03-13T19:45:46.393433Z"
    }
   },
   "outputs": [
    {
     "name": "stdout",
     "output_type": "stream",
     "text": [
      "<class 'pandas.core.frame.DataFrame'>\n",
      "RangeIndex: 50 entries, 0 to 49\n",
      "Data columns (total 5 columns):\n",
      " #   Column           Non-Null Count  Dtype  \n",
      "---  ------           --------------  -----  \n",
      " 0   R&D Spend        50 non-null     float64\n",
      " 1   Administration   50 non-null     float64\n",
      " 2   Marketing Spend  50 non-null     float64\n",
      " 3   State            50 non-null     object \n",
      " 4   Profit           50 non-null     float64\n",
      "dtypes: float64(4), object(1)\n",
      "memory usage: 2.1+ KB\n"
     ]
    }
   ],
   "source": [
    "data.info()"
   ]
  },
  {
   "cell_type": "code",
   "execution_count": 8,
   "metadata": {
    "execution": {
     "iopub.execute_input": "2023-03-13T19:45:46.420484Z",
     "iopub.status.busy": "2023-03-13T19:45:46.420079Z",
     "iopub.status.idle": "2023-03-13T19:45:46.450356Z",
     "shell.execute_reply": "2023-03-13T19:45:46.448940Z",
     "shell.execute_reply.started": "2023-03-13T19:45:46.420436Z"
    }
   },
   "outputs": [
    {
     "data": {
      "text/html": [
       "<div>\n",
       "<style scoped>\n",
       "    .dataframe tbody tr th:only-of-type {\n",
       "        vertical-align: middle;\n",
       "    }\n",
       "\n",
       "    .dataframe tbody tr th {\n",
       "        vertical-align: top;\n",
       "    }\n",
       "\n",
       "    .dataframe thead th {\n",
       "        text-align: right;\n",
       "    }\n",
       "</style>\n",
       "<table border=\"1\" class=\"dataframe\">\n",
       "  <thead>\n",
       "    <tr style=\"text-align: right;\">\n",
       "      <th></th>\n",
       "      <th>R&amp;D Spend</th>\n",
       "      <th>Administration</th>\n",
       "      <th>Marketing Spend</th>\n",
       "      <th>Profit</th>\n",
       "    </tr>\n",
       "  </thead>\n",
       "  <tbody>\n",
       "    <tr>\n",
       "      <th>count</th>\n",
       "      <td>50.000000</td>\n",
       "      <td>50.000000</td>\n",
       "      <td>50.000000</td>\n",
       "      <td>50.000000</td>\n",
       "    </tr>\n",
       "    <tr>\n",
       "      <th>mean</th>\n",
       "      <td>73721.615600</td>\n",
       "      <td>121344.639600</td>\n",
       "      <td>211025.097800</td>\n",
       "      <td>112012.639200</td>\n",
       "    </tr>\n",
       "    <tr>\n",
       "      <th>std</th>\n",
       "      <td>45902.256482</td>\n",
       "      <td>28017.802755</td>\n",
       "      <td>122290.310726</td>\n",
       "      <td>40306.180338</td>\n",
       "    </tr>\n",
       "    <tr>\n",
       "      <th>min</th>\n",
       "      <td>0.000000</td>\n",
       "      <td>51283.140000</td>\n",
       "      <td>0.000000</td>\n",
       "      <td>14681.400000</td>\n",
       "    </tr>\n",
       "    <tr>\n",
       "      <th>25%</th>\n",
       "      <td>39936.370000</td>\n",
       "      <td>103730.875000</td>\n",
       "      <td>129300.132500</td>\n",
       "      <td>90138.902500</td>\n",
       "    </tr>\n",
       "    <tr>\n",
       "      <th>50%</th>\n",
       "      <td>73051.080000</td>\n",
       "      <td>122699.795000</td>\n",
       "      <td>212716.240000</td>\n",
       "      <td>107978.190000</td>\n",
       "    </tr>\n",
       "    <tr>\n",
       "      <th>75%</th>\n",
       "      <td>101602.800000</td>\n",
       "      <td>144842.180000</td>\n",
       "      <td>299469.085000</td>\n",
       "      <td>139765.977500</td>\n",
       "    </tr>\n",
       "    <tr>\n",
       "      <th>max</th>\n",
       "      <td>165349.200000</td>\n",
       "      <td>182645.560000</td>\n",
       "      <td>471784.100000</td>\n",
       "      <td>192261.830000</td>\n",
       "    </tr>\n",
       "  </tbody>\n",
       "</table>\n",
       "</div>"
      ],
      "text/plain": [
       "           R&D Spend  Administration  Marketing Spend         Profit\n",
       "count      50.000000       50.000000        50.000000      50.000000\n",
       "mean    73721.615600   121344.639600    211025.097800  112012.639200\n",
       "std     45902.256482    28017.802755    122290.310726   40306.180338\n",
       "min         0.000000    51283.140000         0.000000   14681.400000\n",
       "25%     39936.370000   103730.875000    129300.132500   90138.902500\n",
       "50%     73051.080000   122699.795000    212716.240000  107978.190000\n",
       "75%    101602.800000   144842.180000    299469.085000  139765.977500\n",
       "max    165349.200000   182645.560000    471784.100000  192261.830000"
      ]
     },
     "execution_count": 8,
     "metadata": {},
     "output_type": "execute_result"
    }
   ],
   "source": [
    "data.describe()"
   ]
  },
  {
   "cell_type": "code",
   "execution_count": 9,
   "metadata": {
    "execution": {
     "iopub.execute_input": "2023-03-13T19:45:46.452197Z",
     "iopub.status.busy": "2023-03-13T19:45:46.451863Z",
     "iopub.status.idle": "2023-03-13T19:45:46.460956Z",
     "shell.execute_reply": "2023-03-13T19:45:46.459292Z",
     "shell.execute_reply.started": "2023-03-13T19:45:46.452164Z"
    }
   },
   "outputs": [
    {
     "name": "stdout",
     "output_type": "stream",
     "text": [
      "['R&D Spend', 'Administration', 'Marketing Spend', 'Profit'] ['State']\n"
     ]
    }
   ],
   "source": [
    "col_num = [col for col in data.columns if data[col].dtypes not in [\"object\"]]\n",
    "col_cat = [col for col in data.columns if data[col].dtypes in [\"object\"]]\n",
    "print(col_num,col_cat)"
   ]
  },
  {
   "cell_type": "markdown",
   "metadata": {},
   "source": [
    "### Descripción del dataset.\n",
    "* #### El dataset contiene 50 filas y 5 columnas/variables.\n",
    "* #### Hay 5 variables en total de las cuales 1 es una variable independiente categórica y 4 son numéricas, siendo la variable dependiente una de ellas (profit).\n",
    "* #### El dataset no contiene datos nulos ni datos duplicados. "
   ]
  },
  {
   "cell_type": "markdown",
   "metadata": {},
   "source": [
    "> ## Análisis de variables numéricas\n",
    "\n",
    "* ### Variable dependiente (Profit)"
   ]
  },
  {
   "cell_type": "code",
   "execution_count": 10,
   "metadata": {
    "execution": {
     "iopub.execute_input": "2023-03-13T19:45:46.468219Z",
     "iopub.status.busy": "2023-03-13T19:45:46.467463Z",
     "iopub.status.idle": "2023-03-13T19:45:47.594390Z",
     "shell.execute_reply": "2023-03-13T19:45:47.593274Z",
     "shell.execute_reply.started": "2023-03-13T19:45:46.468166Z"
    }
   },
   "outputs": [],
   "source": [
    "import matplotlib.pyplot as plt\n",
    "import seaborn as sns"
   ]
  },
  {
   "cell_type": "code",
   "execution_count": 11,
   "metadata": {
    "execution": {
     "iopub.execute_input": "2023-03-13T19:45:47.595967Z",
     "iopub.status.busy": "2023-03-13T19:45:47.595616Z",
     "iopub.status.idle": "2023-03-13T19:45:47.992821Z",
     "shell.execute_reply": "2023-03-13T19:45:47.991642Z",
     "shell.execute_reply.started": "2023-03-13T19:45:47.595932Z"
    }
   },
   "outputs": [
    {
     "data": {
      "image/png": "[encoded data removed]",
      "text/plain": [
       "<Figure size 1000x400 with 2 Axes>"
      ]
     },
     "metadata": {},
     "output_type": "display_data"
    }
   ],
   "source": [
    "plt.figure(figsize=(10,4))\n",
    "\n",
    "plt.subplot(1,2,1)\n",
    "sns.histplot(data[\"Profit\"], kde=True,)\n",
    "plt.xticks(rotation=60)\n",
    "plt.title(\"Profit histogram\")\n",
    "\n",
    "plt.subplot(1,2,2)\n",
    "sns.boxplot(data[\"Profit\"])\n",
    "plt.title(\"Profit boxplot\")\n",
    "\n",
    "\n",
    "plt.show()"
   ]
  },
  {
   "cell_type": "code",
   "execution_count": 12,
   "metadata": {
    "execution": {
     "iopub.execute_input": "2023-03-13T19:45:47.995022Z",
     "iopub.status.busy": "2023-03-13T19:45:47.994640Z",
     "iopub.status.idle": "2023-03-13T19:45:48.007307Z",
     "shell.execute_reply": "2023-03-13T19:45:48.005877Z",
     "shell.execute_reply.started": "2023-03-13T19:45:47.994987Z"
    }
   },
   "outputs": [
    {
     "data": {
      "text/plain": [
       "count        50.000000\n",
       "mean     112012.639200\n",
       "std       40306.180338\n",
       "min       14681.400000\n",
       "25%       90138.902500\n",
       "50%      107978.190000\n",
       "75%      139765.977500\n",
       "max      192261.830000\n",
       "Name: Profit, dtype: float64"
      ]
     },
     "execution_count": 12,
     "metadata": {},
     "output_type": "execute_result"
    }
   ],
   "source": [
    "data[\"Profit\"].describe()"
   ]
  },
  {
   "cell_type": "markdown",
   "metadata": {},
   "source": [
    "### Descripción de la variable dependiente.\n",
    "* #### El histograma presenta una distribución simetrica de los datos.\n",
    "* #### La media de las ganancias es de 112.000 con una desviación de 40.306.\n",
    "* #### El 75% de las empresas tienen una ganancia de hasta 140.000. El 15% restante tiene una ganancia de entre 140.000 y 192.000."
   ]
  },
  {
   "cell_type": "markdown",
   "metadata": {},
   "source": [
    "* ### Variables independientes."
   ]
  },
  {
   "cell_type": "code",
   "execution_count": 13,
   "metadata": {
    "execution": {
     "iopub.execute_input": "2023-03-13T19:45:48.009453Z",
     "iopub.status.busy": "2023-03-13T19:45:48.009101Z",
     "iopub.status.idle": "2023-03-13T19:45:49.055545Z",
     "shell.execute_reply": "2023-03-13T19:45:49.052663Z",
     "shell.execute_reply.started": "2023-03-13T19:45:48.009421Z"
    }
   },
   "outputs": [
    {
     "data": {
      "image/png": "[encoded data removed]",
      "text/plain": [
       "<Figure size 1000x400 with 2 Axes>"
      ]
     },
     "metadata": {},
     "output_type": "display_data"
    },
    {
     "data": {
      "image/png": "[encoded data removed]",
      "text/plain": [
       "<Figure size 1000x400 with 2 Axes>"
      ]
     },
     "metadata": {},
     "output_type": "display_data"
    },
    {
     "data": {
      "image/png": "[encoded data removed]",
      "text/plain": [
       "<Figure size 1000x400 with 2 Axes>"
      ]
     },
     "metadata": {},
     "output_type": "display_data"
    }
   ],
   "source": [
    "for col in col_num:\n",
    "    if col != \"Profit\":\n",
    "        plt.figure(figsize=(10,4))\n",
    "\n",
    "        plt.subplot(1,2,1)\n",
    "        sns.histplot(data[col],kde=True,color=\"green\")\n",
    "        plt.xticks(rotation=60)\n",
    "        plt.title(col+\" Distribution Plot\")\n",
    "\n",
    "        plt.subplot(1,2,2)\n",
    "        sns.boxplot(data[col],color=\"green\")\n",
    "        plt.title(col+\" Boxplot\")\n",
    "\n",
    "        plt.show()"
   ]
  },
  {
   "cell_type": "code",
   "execution_count": 14,
   "metadata": {
    "execution": {
     "iopub.execute_input": "2023-03-13T19:45:49.058431Z",
     "iopub.status.busy": "2023-03-13T19:45:49.057618Z",
     "iopub.status.idle": "2023-03-13T19:45:49.081838Z",
     "shell.execute_reply": "2023-03-13T19:45:49.080441Z",
     "shell.execute_reply.started": "2023-03-13T19:45:49.058378Z"
    }
   },
   "outputs": [
    {
     "data": {
      "text/html": [
       "<div>\n",
       "<style scoped>\n",
       "    .dataframe tbody tr th:only-of-type {\n",
       "        vertical-align: middle;\n",
       "    }\n",
       "\n",
       "    .dataframe tbody tr th {\n",
       "        vertical-align: top;\n",
       "    }\n",
       "\n",
       "    .dataframe thead th {\n",
       "        text-align: right;\n",
       "    }\n",
       "</style>\n",
       "<table border=\"1\" class=\"dataframe\">\n",
       "  <thead>\n",
       "    <tr style=\"text-align: right;\">\n",
       "      <th></th>\n",
       "      <th>R&amp;D Spend</th>\n",
       "      <th>Administration</th>\n",
       "      <th>Marketing Spend</th>\n",
       "    </tr>\n",
       "  </thead>\n",
       "  <tbody>\n",
       "    <tr>\n",
       "      <th>count</th>\n",
       "      <td>50.000000</td>\n",
       "      <td>50.000000</td>\n",
       "      <td>50.000000</td>\n",
       "    </tr>\n",
       "    <tr>\n",
       "      <th>mean</th>\n",
       "      <td>73721.615600</td>\n",
       "      <td>121344.639600</td>\n",
       "      <td>211025.097800</td>\n",
       "    </tr>\n",
       "    <tr>\n",
       "      <th>std</th>\n",
       "      <td>45902.256482</td>\n",
       "      <td>28017.802755</td>\n",
       "      <td>122290.310726</td>\n",
       "    </tr>\n",
       "    <tr>\n",
       "      <th>min</th>\n",
       "      <td>0.000000</td>\n",
       "      <td>51283.140000</td>\n",
       "      <td>0.000000</td>\n",
       "    </tr>\n",
       "    <tr>\n",
       "      <th>25%</th>\n",
       "      <td>39936.370000</td>\n",
       "      <td>103730.875000</td>\n",
       "      <td>129300.132500</td>\n",
       "    </tr>\n",
       "    <tr>\n",
       "      <th>50%</th>\n",
       "      <td>73051.080000</td>\n",
       "      <td>122699.795000</td>\n",
       "      <td>212716.240000</td>\n",
       "    </tr>\n",
       "    <tr>\n",
       "      <th>75%</th>\n",
       "      <td>101602.800000</td>\n",
       "      <td>144842.180000</td>\n",
       "      <td>299469.085000</td>\n",
       "    </tr>\n",
       "    <tr>\n",
       "      <th>max</th>\n",
       "      <td>165349.200000</td>\n",
       "      <td>182645.560000</td>\n",
       "      <td>471784.100000</td>\n",
       "    </tr>\n",
       "  </tbody>\n",
       "</table>\n",
       "</div>"
      ],
      "text/plain": [
       "           R&D Spend  Administration  Marketing Spend\n",
       "count      50.000000       50.000000        50.000000\n",
       "mean    73721.615600   121344.639600    211025.097800\n",
       "std     45902.256482    28017.802755    122290.310726\n",
       "min         0.000000    51283.140000         0.000000\n",
       "25%     39936.370000   103730.875000    129300.132500\n",
       "50%     73051.080000   122699.795000    212716.240000\n",
       "75%    101602.800000   144842.180000    299469.085000\n",
       "max    165349.200000   182645.560000    471784.100000"
      ]
     },
     "execution_count": 14,
     "metadata": {},
     "output_type": "execute_result"
    }
   ],
   "source": [
    "data[col_num].iloc[:,:3].describe()"
   ]
  },
  {
   "cell_type": "markdown",
   "metadata": {},
   "source": [
    "### Descripción variables independientes numéricas.\n",
    "* #### Las mayorías de las empresas invierten la media en las areas de Investigación y Desarrollo, Administración y Marketing.\n",
    "* #### La inversión media del area de Investigación y desarrollo es de 73.721, en el area de Administración es de 121.344, y en el area de Marketing es de 211.000. \n",
    "* #### La inversión minima que hacen cada empresa en su area de Administración es de 51.280, mientras que en el área de Investigación y Desarrollo y Marketing es de 0."
   ]
  },
  {
   "cell_type": "markdown",
   "metadata": {},
   "source": [
    "* #### Análisis de las variables independientes númericas contra la variable dependiente."
   ]
  },
  {
   "cell_type": "code",
   "execution_count": 15,
   "metadata": {
    "execution": {
     "iopub.execute_input": "2023-03-13T19:45:49.084562Z",
     "iopub.status.busy": "2023-03-13T19:45:49.083700Z",
     "iopub.status.idle": "2023-03-13T19:45:49.711805Z",
     "shell.execute_reply": "2023-03-13T19:45:49.710793Z",
     "shell.execute_reply.started": "2023-03-13T19:45:49.084513Z"
    }
   },
   "outputs": [
    {
     "data": {
      "image/png": "[encoded data removed]",
      "text/plain": [
       "<Figure size 600x400 with 1 Axes>"
      ]
     },
     "metadata": {},
     "output_type": "display_data"
    },
    {
     "data": {
      "image/png": "[encoded data removed]",
      "text/plain": [
       "<Figure size 600x400 with 1 Axes>"
      ]
     },
     "metadata": {},
     "output_type": "display_data"
    },
    {
     "data": {
      "image/png": "[encoded data removed]",
      "text/plain": [
       "<Figure size 600x400 with 1 Axes>"
      ]
     },
     "metadata": {},
     "output_type": "display_data"
    }
   ],
   "source": [
    "for col in col_num:\n",
    "    if col != \"Profit\":\n",
    "        plt.figure(figsize=(6,4))\n",
    "\n",
    "        plt.scatter(x=data[col],y=data[\"Profit\"])\n",
    "        plt.ylabel(\"Profit\")\n",
    "        plt.xlabel(col)\n",
    "\n",
    "        plt.show()"
   ]
  },
  {
   "cell_type": "code",
   "execution_count": 16,
   "metadata": {
    "execution": {
     "iopub.execute_input": "2023-03-13T19:45:49.714391Z",
     "iopub.status.busy": "2023-03-13T19:45:49.713244Z",
     "iopub.status.idle": "2023-03-13T19:45:49.728852Z",
     "shell.execute_reply": "2023-03-13T19:45:49.727525Z",
     "shell.execute_reply.started": "2023-03-13T19:45:49.714343Z"
    }
   },
   "outputs": [
    {
     "data": {
      "text/html": [
       "<div>\n",
       "<style scoped>\n",
       "    .dataframe tbody tr th:only-of-type {\n",
       "        vertical-align: middle;\n",
       "    }\n",
       "\n",
       "    .dataframe tbody tr th {\n",
       "        vertical-align: top;\n",
       "    }\n",
       "\n",
       "    .dataframe thead th {\n",
       "        text-align: right;\n",
       "    }\n",
       "</style>\n",
       "<table border=\"1\" class=\"dataframe\">\n",
       "  <thead>\n",
       "    <tr style=\"text-align: right;\">\n",
       "      <th></th>\n",
       "      <th>R&amp;D Spend</th>\n",
       "      <th>Administration</th>\n",
       "      <th>Marketing Spend</th>\n",
       "      <th>Profit</th>\n",
       "    </tr>\n",
       "  </thead>\n",
       "  <tbody>\n",
       "    <tr>\n",
       "      <th>R&amp;D Spend</th>\n",
       "      <td>1.000000</td>\n",
       "      <td>0.241955</td>\n",
       "      <td>0.724248</td>\n",
       "      <td>0.972900</td>\n",
       "    </tr>\n",
       "    <tr>\n",
       "      <th>Administration</th>\n",
       "      <td>0.241955</td>\n",
       "      <td>1.000000</td>\n",
       "      <td>-0.032154</td>\n",
       "      <td>0.200717</td>\n",
       "    </tr>\n",
       "    <tr>\n",
       "      <th>Marketing Spend</th>\n",
       "      <td>0.724248</td>\n",
       "      <td>-0.032154</td>\n",
       "      <td>1.000000</td>\n",
       "      <td>0.747766</td>\n",
       "    </tr>\n",
       "    <tr>\n",
       "      <th>Profit</th>\n",
       "      <td>0.972900</td>\n",
       "      <td>0.200717</td>\n",
       "      <td>0.747766</td>\n",
       "      <td>1.000000</td>\n",
       "    </tr>\n",
       "  </tbody>\n",
       "</table>\n",
       "</div>"
      ],
      "text/plain": [
       "                 R&D Spend  Administration  Marketing Spend    Profit\n",
       "R&D Spend         1.000000        0.241955         0.724248  0.972900\n",
       "Administration    0.241955        1.000000        -0.032154  0.200717\n",
       "Marketing Spend   0.724248       -0.032154         1.000000  0.747766\n",
       "Profit            0.972900        0.200717         0.747766  1.000000"
      ]
     },
     "execution_count": 16,
     "metadata": {},
     "output_type": "execute_result"
    }
   ],
   "source": [
    "data[col_num].corr()"
   ]
  },
  {
   "cell_type": "markdown",
   "metadata": {},
   "source": [
    "### Descripción de correlaciones de variables numéricas con la variable dependiente.\n",
    "* #### Las variable R&D spend tiene una correlación con la variable dependiente de un 97%.\n",
    "* #### La variable Marketing Spend tiene una correlación con la variable dependiente de un 74%.\n",
    "* #### Sin embargo podemos ir observando que entre estas dos variables mencionadas anteriormente describen una multicolinealidad al tener un grado de 72% de correlación entre ellas."
   ]
  },
  {
   "cell_type": "markdown",
   "metadata": {},
   "source": [
    "> ## Análisis de variables categóricas"
   ]
  },
  {
   "cell_type": "code",
   "execution_count": 17,
   "metadata": {
    "execution": {
     "iopub.execute_input": "2023-03-13T19:45:49.731097Z",
     "iopub.status.busy": "2023-03-13T19:45:49.730483Z",
     "iopub.status.idle": "2023-03-13T19:45:50.062194Z",
     "shell.execute_reply": "2023-03-13T19:45:50.061127Z",
     "shell.execute_reply.started": "2023-03-13T19:45:49.731037Z"
    }
   },
   "outputs": [
    {
     "data": {
      "image/png": "[encoded data removed]",
      "text/plain": [
       "<Figure size 1300x400 with 2 Axes>"
      ]
     },
     "metadata": {},
     "output_type": "display_data"
    }
   ],
   "source": [
    "plt.figure(figsize=(13,4))\n",
    "\n",
    "plt.subplot(1,2,1)\n",
    "sns.countplot(x=data[\"State\"])\n",
    "\n",
    "plt.subplot(1,2,2)\n",
    "sns.boxplot(x=data[\"State\"],y=data[\"Profit\"])\n",
    "\n",
    "plt.show()"
   ]
  },
  {
   "cell_type": "code",
   "execution_count": 18,
   "metadata": {
    "execution": {
     "iopub.execute_input": "2023-03-13T19:45:50.064160Z",
     "iopub.status.busy": "2023-03-13T19:45:50.063834Z",
     "iopub.status.idle": "2023-03-13T19:45:50.072335Z",
     "shell.execute_reply": "2023-03-13T19:45:50.071445Z",
     "shell.execute_reply.started": "2023-03-13T19:45:50.064127Z"
    }
   },
   "outputs": [
    {
     "data": {
      "text/plain": [
       "New York      17\n",
       "California    17\n",
       "Florida       16\n",
       "Name: State, dtype: int64"
      ]
     },
     "execution_count": 18,
     "metadata": {},
     "output_type": "execute_result"
    }
   ],
   "source": [
    "data[\"State\"].value_counts()"
   ]
  },
  {
   "cell_type": "code",
   "execution_count": 19,
   "metadata": {
    "execution": {
     "iopub.execute_input": "2023-03-13T19:45:50.073935Z",
     "iopub.status.busy": "2023-03-13T19:45:50.073574Z",
     "iopub.status.idle": "2023-03-13T19:45:50.085695Z",
     "shell.execute_reply": "2023-03-13T19:45:50.084543Z",
     "shell.execute_reply.started": "2023-03-13T19:45:50.073894Z"
    }
   },
   "outputs": [
    {
     "data": {
      "text/plain": [
       "State\n",
       "California    103905.175294\n",
       "Florida       118774.024375\n",
       "New York      113756.446471\n",
       "Name: Profit, dtype: float64"
      ]
     },
     "execution_count": 19,
     "metadata": {},
     "output_type": "execute_result"
    }
   ],
   "source": [
    "data.groupby(\"State\")[\"Profit\"].mean()"
   ]
  },
  {
   "cell_type": "markdown",
   "metadata": {},
   "source": [
    "### Descripción de la variable categórica\n",
    "* #### Las 50 empresas se distribuyen en los estados de California, Florida y New York.\n",
    "* #### Las empresas en California tienen una ganancia promedio menor al de las empresas en Florida y New York de solo 10000."
   ]
  },
  {
   "cell_type": "markdown",
   "metadata": {},
   "source": [
    "> ## Preprocesado de datos (Data Preprocessing)"
   ]
  },
  {
   "cell_type": "code",
   "execution_count": 20,
   "metadata": {
    "execution": {
     "iopub.execute_input": "2023-03-13T19:45:50.088706Z",
     "iopub.status.busy": "2023-03-13T19:45:50.087406Z",
     "iopub.status.idle": "2023-03-13T19:45:50.102532Z",
     "shell.execute_reply": "2023-03-13T19:45:50.101267Z",
     "shell.execute_reply.started": "2023-03-13T19:45:50.088669Z"
    }
   },
   "outputs": [
    {
     "data": {
      "text/html": [
       "<div>\n",
       "<style scoped>\n",
       "    .dataframe tbody tr th:only-of-type {\n",
       "        vertical-align: middle;\n",
       "    }\n",
       "\n",
       "    .dataframe tbody tr th {\n",
       "        vertical-align: top;\n",
       "    }\n",
       "\n",
       "    .dataframe thead th {\n",
       "        text-align: right;\n",
       "    }\n",
       "</style>\n",
       "<table border=\"1\" class=\"dataframe\">\n",
       "  <thead>\n",
       "    <tr style=\"text-align: right;\">\n",
       "      <th></th>\n",
       "      <th>R&amp;D Spend</th>\n",
       "      <th>Administration</th>\n",
       "      <th>Marketing Spend</th>\n",
       "      <th>State</th>\n",
       "      <th>Profit</th>\n",
       "    </tr>\n",
       "  </thead>\n",
       "  <tbody>\n",
       "    <tr>\n",
       "      <th>0</th>\n",
       "      <td>165349.20</td>\n",
       "      <td>136897.80</td>\n",
       "      <td>471784.10</td>\n",
       "      <td>New York</td>\n",
       "      <td>192261.83</td>\n",
       "    </tr>\n",
       "    <tr>\n",
       "      <th>1</th>\n",
       "      <td>162597.70</td>\n",
       "      <td>151377.59</td>\n",
       "      <td>443898.53</td>\n",
       "      <td>California</td>\n",
       "      <td>191792.06</td>\n",
       "    </tr>\n",
       "    <tr>\n",
       "      <th>2</th>\n",
       "      <td>153441.51</td>\n",
       "      <td>101145.55</td>\n",
       "      <td>407934.54</td>\n",
       "      <td>Florida</td>\n",
       "      <td>191050.39</td>\n",
       "    </tr>\n",
       "    <tr>\n",
       "      <th>3</th>\n",
       "      <td>144372.41</td>\n",
       "      <td>118671.85</td>\n",
       "      <td>383199.62</td>\n",
       "      <td>New York</td>\n",
       "      <td>182901.99</td>\n",
       "    </tr>\n",
       "    <tr>\n",
       "      <th>4</th>\n",
       "      <td>142107.34</td>\n",
       "      <td>91391.77</td>\n",
       "      <td>366168.42</td>\n",
       "      <td>Florida</td>\n",
       "      <td>166187.94</td>\n",
       "    </tr>\n",
       "  </tbody>\n",
       "</table>\n",
       "</div>"
      ],
      "text/plain": [
       "   R&D Spend  Administration  Marketing Spend       State     Profit\n",
       "0  165349.20       136897.80        471784.10    New York  192261.83\n",
       "1  162597.70       151377.59        443898.53  California  191792.06\n",
       "2  153441.51       101145.55        407934.54     Florida  191050.39\n",
       "3  144372.41       118671.85        383199.62    New York  182901.99\n",
       "4  142107.34        91391.77        366168.42     Florida  166187.94"
      ]
     },
     "execution_count": 20,
     "metadata": {},
     "output_type": "execute_result"
    }
   ],
   "source": [
    "data.head()"
   ]
  },
  {
   "cell_type": "markdown",
   "metadata": {},
   "source": [
    "* #### A las variables categóricas las transformo en variables dummies."
   ]
  },
  {
   "cell_type": "code",
   "execution_count": 21,
   "metadata": {
    "execution": {
     "iopub.execute_input": "2023-03-13T19:45:50.104639Z",
     "iopub.status.busy": "2023-03-13T19:45:50.104130Z",
     "iopub.status.idle": "2023-03-13T19:45:50.125119Z",
     "shell.execute_reply": "2023-03-13T19:45:50.123830Z",
     "shell.execute_reply.started": "2023-03-13T19:45:50.104592Z"
    }
   },
   "outputs": [
    {
     "data": {
      "text/html": [
       "<div>\n",
       "<style scoped>\n",
       "    .dataframe tbody tr th:only-of-type {\n",
       "        vertical-align: middle;\n",
       "    }\n",
       "\n",
       "    .dataframe tbody tr th {\n",
       "        vertical-align: top;\n",
       "    }\n",
       "\n",
       "    .dataframe thead th {\n",
       "        text-align: right;\n",
       "    }\n",
       "</style>\n",
       "<table border=\"1\" class=\"dataframe\">\n",
       "  <thead>\n",
       "    <tr style=\"text-align: right;\">\n",
       "      <th></th>\n",
       "      <th>R&amp;D Spend</th>\n",
       "      <th>Administration</th>\n",
       "      <th>Marketing Spend</th>\n",
       "      <th>Profit</th>\n",
       "      <th>state_Florida</th>\n",
       "      <th>state_New York</th>\n",
       "    </tr>\n",
       "  </thead>\n",
       "  <tbody>\n",
       "    <tr>\n",
       "      <th>0</th>\n",
       "      <td>165349.20</td>\n",
       "      <td>136897.80</td>\n",
       "      <td>471784.10</td>\n",
       "      <td>192261.83</td>\n",
       "      <td>0</td>\n",
       "      <td>1</td>\n",
       "    </tr>\n",
       "    <tr>\n",
       "      <th>1</th>\n",
       "      <td>162597.70</td>\n",
       "      <td>151377.59</td>\n",
       "      <td>443898.53</td>\n",
       "      <td>191792.06</td>\n",
       "      <td>0</td>\n",
       "      <td>0</td>\n",
       "    </tr>\n",
       "    <tr>\n",
       "      <th>2</th>\n",
       "      <td>153441.51</td>\n",
       "      <td>101145.55</td>\n",
       "      <td>407934.54</td>\n",
       "      <td>191050.39</td>\n",
       "      <td>1</td>\n",
       "      <td>0</td>\n",
       "    </tr>\n",
       "    <tr>\n",
       "      <th>3</th>\n",
       "      <td>144372.41</td>\n",
       "      <td>118671.85</td>\n",
       "      <td>383199.62</td>\n",
       "      <td>182901.99</td>\n",
       "      <td>0</td>\n",
       "      <td>1</td>\n",
       "    </tr>\n",
       "    <tr>\n",
       "      <th>4</th>\n",
       "      <td>142107.34</td>\n",
       "      <td>91391.77</td>\n",
       "      <td>366168.42</td>\n",
       "      <td>166187.94</td>\n",
       "      <td>1</td>\n",
       "      <td>0</td>\n",
       "    </tr>\n",
       "  </tbody>\n",
       "</table>\n",
       "</div>"
      ],
      "text/plain": [
       "   R&D Spend  Administration  Marketing Spend     Profit  state_Florida  \\\n",
       "0  165349.20       136897.80        471784.10  192261.83              0   \n",
       "1  162597.70       151377.59        443898.53  191792.06              0   \n",
       "2  153441.51       101145.55        407934.54  191050.39              1   \n",
       "3  144372.41       118671.85        383199.62  182901.99              0   \n",
       "4  142107.34        91391.77        366168.42  166187.94              1   \n",
       "\n",
       "   state_New York  \n",
       "0               1  \n",
       "1               0  \n",
       "2               0  \n",
       "3               1  \n",
       "4               0  "
      ]
     },
     "execution_count": 21,
     "metadata": {},
     "output_type": "execute_result"
    }
   ],
   "source": [
    "state_dummy = pd.get_dummies(data[\"State\"], prefix=\"state\",drop_first=True)\n",
    "data_new = pd.concat([data,state_dummy],axis=1)\n",
    "data_new.drop([\"State\"],axis=1,inplace=True)\n",
    "data_new.head()"
   ]
  },
  {
   "cell_type": "markdown",
   "metadata": {},
   "source": [
    "* #### Chequeo las correlaciones nuevamente con todas las variables."
   ]
  },
  {
   "cell_type": "code",
   "execution_count": 22,
   "metadata": {
    "execution": {
     "iopub.execute_input": "2023-03-13T19:45:50.127405Z",
     "iopub.status.busy": "2023-03-13T19:45:50.126385Z",
     "iopub.status.idle": "2023-03-13T19:45:50.144053Z",
     "shell.execute_reply": "2023-03-13T19:45:50.142791Z",
     "shell.execute_reply.started": "2023-03-13T19:45:50.127353Z"
    }
   },
   "outputs": [
    {
     "data": {
      "text/html": [
       "<div>\n",
       "<style scoped>\n",
       "    .dataframe tbody tr th:only-of-type {\n",
       "        vertical-align: middle;\n",
       "    }\n",
       "\n",
       "    .dataframe tbody tr th {\n",
       "        vertical-align: top;\n",
       "    }\n",
       "\n",
       "    .dataframe thead th {\n",
       "        text-align: right;\n",
       "    }\n",
       "</style>\n",
       "<table border=\"1\" class=\"dataframe\">\n",
       "  <thead>\n",
       "    <tr style=\"text-align: right;\">\n",
       "      <th></th>\n",
       "      <th>R&amp;D Spend</th>\n",
       "      <th>Administration</th>\n",
       "      <th>Marketing Spend</th>\n",
       "      <th>Profit</th>\n",
       "      <th>state_Florida</th>\n",
       "      <th>state_New York</th>\n",
       "    </tr>\n",
       "  </thead>\n",
       "  <tbody>\n",
       "    <tr>\n",
       "      <th>R&amp;D Spend</th>\n",
       "      <td>1.000000</td>\n",
       "      <td>0.241955</td>\n",
       "      <td>0.724248</td>\n",
       "      <td>0.972900</td>\n",
       "      <td>0.105711</td>\n",
       "      <td>0.039068</td>\n",
       "    </tr>\n",
       "    <tr>\n",
       "      <th>Administration</th>\n",
       "      <td>0.241955</td>\n",
       "      <td>1.000000</td>\n",
       "      <td>-0.032154</td>\n",
       "      <td>0.200717</td>\n",
       "      <td>0.010493</td>\n",
       "      <td>0.005145</td>\n",
       "    </tr>\n",
       "    <tr>\n",
       "      <th>Marketing Spend</th>\n",
       "      <td>0.724248</td>\n",
       "      <td>-0.032154</td>\n",
       "      <td>1.000000</td>\n",
       "      <td>0.747766</td>\n",
       "      <td>0.205685</td>\n",
       "      <td>-0.033670</td>\n",
       "    </tr>\n",
       "    <tr>\n",
       "      <th>Profit</th>\n",
       "      <td>0.972900</td>\n",
       "      <td>0.200717</td>\n",
       "      <td>0.747766</td>\n",
       "      <td>1.000000</td>\n",
       "      <td>0.116244</td>\n",
       "      <td>0.031368</td>\n",
       "    </tr>\n",
       "    <tr>\n",
       "      <th>state_Florida</th>\n",
       "      <td>0.105711</td>\n",
       "      <td>0.010493</td>\n",
       "      <td>0.205685</td>\n",
       "      <td>0.116244</td>\n",
       "      <td>1.000000</td>\n",
       "      <td>-0.492366</td>\n",
       "    </tr>\n",
       "    <tr>\n",
       "      <th>state_New York</th>\n",
       "      <td>0.039068</td>\n",
       "      <td>0.005145</td>\n",
       "      <td>-0.033670</td>\n",
       "      <td>0.031368</td>\n",
       "      <td>-0.492366</td>\n",
       "      <td>1.000000</td>\n",
       "    </tr>\n",
       "  </tbody>\n",
       "</table>\n",
       "</div>"
      ],
      "text/plain": [
       "                 R&D Spend  Administration  Marketing Spend    Profit  \\\n",
       "R&D Spend         1.000000        0.241955         0.724248  0.972900   \n",
       "Administration    0.241955        1.000000        -0.032154  0.200717   \n",
       "Marketing Spend   0.724248       -0.032154         1.000000  0.747766   \n",
       "Profit            0.972900        0.200717         0.747766  1.000000   \n",
       "state_Florida     0.105711        0.010493         0.205685  0.116244   \n",
       "state_New York    0.039068        0.005145        -0.033670  0.031368   \n",
       "\n",
       "                 state_Florida  state_New York  \n",
       "R&D Spend             0.105711        0.039068  \n",
       "Administration        0.010493        0.005145  \n",
       "Marketing Spend       0.205685       -0.033670  \n",
       "Profit                0.116244        0.031368  \n",
       "state_Florida         1.000000       -0.492366  \n",
       "state_New York       -0.492366        1.000000  "
      ]
     },
     "execution_count": 22,
     "metadata": {},
     "output_type": "execute_result"
    }
   ],
   "source": [
    " data_new.corr()"
   ]
  },
  {
   "cell_type": "markdown",
   "metadata": {},
   "source": [
    "* #### Chequeo de las multicolinealidades con el metodo VIF (variance inlation factor)."
   ]
  },
  {
   "cell_type": "code",
   "execution_count": 23,
   "metadata": {
    "execution": {
     "iopub.execute_input": "2023-03-13T19:45:50.146484Z",
     "iopub.status.busy": "2023-03-13T19:45:50.145976Z",
     "iopub.status.idle": "2023-03-13T19:45:50.153932Z",
     "shell.execute_reply": "2023-03-13T19:45:50.152604Z",
     "shell.execute_reply.started": "2023-03-13T19:45:50.146435Z"
    }
   },
   "outputs": [],
   "source": [
    "X = data_new.drop([\"Profit\"],axis=1)\n",
    "Y = data_new[\"Profit\"]"
   ]
  },
  {
   "cell_type": "code",
   "execution_count": 24,
   "metadata": {
    "execution": {
     "iopub.execute_input": "2023-03-13T19:45:50.156117Z",
     "iopub.status.busy": "2023-03-13T19:45:50.155463Z",
     "iopub.status.idle": "2023-03-13T19:45:50.411058Z",
     "shell.execute_reply": "2023-03-13T19:45:50.409839Z",
     "shell.execute_reply.started": "2023-03-13T19:45:50.156071Z"
    }
   },
   "outputs": [
    {
     "data": {
      "text/html": [
       "<div>\n",
       "<style scoped>\n",
       "    .dataframe tbody tr th:only-of-type {\n",
       "        vertical-align: middle;\n",
       "    }\n",
       "\n",
       "    .dataframe tbody tr th {\n",
       "        vertical-align: top;\n",
       "    }\n",
       "\n",
       "    .dataframe thead th {\n",
       "        text-align: right;\n",
       "    }\n",
       "</style>\n",
       "<table border=\"1\" class=\"dataframe\">\n",
       "  <thead>\n",
       "    <tr style=\"text-align: right;\">\n",
       "      <th></th>\n",
       "      <th>VIF</th>\n",
       "      <th>features</th>\n",
       "    </tr>\n",
       "  </thead>\n",
       "  <tbody>\n",
       "    <tr>\n",
       "      <th>0</th>\n",
       "      <td>8.451019</td>\n",
       "      <td>R&amp;D Spend</td>\n",
       "    </tr>\n",
       "    <tr>\n",
       "      <th>1</th>\n",
       "      <td>4.950277</td>\n",
       "      <td>Administration</td>\n",
       "    </tr>\n",
       "    <tr>\n",
       "      <th>2</th>\n",
       "      <td>8.092278</td>\n",
       "      <td>Marketing Spend</td>\n",
       "    </tr>\n",
       "    <tr>\n",
       "      <th>3</th>\n",
       "      <td>2.004519</td>\n",
       "      <td>state_Florida</td>\n",
       "    </tr>\n",
       "    <tr>\n",
       "      <th>4</th>\n",
       "      <td>1.928836</td>\n",
       "      <td>state_New York</td>\n",
       "    </tr>\n",
       "  </tbody>\n",
       "</table>\n",
       "</div>"
      ],
      "text/plain": [
       "        VIF         features\n",
       "0  8.451019        R&D Spend\n",
       "1  4.950277   Administration\n",
       "2  8.092278  Marketing Spend\n",
       "3  2.004519    state_Florida\n",
       "4  1.928836   state_New York"
      ]
     },
     "execution_count": 24,
     "metadata": {},
     "output_type": "execute_result"
    }
   ],
   "source": [
    "from statsmodels.stats.outliers_influence import variance_inflation_factor\n",
    "\n",
    "vif = pd.DataFrame()\n",
    "\n",
    "vif[\"VIF\"] = [variance_inflation_factor(X,i) for i in range(X.shape[1])]\n",
    "vif[\"features\"] = X.columns\n",
    "\n",
    "vif"
   ]
  },
  {
   "cell_type": "markdown",
   "metadata": {},
   "source": [
    "#### No presentan una multicolinealidad importante, por lo tanto no eliminamos ninguna variable del dataset"
   ]
  },
  {
   "cell_type": "markdown",
   "metadata": {},
   "source": [
    "* #### Separo los datos en datos de entrenamiento y datos de pruebas."
   ]
  },
  {
   "cell_type": "code",
   "execution_count": 25,
   "metadata": {
    "execution": {
     "iopub.execute_input": "2023-03-13T19:45:50.419294Z",
     "iopub.status.busy": "2023-03-13T19:45:50.418292Z",
     "iopub.status.idle": "2023-03-13T19:45:50.898502Z",
     "shell.execute_reply": "2023-03-13T19:45:50.897243Z",
     "shell.execute_reply.started": "2023-03-13T19:45:50.419253Z"
    }
   },
   "outputs": [],
   "source": [
    "from sklearn.model_selection import train_test_split"
   ]
  },
  {
   "cell_type": "code",
   "execution_count": 26,
   "metadata": {
    "execution": {
     "iopub.execute_input": "2023-03-13T19:45:50.901849Z",
     "iopub.status.busy": "2023-03-13T19:45:50.901490Z",
     "iopub.status.idle": "2023-03-13T19:45:50.911941Z",
     "shell.execute_reply": "2023-03-13T19:45:50.910824Z",
     "shell.execute_reply.started": "2023-03-13T19:45:50.901814Z"
    }
   },
   "outputs": [],
   "source": [
    "x_train,x_test,y_train,y_test = train_test_split(X,Y,test_size=0.2,random_state=0)"
   ]
  },
  {
   "cell_type": "markdown",
   "metadata": {},
   "source": [
    "> ## Construcción del modelo"
   ]
  },
  {
   "cell_type": "code",
   "execution_count": 27,
   "metadata": {
    "execution": {
     "iopub.execute_input": "2023-03-13T19:45:50.914308Z",
     "iopub.status.busy": "2023-03-13T19:45:50.913430Z",
     "iopub.status.idle": "2023-03-13T19:45:51.018167Z",
     "shell.execute_reply": "2023-03-13T19:45:51.016906Z",
     "shell.execute_reply.started": "2023-03-13T19:45:50.914262Z"
    }
   },
   "outputs": [],
   "source": [
    "from sklearn.linear_model import LinearRegression"
   ]
  },
  {
   "cell_type": "code",
   "execution_count": 28,
   "metadata": {
    "execution": {
     "iopub.execute_input": "2023-03-13T19:45:51.020584Z",
     "iopub.status.busy": "2023-03-13T19:45:51.019855Z",
     "iopub.status.idle": "2023-03-13T19:45:51.037818Z",
     "shell.execute_reply": "2023-03-13T19:45:51.036862Z",
     "shell.execute_reply.started": "2023-03-13T19:45:51.020534Z"
    }
   },
   "outputs": [
    {
     "data": {
      "text/plain": [
       "LinearRegression()"
      ]
     },
     "execution_count": 28,
     "metadata": {},
     "output_type": "execute_result"
    }
   ],
   "source": [
    "lm = LinearRegression()\n",
    "lm.fit(x_train,y_train)"
   ]
  },
  {
   "cell_type": "code",
   "execution_count": 29,
   "metadata": {
    "execution": {
     "iopub.execute_input": "2023-03-13T19:45:51.039979Z",
     "iopub.status.busy": "2023-03-13T19:45:51.038993Z",
     "iopub.status.idle": "2023-03-13T19:45:51.047045Z",
     "shell.execute_reply": "2023-03-13T19:45:51.046042Z",
     "shell.execute_reply.started": "2023-03-13T19:45:51.039931Z"
    }
   },
   "outputs": [],
   "source": [
    "profit_predict = lm.predict(x_test)"
   ]
  },
  {
   "cell_type": "markdown",
   "metadata": {},
   "source": [
    "> ## Evaluación del modelo"
   ]
  },
  {
   "cell_type": "code",
   "execution_count": 30,
   "metadata": {
    "execution": {
     "iopub.execute_input": "2023-03-13T19:45:51.050196Z",
     "iopub.status.busy": "2023-03-13T19:45:51.048978Z",
     "iopub.status.idle": "2023-03-13T19:45:51.067392Z",
     "shell.execute_reply": "2023-03-13T19:45:51.066416Z",
     "shell.execute_reply.started": "2023-03-13T19:45:51.050146Z"
    }
   },
   "outputs": [
    {
     "data": {
      "text/plain": [
       "0.9347068473282424"
      ]
     },
     "execution_count": 30,
     "metadata": {},
     "output_type": "execute_result"
    }
   ],
   "source": [
    "lm.score(x_test,y_test)"
   ]
  },
  {
   "cell_type": "code",
   "execution_count": 31,
   "metadata": {
    "execution": {
     "iopub.execute_input": "2023-03-13T19:45:51.069698Z",
     "iopub.status.busy": "2023-03-13T19:45:51.068946Z",
     "iopub.status.idle": "2023-03-13T19:45:51.081607Z",
     "shell.execute_reply": "2023-03-13T19:45:51.080166Z",
     "shell.execute_reply.started": "2023-03-13T19:45:51.069648Z"
    }
   },
   "outputs": [
    {
     "data": {
      "text/plain": [
       "835028640.3257754"
      ]
     },
     "execution_count": 31,
     "metadata": {},
     "output_type": "execute_result"
    }
   ],
   "source": [
    "SSD = sum((y_test-profit_predict)**2)\n",
    "SSD"
   ]
  },
  {
   "cell_type": "code",
   "execution_count": 32,
   "metadata": {
    "execution": {
     "iopub.execute_input": "2023-03-13T19:45:51.084084Z",
     "iopub.status.busy": "2023-03-13T19:45:51.083344Z",
     "iopub.status.idle": "2023-03-13T19:45:51.272640Z",
     "shell.execute_reply": "2023-03-13T19:45:51.271312Z",
     "shell.execute_reply.started": "2023-03-13T19:45:51.084038Z"
    }
   },
   "outputs": [
    {
     "data": {
      "image/png": "[encoded data removed]",
      "text/plain": [
       "<Figure size 500x300 with 1 Axes>"
      ]
     },
     "metadata": {},
     "output_type": "display_data"
    }
   ],
   "source": [
    "plt.figure(figsize=(5,3))\n",
    "plt.hist(y_test-profit_predict)\n",
    "plt.show()"
   ]
  },
  {
   "cell_type": "code",
   "execution_count": 33,
   "metadata": {
    "execution": {
     "iopub.execute_input": "2023-03-13T19:45:51.275466Z",
     "iopub.status.busy": "2023-03-13T19:45:51.274701Z",
     "iopub.status.idle": "2023-03-13T19:45:51.283147Z",
     "shell.execute_reply": "2023-03-13T19:45:51.281988Z",
     "shell.execute_reply.started": "2023-03-13T19:45:51.275414Z"
    }
   },
   "outputs": [
    {
     "data": {
      "text/plain": [
       "14448.431059511058"
      ]
     },
     "execution_count": 33,
     "metadata": {},
     "output_type": "execute_result"
    }
   ],
   "source": [
    "RSE = np.sqrt(SSD/(len(y_test)-len(x_test.columns)-1))\n",
    "RSE"
   ]
  },
  {
   "cell_type": "code",
   "execution_count": 34,
   "metadata": {
    "execution": {
     "iopub.execute_input": "2023-03-13T19:45:51.285496Z",
     "iopub.status.busy": "2023-03-13T19:45:51.284828Z",
     "iopub.status.idle": "2023-03-13T19:45:51.305965Z",
     "shell.execute_reply": "2023-03-13T19:45:51.304625Z",
     "shell.execute_reply.started": "2023-03-13T19:45:51.285452Z"
    }
   },
   "outputs": [
    {
     "data": {
      "text/plain": [
       "122277.407"
      ]
     },
     "execution_count": 34,
     "metadata": {},
     "output_type": "execute_result"
    }
   ],
   "source": [
    "profit_mean = y_test.mean()\n",
    "profit_mean"
   ]
  },
  {
   "cell_type": "code",
   "execution_count": 35,
   "metadata": {
    "execution": {
     "iopub.execute_input": "2023-03-13T19:45:51.308453Z",
     "iopub.status.busy": "2023-03-13T19:45:51.307704Z",
     "iopub.status.idle": "2023-03-13T19:45:51.319000Z",
     "shell.execute_reply": "2023-03-13T19:45:51.317783Z",
     "shell.execute_reply.started": "2023-03-13T19:45:51.308403Z"
    }
   },
   "outputs": [
    {
     "data": {
      "text/plain": [
       "0.11816108481521086"
      ]
     },
     "execution_count": 35,
     "metadata": {},
     "output_type": "execute_result"
    }
   ],
   "source": [
    "error = RSE/profit_mean\n",
    "error"
   ]
  },
  {
   "cell_type": "markdown",
   "metadata": {},
   "source": [
    "> ## Conclusión del modelo "
   ]
  },
  {
   "cell_type": "markdown",
   "metadata": {},
   "source": [
    "* #### El valor del R2 nos indica que el modelo se ajusta un 93% bien a los datos verdaderos.\n",
    "* #### El valor de RSE nos indica que el error estandar residual es 14448.\n",
    "* #### Tenemos un error de un 11%."
   ]
  },
  {
   "cell_type": "markdown",
   "metadata": {},
   "source": [
    "> ## Correción del modelo"
   ]
  },
  {
   "cell_type": "markdown",
   "metadata": {},
   "source": [
    "#### Voy a utilizar otro metodo para realizar el modelo de regresión lineal utilizando la libreria statsmodels pero esta vez para chequear los p valores de cada variable y chequear el p valor del estadístico f."
   ]
  },
  {
   "cell_type": "code",
   "execution_count": 36,
   "metadata": {
    "execution": {
     "iopub.execute_input": "2023-03-13T19:45:51.321495Z",
     "iopub.status.busy": "2023-03-13T19:45:51.321089Z",
     "iopub.status.idle": "2023-03-13T19:45:51.552283Z",
     "shell.execute_reply": "2023-03-13T19:45:51.551024Z",
     "shell.execute_reply.started": "2023-03-13T19:45:51.321451Z"
    }
   },
   "outputs": [],
   "source": [
    "import statsmodels.formula.api as smf"
   ]
  },
  {
   "cell_type": "code",
   "execution_count": 37,
   "metadata": {
    "execution": {
     "iopub.execute_input": "2023-03-13T19:45:51.554403Z",
     "iopub.status.busy": "2023-03-13T19:45:51.554069Z",
     "iopub.status.idle": "2023-03-13T19:45:51.564819Z",
     "shell.execute_reply": "2023-03-13T19:45:51.563229Z",
     "shell.execute_reply.started": "2023-03-13T19:45:51.554358Z"
    }
   },
   "outputs": [],
   "source": [
    "data_new.rename(columns={\"R&D Spend\": \"RD_Spend\", \"Marketing Spend\":\"Marketing_Spend\",\n",
    "                        \"state_New York\":\"state_New_York\"}, inplace=True)\n",
    "train,test = train_test_split(data_new,test_size=0.2,random_state=0)"
   ]
  },
  {
   "cell_type": "code",
   "execution_count": 38,
   "metadata": {
    "execution": {
     "iopub.execute_input": "2023-03-13T19:45:51.567468Z",
     "iopub.status.busy": "2023-03-13T19:45:51.566669Z",
     "iopub.status.idle": "2023-03-13T19:45:51.590451Z",
     "shell.execute_reply": "2023-03-13T19:45:51.589452Z",
     "shell.execute_reply.started": "2023-03-13T19:45:51.567414Z"
    }
   },
   "outputs": [],
   "source": [
    "lm2 = smf.ols(formula=\"Profit~\"+(\"+\").join(train.drop([\"Profit\"],axis=1).columns), data=train).fit()"
   ]
  },
  {
   "cell_type": "code",
   "execution_count": 39,
   "metadata": {
    "execution": {
     "iopub.execute_input": "2023-03-13T19:45:51.592848Z",
     "iopub.status.busy": "2023-03-13T19:45:51.592081Z",
     "iopub.status.idle": "2023-03-13T19:45:51.628234Z",
     "shell.execute_reply": "2023-03-13T19:45:51.626974Z",
     "shell.execute_reply.started": "2023-03-13T19:45:51.592798Z"
    }
   },
   "outputs": [
    {
     "data": {
      "text/html": [
       "<table class=\"simpletable\">\n",
       "<caption>OLS Regression Results</caption>\n",
       "<tr>\n",
       "  <th>Dep. Variable:</th>         <td>Profit</td>      <th>  R-squared:         </th> <td>   0.950</td>\n",
       "</tr>\n",
       "<tr>\n",
       "  <th>Model:</th>                   <td>OLS</td>       <th>  Adj. R-squared:    </th> <td>   0.943</td>\n",
       "</tr>\n",
       "<tr>\n",
       "  <th>Method:</th>             <td>Least Squares</td>  <th>  F-statistic:       </th> <td>   129.7</td>\n",
       "</tr>\n",
       "<tr>\n",
       "  <th>Date:</th>             <td>Mon, 13 Mar 2023</td> <th>  Prob (F-statistic):</th> <td>3.91e-21</td>\n",
       "</tr>\n",
       "<tr>\n",
       "  <th>Time:</th>                 <td>19:45:51</td>     <th>  Log-Likelihood:    </th> <td> -421.10</td>\n",
       "</tr>\n",
       "<tr>\n",
       "  <th>No. Observations:</th>      <td>    40</td>      <th>  AIC:               </th> <td>   854.2</td>\n",
       "</tr>\n",
       "<tr>\n",
       "  <th>Df Residuals:</th>          <td>    34</td>      <th>  BIC:               </th> <td>   864.3</td>\n",
       "</tr>\n",
       "<tr>\n",
       "  <th>Df Model:</th>              <td>     5</td>      <th>                     </th>     <td> </td>   \n",
       "</tr>\n",
       "<tr>\n",
       "  <th>Covariance Type:</th>      <td>nonrobust</td>    <th>                     </th>     <td> </td>   \n",
       "</tr>\n",
       "</table>\n",
       "<table class=\"simpletable\">\n",
       "<tr>\n",
       "         <td></td>            <th>coef</th>     <th>std err</th>      <th>t</th>      <th>P>|t|</th>  <th>[0.025</th>    <th>0.975]</th>  \n",
       "</tr>\n",
       "<tr>\n",
       "  <th>Intercept</th>       <td> 4.255e+04</td> <td> 8358.538</td> <td>    5.091</td> <td> 0.000</td> <td> 2.56e+04</td> <td> 5.95e+04</td>\n",
       "</tr>\n",
       "<tr>\n",
       "  <th>RD_Spend</th>        <td>    0.7735</td> <td>    0.055</td> <td>   14.025</td> <td> 0.000</td> <td>    0.661</td> <td>    0.886</td>\n",
       "</tr>\n",
       "<tr>\n",
       "  <th>Administration</th>  <td>    0.0329</td> <td>    0.066</td> <td>    0.495</td> <td> 0.624</td> <td>   -0.102</td> <td>    0.168</td>\n",
       "</tr>\n",
       "<tr>\n",
       "  <th>Marketing_Spend</th> <td>    0.0366</td> <td>    0.019</td> <td>    1.884</td> <td> 0.068</td> <td>   -0.003</td> <td>    0.076</td>\n",
       "</tr>\n",
       "<tr>\n",
       "  <th>state_Florida</th>   <td> -959.2842</td> <td> 4038.108</td> <td>   -0.238</td> <td> 0.814</td> <td>-9165.706</td> <td> 7247.138</td>\n",
       "</tr>\n",
       "<tr>\n",
       "  <th>state_New_York</th>  <td>  699.3691</td> <td> 3661.563</td> <td>    0.191</td> <td> 0.850</td> <td>-6741.822</td> <td> 8140.560</td>\n",
       "</tr>\n",
       "</table>\n",
       "<table class=\"simpletable\">\n",
       "<tr>\n",
       "  <th>Omnibus:</th>       <td>15.823</td> <th>  Durbin-Watson:     </th> <td>   2.468</td>\n",
       "</tr>\n",
       "<tr>\n",
       "  <th>Prob(Omnibus):</th> <td> 0.000</td> <th>  Jarque-Bera (JB):  </th> <td>  23.231</td>\n",
       "</tr>\n",
       "<tr>\n",
       "  <th>Skew:</th>          <td>-1.094</td> <th>  Prob(JB):          </th> <td>9.03e-06</td>\n",
       "</tr>\n",
       "<tr>\n",
       "  <th>Kurtosis:</th>      <td> 6.025</td> <th>  Cond. No.          </th> <td>1.49e+06</td>\n",
       "</tr>\n",
       "</table><br/><br/>Notes:<br/>[1] Standard Errors assume that the covariance matrix of the errors is correctly specified.<br/>[2] The condition number is large, 1.49e+06. This might indicate that there are<br/>strong multicollinearity or other numerical problems."
      ],
      "text/plain": [
       "<class 'statsmodels.iolib.summary.Summary'>\n",
       "\"\"\"\n",
       "                            OLS Regression Results                            \n",
       "==============================================================================\n",
       "Dep. Variable:                 Profit   R-squared:                       0.950\n",
       "Model:                            OLS   Adj. R-squared:                  0.943\n",
       "Method:                 Least Squares   F-statistic:                     129.7\n",
       "Date:                Mon, 13 Mar 2023   Prob (F-statistic):           3.91e-21\n",
       "Time:                        19:45:51   Log-Likelihood:                -421.10\n",
       "No. Observations:                  40   AIC:                             854.2\n",
       "Df Residuals:                      34   BIC:                             864.3\n",
       "Df Model:                           5                                         \n",
       "Covariance Type:            nonrobust                                         \n",
       "===================================================================================\n",
       "                      coef    std err          t      P>|t|      [0.025      0.975]\n",
       "-----------------------------------------------------------------------------------\n",
       "Intercept        4.255e+04   8358.538      5.091      0.000    2.56e+04    5.95e+04\n",
       "RD_Spend            0.7735      0.055     14.025      0.000       0.661       0.886\n",
       "Administration      0.0329      0.066      0.495      0.624      -0.102       0.168\n",
       "Marketing_Spend     0.0366      0.019      1.884      0.068      -0.003       0.076\n",
       "state_Florida    -959.2842   4038.108     -0.238      0.814   -9165.706    7247.138\n",
       "state_New_York    699.3691   3661.563      0.191      0.850   -6741.822    8140.560\n",
       "==============================================================================\n",
       "Omnibus:                       15.823   Durbin-Watson:                   2.468\n",
       "Prob(Omnibus):                  0.000   Jarque-Bera (JB):               23.231\n",
       "Skew:                          -1.094   Prob(JB):                     9.03e-06\n",
       "Kurtosis:                       6.025   Cond. No.                     1.49e+06\n",
       "==============================================================================\n",
       "\n",
       "Notes:\n",
       "[1] Standard Errors assume that the covariance matrix of the errors is correctly specified.\n",
       "[2] The condition number is large, 1.49e+06. This might indicate that there are\n",
       "strong multicollinearity or other numerical problems.\n",
       "\"\"\""
      ]
     },
     "execution_count": 39,
     "metadata": {},
     "output_type": "execute_result"
    }
   ],
   "source": [
    "lm2.summary()"
   ]
  },
  {
   "cell_type": "markdown",
   "metadata": {},
   "source": [
    "* #### El p valor del estadístico f es muy pequeño, por lo tanto rechazamos la hipotesis nula de que todos los coeficientes que acompañan a las variables son 0.\n",
    "* #### Observando los p valores de cada variable puedo ver que las variables Administration, Marketing_Spend, state_Florida y state_New_York tienen un alto p valor mayor a 0,05 que es el nivel de significación por ende acepto la hipotesis nula de que el coeficiente que acompaña a estos valores es 0. \n",
    "* ### También concluyo de que lo que más ganancia va a dar a una empresa es invertir en Investigación y desarrollo."
   ]
  },
  {
   "cell_type": "code",
   "execution_count": 40,
   "metadata": {
    "execution": {
     "iopub.execute_input": "2023-03-13T19:45:51.630724Z",
     "iopub.status.busy": "2023-03-13T19:45:51.629983Z",
     "iopub.status.idle": "2023-03-13T19:45:51.647394Z",
     "shell.execute_reply": "2023-03-13T19:45:51.645828Z",
     "shell.execute_reply.started": "2023-03-13T19:45:51.630673Z"
    }
   },
   "outputs": [
    {
     "data": {
      "text/html": [
       "<div>\n",
       "<style scoped>\n",
       "    .dataframe tbody tr th:only-of-type {\n",
       "        vertical-align: middle;\n",
       "    }\n",
       "\n",
       "    .dataframe tbody tr th {\n",
       "        vertical-align: top;\n",
       "    }\n",
       "\n",
       "    .dataframe thead th {\n",
       "        text-align: right;\n",
       "    }\n",
       "</style>\n",
       "<table border=\"1\" class=\"dataframe\">\n",
       "  <thead>\n",
       "    <tr style=\"text-align: right;\">\n",
       "      <th></th>\n",
       "      <th>RD_Spend</th>\n",
       "      <th>Administration</th>\n",
       "      <th>Marketing_Spend</th>\n",
       "      <th>Profit</th>\n",
       "      <th>state_Florida</th>\n",
       "      <th>state_New_York</th>\n",
       "    </tr>\n",
       "  </thead>\n",
       "  <tbody>\n",
       "    <tr>\n",
       "      <th>0</th>\n",
       "      <td>165349.20</td>\n",
       "      <td>136897.80</td>\n",
       "      <td>471784.10</td>\n",
       "      <td>192261.83</td>\n",
       "      <td>0</td>\n",
       "      <td>1</td>\n",
       "    </tr>\n",
       "    <tr>\n",
       "      <th>1</th>\n",
       "      <td>162597.70</td>\n",
       "      <td>151377.59</td>\n",
       "      <td>443898.53</td>\n",
       "      <td>191792.06</td>\n",
       "      <td>0</td>\n",
       "      <td>0</td>\n",
       "    </tr>\n",
       "    <tr>\n",
       "      <th>2</th>\n",
       "      <td>153441.51</td>\n",
       "      <td>101145.55</td>\n",
       "      <td>407934.54</td>\n",
       "      <td>191050.39</td>\n",
       "      <td>1</td>\n",
       "      <td>0</td>\n",
       "    </tr>\n",
       "    <tr>\n",
       "      <th>3</th>\n",
       "      <td>144372.41</td>\n",
       "      <td>118671.85</td>\n",
       "      <td>383199.62</td>\n",
       "      <td>182901.99</td>\n",
       "      <td>0</td>\n",
       "      <td>1</td>\n",
       "    </tr>\n",
       "    <tr>\n",
       "      <th>4</th>\n",
       "      <td>142107.34</td>\n",
       "      <td>91391.77</td>\n",
       "      <td>366168.42</td>\n",
       "      <td>166187.94</td>\n",
       "      <td>1</td>\n",
       "      <td>0</td>\n",
       "    </tr>\n",
       "  </tbody>\n",
       "</table>\n",
       "</div>"
      ],
      "text/plain": [
       "    RD_Spend  Administration  Marketing_Spend     Profit  state_Florida  \\\n",
       "0  165349.20       136897.80        471784.10  192261.83              0   \n",
       "1  162597.70       151377.59        443898.53  191792.06              0   \n",
       "2  153441.51       101145.55        407934.54  191050.39              1   \n",
       "3  144372.41       118671.85        383199.62  182901.99              0   \n",
       "4  142107.34        91391.77        366168.42  166187.94              1   \n",
       "\n",
       "   state_New_York  \n",
       "0               1  \n",
       "1               0  \n",
       "2               0  \n",
       "3               1  \n",
       "4               0  "
      ]
     },
     "execution_count": 40,
     "metadata": {},
     "output_type": "execute_result"
    }
   ],
   "source": [
    "data_new.head()"
   ]
  },
  {
   "cell_type": "code",
   "execution_count": 41,
   "metadata": {
    "execution": {
     "iopub.execute_input": "2023-03-13T19:45:51.650105Z",
     "iopub.status.busy": "2023-03-13T19:45:51.649549Z",
     "iopub.status.idle": "2023-03-13T19:45:51.657175Z",
     "shell.execute_reply": "2023-03-13T19:45:51.656050Z",
     "shell.execute_reply.started": "2023-03-13T19:45:51.650055Z"
    }
   },
   "outputs": [],
   "source": [
    "X = data_new.drop([\"Profit\", \"Administration\", \"Marketing_Spend\",\n",
    "                  \"state_Florida\", \"state_New_York\"], axis=1)\n",
    "Y = data_new[\"Profit\"]"
   ]
  },
  {
   "cell_type": "code",
   "execution_count": 42,
   "metadata": {
    "execution": {
     "iopub.execute_input": "2023-03-13T19:45:51.658802Z",
     "iopub.status.busy": "2023-03-13T19:45:51.658363Z",
     "iopub.status.idle": "2023-03-13T19:45:51.673618Z",
     "shell.execute_reply": "2023-03-13T19:45:51.672560Z",
     "shell.execute_reply.started": "2023-03-13T19:45:51.658760Z"
    }
   },
   "outputs": [],
   "source": [
    "x_train,x_test,y_train,y_test = train_test_split(X,Y,test_size=0.2,random_state=0)"
   ]
  },
  {
   "cell_type": "code",
   "execution_count": 43,
   "metadata": {
    "execution": {
     "iopub.execute_input": "2023-03-13T19:45:51.676262Z",
     "iopub.status.busy": "2023-03-13T19:45:51.675518Z",
     "iopub.status.idle": "2023-03-13T19:45:51.690887Z",
     "shell.execute_reply": "2023-03-13T19:45:51.689692Z",
     "shell.execute_reply.started": "2023-03-13T19:45:51.676224Z"
    }
   },
   "outputs": [
    {
     "data": {
      "text/plain": [
       "LinearRegression()"
      ]
     },
     "execution_count": 43,
     "metadata": {},
     "output_type": "execute_result"
    }
   ],
   "source": [
    "lm = LinearRegression()\n",
    "lm.fit(x_train,y_train)"
   ]
  },
  {
   "cell_type": "code",
   "execution_count": 44,
   "metadata": {
    "execution": {
     "iopub.execute_input": "2023-03-13T19:45:51.693458Z",
     "iopub.status.busy": "2023-03-13T19:45:51.692693Z",
     "iopub.status.idle": "2023-03-13T19:45:51.699763Z",
     "shell.execute_reply": "2023-03-13T19:45:51.698788Z",
     "shell.execute_reply.started": "2023-03-13T19:45:51.693422Z"
    }
   },
   "outputs": [],
   "source": [
    "profit_predict = lm.predict(x_test)"
   ]
  },
  {
   "cell_type": "code",
   "execution_count": 45,
   "metadata": {
    "execution": {
     "iopub.execute_input": "2023-03-13T19:45:51.702034Z",
     "iopub.status.busy": "2023-03-13T19:45:51.701298Z",
     "iopub.status.idle": "2023-03-13T19:45:51.712583Z",
     "shell.execute_reply": "2023-03-13T19:45:51.711235Z",
     "shell.execute_reply.started": "2023-03-13T19:45:51.701998Z"
    }
   },
   "outputs": [
    {
     "data": {
      "text/plain": [
       "0.9464587607787219"
      ]
     },
     "execution_count": 45,
     "metadata": {},
     "output_type": "execute_result"
    }
   ],
   "source": [
    "lm.score(x_test,y_test)"
   ]
  },
  {
   "cell_type": "code",
   "execution_count": 46,
   "metadata": {
    "execution": {
     "iopub.execute_input": "2023-03-13T19:45:51.715060Z",
     "iopub.status.busy": "2023-03-13T19:45:51.714335Z",
     "iopub.status.idle": "2023-03-13T19:45:51.721796Z",
     "shell.execute_reply": "2023-03-13T19:45:51.720869Z",
     "shell.execute_reply.started": "2023-03-13T19:45:51.715023Z"
    }
   },
   "outputs": [
    {
     "data": {
      "text/plain": [
       "684734407.1905932"
      ]
     },
     "execution_count": 46,
     "metadata": {},
     "output_type": "execute_result"
    }
   ],
   "source": [
    "SSD = sum((y_test-profit_predict)**2)\n",
    "SSD"
   ]
  },
  {
   "cell_type": "code",
   "execution_count": 47,
   "metadata": {
    "execution": {
     "iopub.execute_input": "2023-03-13T19:45:51.723487Z",
     "iopub.status.busy": "2023-03-13T19:45:51.723137Z",
     "iopub.status.idle": "2023-03-13T19:45:51.935985Z",
     "shell.execute_reply": "2023-03-13T19:45:51.934518Z",
     "shell.execute_reply.started": "2023-03-13T19:45:51.723455Z"
    }
   },
   "outputs": [
    {
     "data": {
      "image/png": "[encoded data removed]",
      "text/plain": [
       "<Figure size 500x300 with 1 Axes>"
      ]
     },
     "metadata": {},
     "output_type": "display_data"
    }
   ],
   "source": [
    "plt.figure(figsize=(5,3))\n",
    "plt.hist(y_test-profit_predict)\n",
    "plt.show()"
   ]
  },
  {
   "cell_type": "code",
   "execution_count": 48,
   "metadata": {
    "execution": {
     "iopub.execute_input": "2023-03-13T19:45:51.938108Z",
     "iopub.status.busy": "2023-03-13T19:45:51.937599Z",
     "iopub.status.idle": "2023-03-13T19:45:51.948726Z",
     "shell.execute_reply": "2023-03-13T19:45:51.947339Z",
     "shell.execute_reply.started": "2023-03-13T19:45:51.938058Z"
    }
   },
   "outputs": [
    {
     "data": {
      "text/plain": [
       "9251.58369679614"
      ]
     },
     "execution_count": 48,
     "metadata": {},
     "output_type": "execute_result"
    }
   ],
   "source": [
    "RSE = np.sqrt(SSD/(len(y_test)-len(x_test.columns)-1))\n",
    "RSE"
   ]
  },
  {
   "cell_type": "code",
   "execution_count": 49,
   "metadata": {
    "execution": {
     "iopub.execute_input": "2023-03-13T19:45:51.950342Z",
     "iopub.status.busy": "2023-03-13T19:45:51.949909Z",
     "iopub.status.idle": "2023-03-13T19:45:51.962615Z",
     "shell.execute_reply": "2023-03-13T19:45:51.961323Z",
     "shell.execute_reply.started": "2023-03-13T19:45:51.950293Z"
    }
   },
   "outputs": [
    {
     "data": {
      "text/plain": [
       "122277.407"
      ]
     },
     "execution_count": 49,
     "metadata": {},
     "output_type": "execute_result"
    }
   ],
   "source": [
    "profit_mean = y_test.mean()\n",
    "profit_mean"
   ]
  },
  {
   "cell_type": "code",
   "execution_count": 50,
   "metadata": {
    "execution": {
     "iopub.execute_input": "2023-03-13T19:45:51.966354Z",
     "iopub.status.busy": "2023-03-13T19:45:51.965677Z",
     "iopub.status.idle": "2023-03-13T19:45:51.981053Z",
     "shell.execute_reply": "2023-03-13T19:45:51.979314Z",
     "shell.execute_reply.started": "2023-03-13T19:45:51.966316Z"
    }
   },
   "outputs": [
    {
     "data": {
      "text/plain": [
       "0.07566061403964953"
      ]
     },
     "execution_count": 50,
     "metadata": {},
     "output_type": "execute_result"
    }
   ],
   "source": [
    "error = RSE/profit_mean\n",
    "error"
   ]
  },
  {
   "cell_type": "markdown",
   "metadata": {},
   "source": [
    "### Conclusión del nuevo modelo.\n",
    "* #### El R2 es de 94%, un poco más ajustado que el modelo anterior.\n",
    "* #### El error estandar residual es de 9251, inferior al del modelo anterior.\n",
    "* #### Y tenemos un 7% de error, un error que el modelo no puede explicar, también inferior al del modelo anterior."
   ]
  }
 ],
 "metadata": {
  "kernelspec": {
   "display_name": "Python 3 (ipykernel)",
   "language": "python",
   "name": "python3"
  },
  "language_info": {
   "codemirror_mode": {
    "name": "ipython",
    "version": 3
   },
   "file_extension": ".py",
   "mimetype": "text/x-python",
   "name": "python",
   "nbconvert_exporter": "python",
   "pygments_lexer": "ipython3",
   "version": "3.9.13"
  }
 },
 "nbformat": 4,
 "nbformat_minor": 4
}
